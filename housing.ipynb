{
 "cells": [
  {
   "cell_type": "markdown",
   "id": "af6ab5fa",
   "metadata": {},
   "source": [
    "# 가설: 리모델링 여부가 주택 가격에 영향을 미칠까?"
   ]
  },
  {
   "cell_type": "code",
   "execution_count": 1,
   "id": "7711778b",
   "metadata": {},
   "outputs": [],
   "source": [
    "import pandas as pd\n",
    "import seaborn as sns\n",
    "import matplotlib.pyplot as plt\n",
    "import seaborn as sns\n",
    "import numpy as np"
   ]
  },
  {
   "cell_type": "markdown",
   "id": "66910fed",
   "metadata": {},
   "source": [
    "# 1. 데이터 전처리"
   ]
  },
  {
   "cell_type": "markdown",
   "id": "2e006665",
   "metadata": {},
   "source": [
    "## 1-1. 데이터 임포트"
   ]
  },
  {
   "cell_type": "code",
   "execution_count": 2,
   "id": "01f5ec5b",
   "metadata": {},
   "outputs": [],
   "source": [
    "df = pd.read_csv(\"1st_train_mdf.csv\")"
   ]
  },
  {
   "cell_type": "markdown",
   "id": "5690b8c7",
   "metadata": {},
   "source": [
    "## 1-2. 데이터 전처리: 누락값의 처리"
   ]
  },
  {
   "cell_type": "markdown",
   "id": "6c6cd75a",
   "metadata": {},
   "source": [
    "- 누락값은 아니지만 id는 sale price와 상관관계를 파악하는 데 필요없다고 판단, 제거하였습니다."
   ]
  },
  {
   "cell_type": "code",
   "execution_count": 3,
   "id": "1088a613",
   "metadata": {},
   "outputs": [],
   "source": [
    "df = df.drop(['Id'], axis = 1)"
   ]
  },
  {
   "cell_type": "markdown",
   "id": "56851861",
   "metadata": {},
   "source": [
    "- 누락값 확인"
   ]
  },
  {
   "cell_type": "code",
   "execution_count": 4,
   "id": "06a8de74",
   "metadata": {},
   "outputs": [
    {
     "data": {
      "text/plain": [
       "LotFrontage      259\n",
       "Alley           1369\n",
       "MasVnrType         8\n",
       "MasVnrArea         8\n",
       "BsmtQual          37\n",
       "BsmtCond          37\n",
       "BsmtExposure      38\n",
       "BsmtFinType1      37\n",
       "BsmtFinType2      38\n",
       "Electrical         1\n",
       "FireplaceQu      690\n",
       "GarageType        81\n",
       "GarageYrBlt       81\n",
       "GarageFinish      81\n",
       "GarageQual        81\n",
       "GarageCond        81\n",
       "PoolQC          1453\n",
       "Fence           1179\n",
       "MiscFeature     1406\n",
       "dtype: int64"
      ]
     },
     "execution_count": 4,
     "metadata": {},
     "output_type": "execute_result"
    }
   ],
   "source": [
    "null_data= df.isnull().sum()\n",
    "df.isnull().sum()[df.isnull().sum()>0]"
   ]
  },
  {
   "cell_type": "markdown",
   "id": "4c94da91",
   "metadata": {},
   "source": [
    "- 데이터의 80% 이상(1000개)이 결측치인 데이터들은 삭제\n",
    "- 해당 데이터의 누락 원인: 해당 시설 None"
   ]
  },
  {
   "cell_type": "code",
   "execution_count": 5,
   "id": "78460f1b",
   "metadata": {},
   "outputs": [
    {
     "data": {
      "text/plain": [
       "Index(['Alley', 'PoolQC', 'Fence', 'MiscFeature'], dtype='object')"
      ]
     },
     "execution_count": 5,
     "metadata": {},
     "output_type": "execute_result"
    }
   ],
   "source": [
    "null_data[null_data.values > 1000].index"
   ]
  },
  {
   "cell_type": "code",
   "execution_count": 6,
   "id": "806f8b4d",
   "metadata": {},
   "outputs": [],
   "source": [
    "df.drop([\"Alley\", \"PoolQC\", \"Fence\", \"MiscFeature\"], axis = 1,inplace = True)"
   ]
  },
  {
   "cell_type": "markdown",
   "id": "72671097",
   "metadata": {},
   "source": [
    "- 259(17.7%)인 데이터 LotFrontage는 중위값으로 채워줌\n",
    "- 누락 원인: 알 수 없음"
   ]
  },
  {
   "cell_type": "code",
   "execution_count": 7,
   "id": "d24da19f",
   "metadata": {},
   "outputs": [],
   "source": [
    "df.LotFrontage.fillna(df.LotFrontage.median(), inplace=True)"
   ]
  },
  {
   "cell_type": "markdown",
   "id": "4c56979d",
   "metadata": {},
   "source": [
    "- 수치형 데이터는 0, 범주형 데이터는 'None'으로 처리\n",
    "- 누락 원인: 벽돌외장 면적 0, None"
   ]
  },
  {
   "cell_type": "code",
   "execution_count": 8,
   "id": "05b25705",
   "metadata": {},
   "outputs": [
    {
     "data": {
      "text/html": [
       "<div>\n",
       "<style scoped>\n",
       "    .dataframe tbody tr th:only-of-type {\n",
       "        vertical-align: middle;\n",
       "    }\n",
       "\n",
       "    .dataframe tbody tr th {\n",
       "        vertical-align: top;\n",
       "    }\n",
       "\n",
       "    .dataframe thead th {\n",
       "        text-align: right;\n",
       "    }\n",
       "</style>\n",
       "<table border=\"1\" class=\"dataframe\">\n",
       "  <thead>\n",
       "    <tr style=\"text-align: right;\">\n",
       "      <th></th>\n",
       "      <th>MasVnrArea</th>\n",
       "      <th>MasVnrType</th>\n",
       "    </tr>\n",
       "  </thead>\n",
       "  <tbody>\n",
       "    <tr>\n",
       "      <th>234</th>\n",
       "      <td>NaN</td>\n",
       "      <td>NaN</td>\n",
       "    </tr>\n",
       "    <tr>\n",
       "      <th>529</th>\n",
       "      <td>NaN</td>\n",
       "      <td>NaN</td>\n",
       "    </tr>\n",
       "    <tr>\n",
       "      <th>650</th>\n",
       "      <td>NaN</td>\n",
       "      <td>NaN</td>\n",
       "    </tr>\n",
       "    <tr>\n",
       "      <th>936</th>\n",
       "      <td>NaN</td>\n",
       "      <td>NaN</td>\n",
       "    </tr>\n",
       "    <tr>\n",
       "      <th>973</th>\n",
       "      <td>NaN</td>\n",
       "      <td>NaN</td>\n",
       "    </tr>\n",
       "    <tr>\n",
       "      <th>977</th>\n",
       "      <td>NaN</td>\n",
       "      <td>NaN</td>\n",
       "    </tr>\n",
       "    <tr>\n",
       "      <th>1243</th>\n",
       "      <td>NaN</td>\n",
       "      <td>NaN</td>\n",
       "    </tr>\n",
       "    <tr>\n",
       "      <th>1278</th>\n",
       "      <td>NaN</td>\n",
       "      <td>NaN</td>\n",
       "    </tr>\n",
       "  </tbody>\n",
       "</table>\n",
       "</div>"
      ],
      "text/plain": [
       "      MasVnrArea MasVnrType\n",
       "234          NaN        NaN\n",
       "529          NaN        NaN\n",
       "650          NaN        NaN\n",
       "936          NaN        NaN\n",
       "973          NaN        NaN\n",
       "977          NaN        NaN\n",
       "1243         NaN        NaN\n",
       "1278         NaN        NaN"
      ]
     },
     "execution_count": 8,
     "metadata": {},
     "output_type": "execute_result"
    }
   ],
   "source": [
    "df.loc[df.MasVnrArea.isnull(),['MasVnrArea','MasVnrType']]"
   ]
  },
  {
   "cell_type": "code",
   "execution_count": 9,
   "id": "b2491cbe",
   "metadata": {},
   "outputs": [],
   "source": [
    "df.MasVnrArea.fillna(0, inplace=True)  \n",
    "df.MasVnrType.fillna('None', inplace=True) "
   ]
  },
  {
   "cell_type": "markdown",
   "id": "b54a6da3",
   "metadata": {},
   "source": [
    "- 누락원인: 해당 시설 None"
   ]
  },
  {
   "cell_type": "code",
   "execution_count": 10,
   "id": "d613c277",
   "metadata": {},
   "outputs": [],
   "source": [
    "df.GarageType.fillna('None', inplace=True)\n",
    "df.GarageYrBlt.fillna('None', inplace=True)\n",
    "df.GarageFinish.fillna('None', inplace=True)\n",
    "df.GarageQual.fillna('None', inplace=True)\n",
    "df.GarageCond.fillna('None', inplace=True)"
   ]
  },
  {
   "cell_type": "code",
   "execution_count": 11,
   "id": "bf80a477",
   "metadata": {},
   "outputs": [],
   "source": [
    "df.BsmtQual.fillna('None', inplace=True)\n",
    "df.BsmtCond.fillna('None', inplace=True)\n",
    "df.BsmtExposure.fillna('None', inplace=True)\n",
    "df.BsmtFinType1.fillna('None', inplace=True)\n",
    "df.BsmtFinType2.fillna('None', inplace=True)\n",
    "df.FireplaceQu.fillna('None', inplace=True)"
   ]
  },
  {
   "cell_type": "markdown",
   "id": "06ca9176",
   "metadata": {},
   "source": [
    "- 제일 빈도가 큰값(Top)인 SBrkr으로 처리\n",
    "- 누락원인: 알 수 없음"
   ]
  },
  {
   "cell_type": "code",
   "execution_count": 12,
   "id": "52d4b7df",
   "metadata": {},
   "outputs": [],
   "source": [
    "df.Electrical.fillna(\"SBrkr\", inplace=True)"
   ]
  },
  {
   "cell_type": "markdown",
   "id": "f4f9dfb8",
   "metadata": {},
   "source": [
    "- 결측값이 더 이상 없는 것 확인"
   ]
  },
  {
   "cell_type": "code",
   "execution_count": 13,
   "id": "46adf9d9",
   "metadata": {},
   "outputs": [
    {
     "data": {
      "text/plain": [
       "Series([], dtype: int64)"
      ]
     },
     "execution_count": 13,
     "metadata": {},
     "output_type": "execute_result"
    }
   ],
   "source": [
    "df.isnull().sum()[df.isnull().sum()>0]"
   ]
  },
  {
   "cell_type": "markdown",
   "id": "5f1c3b4a",
   "metadata": {},
   "source": [
    "## 1-3. Visualization"
   ]
  },
  {
   "cell_type": "markdown",
   "id": "55be02bb",
   "metadata": {},
   "source": [
    "**중요변수 확인**"
   ]
  },
  {
   "cell_type": "code",
   "execution_count": 14,
   "id": "35aa1555",
   "metadata": {},
   "outputs": [
    {
     "data": {
      "text/plain": [
       "<AxesSubplot:>"
      ]
     },
     "execution_count": 14,
     "metadata": {},
     "output_type": "execute_result"
    },
    {
     "data": {
      "image/png": "[encoded data removed]",
      "text/plain": [
       "<Figure size 360x1080 with 2 Axes>"
      ]
     },
     "metadata": {
      "needs_background": "light"
     },
     "output_type": "display_data"
    }
   ],
   "source": [
    "corr_matrix = df.corr()\n",
    "plt.figure(figsize=(5,15))\n",
    "sns.heatmap(corr_matrix[['SalePrice']].sort_values(by=['SalePrice'],\n",
    "                                ascending=False).head(20),annot=True)"
   ]
  },
  {
   "cell_type": "markdown",
   "id": "3f6ada6a",
   "metadata": {},
   "source": [
    "- YearBuilt, YearRemod가 0.59, 0.57의 상관관계로 해당 데이터에서 높은 상관관계를 보여주고 있습니다."
   ]
  },
  {
   "cell_type": "code",
   "execution_count": 15,
   "id": "a28d992c",
   "metadata": {},
   "outputs": [
    {
     "data": {
      "text/plain": [
       "<AxesSubplot:xlabel='YearBuilt', ylabel='SalePrice'>"
      ]
     },
     "execution_count": 15,
     "metadata": {},
     "output_type": "execute_result"
    },
    {
     "data": {
      "image/png": "[encoded data removed]",
      "text/plain": [
       "<Figure size 720x360 with 1 Axes>"
      ]
     },
     "metadata": {
      "needs_background": "light"
     },
     "output_type": "display_data"
    }
   ],
   "source": [
    "plt.figure(figsize = [10, 5])\n",
    "sns.lineplot(data=df, x='YearBuilt', y='SalePrice')"
   ]
  },
  {
   "cell_type": "code",
   "execution_count": 16,
   "id": "20eba9b6",
   "metadata": {},
   "outputs": [
    {
     "data": {
      "text/plain": [
       "<AxesSubplot:xlabel='YearRemodAdd', ylabel='SalePrice'>"
      ]
     },
     "execution_count": 16,
     "metadata": {},
     "output_type": "execute_result"
    },
    {
     "data": {
      "image/png": "[encoded data removed]",
      "text/plain": [
       "<Figure size 720x360 with 1 Axes>"
      ]
     },
     "metadata": {
      "needs_background": "light"
     },
     "output_type": "display_data"
    }
   ],
   "source": [
    "plt.figure(figsize = [10, 5])\n",
    "sns.lineplot(data=df, x='YearRemodAdd', y='SalePrice')"
   ]
  },
  {
   "cell_type": "markdown",
   "id": "c80f4076",
   "metadata": {},
   "source": [
    "- 기울기가 높은 우상향 그래프는 아니나, 어느 정도의 상관관계는 보여주고 있습니다."
   ]
  },
  {
   "cell_type": "code",
   "execution_count": 17,
   "id": "0d2989fc",
   "metadata": {},
   "outputs": [],
   "source": [
    "bins = [0, 1959, 1979, 1999, 2019]\n",
    "group_names = ['~1950s', '1960s~1970s', '1980s~1990s', '2000s~2010s']"
   ]
  },
  {
   "cell_type": "code",
   "execution_count": 18,
   "id": "67580b9f",
   "metadata": {},
   "outputs": [
    {
     "data": {
      "text/plain": [
       "count    1460.000000\n",
       "mean     2007.815753\n",
       "std         1.328095\n",
       "min      2006.000000\n",
       "25%      2007.000000\n",
       "50%      2008.000000\n",
       "75%      2009.000000\n",
       "max      2010.000000\n",
       "Name: YrSold, dtype: float64"
      ]
     },
     "execution_count": 18,
     "metadata": {},
     "output_type": "execute_result"
    }
   ],
   "source": [
    "df['YrSold'].describe()"
   ]
  },
  {
   "cell_type": "markdown",
   "id": "86da2e44",
   "metadata": {},
   "source": [
    "- 리모델링 여부 관계를 확인하면서 '언제 팔렸는지'의 변수또한 중요하다고 생각했는데\n",
    "- 년도들이 그리 차이나지 않아서(1년 4개월정도) 고려대상에서 제외하였습니다."
   ]
  },
  {
   "cell_type": "code",
   "execution_count": 19,
   "id": "6b5de97d",
   "metadata": {},
   "outputs": [
    {
     "data": {
      "text/html": [
       "<div>\n",
       "<style scoped>\n",
       "    .dataframe tbody tr th:only-of-type {\n",
       "        vertical-align: middle;\n",
       "    }\n",
       "\n",
       "    .dataframe tbody tr th {\n",
       "        vertical-align: top;\n",
       "    }\n",
       "\n",
       "    .dataframe thead th {\n",
       "        text-align: right;\n",
       "    }\n",
       "</style>\n",
       "<table border=\"1\" class=\"dataframe\">\n",
       "  <thead>\n",
       "    <tr style=\"text-align: right;\">\n",
       "      <th></th>\n",
       "      <th>YearBuilt</th>\n",
       "      <th>YearRemodAdd</th>\n",
       "    </tr>\n",
       "  </thead>\n",
       "  <tbody>\n",
       "    <tr>\n",
       "      <th>0</th>\n",
       "      <td>2003</td>\n",
       "      <td>2003</td>\n",
       "    </tr>\n",
       "    <tr>\n",
       "      <th>1</th>\n",
       "      <td>1976</td>\n",
       "      <td>1976</td>\n",
       "    </tr>\n",
       "    <tr>\n",
       "      <th>2</th>\n",
       "      <td>2001</td>\n",
       "      <td>2002</td>\n",
       "    </tr>\n",
       "    <tr>\n",
       "      <th>3</th>\n",
       "      <td>1915</td>\n",
       "      <td>1970</td>\n",
       "    </tr>\n",
       "    <tr>\n",
       "      <th>4</th>\n",
       "      <td>2000</td>\n",
       "      <td>2000</td>\n",
       "    </tr>\n",
       "    <tr>\n",
       "      <th>...</th>\n",
       "      <td>...</td>\n",
       "      <td>...</td>\n",
       "    </tr>\n",
       "    <tr>\n",
       "      <th>1455</th>\n",
       "      <td>1999</td>\n",
       "      <td>2000</td>\n",
       "    </tr>\n",
       "    <tr>\n",
       "      <th>1456</th>\n",
       "      <td>1978</td>\n",
       "      <td>1988</td>\n",
       "    </tr>\n",
       "    <tr>\n",
       "      <th>1457</th>\n",
       "      <td>1941</td>\n",
       "      <td>2006</td>\n",
       "    </tr>\n",
       "    <tr>\n",
       "      <th>1458</th>\n",
       "      <td>1950</td>\n",
       "      <td>1996</td>\n",
       "    </tr>\n",
       "    <tr>\n",
       "      <th>1459</th>\n",
       "      <td>1965</td>\n",
       "      <td>1965</td>\n",
       "    </tr>\n",
       "  </tbody>\n",
       "</table>\n",
       "<p>1460 rows × 2 columns</p>\n",
       "</div>"
      ],
      "text/plain": [
       "      YearBuilt  YearRemodAdd\n",
       "0          2003          2003\n",
       "1          1976          1976\n",
       "2          2001          2002\n",
       "3          1915          1970\n",
       "4          2000          2000\n",
       "...         ...           ...\n",
       "1455       1999          2000\n",
       "1456       1978          1988\n",
       "1457       1941          2006\n",
       "1458       1950          1996\n",
       "1459       1965          1965\n",
       "\n",
       "[1460 rows x 2 columns]"
      ]
     },
     "execution_count": 19,
     "metadata": {},
     "output_type": "execute_result"
    }
   ],
   "source": [
    "year_cats = pd.cut(df['YearRemodAdd'], bins, labels=group_names)\n",
    "df[['YearBuilt', 'YearRemodAdd']]"
   ]
  },
  {
   "cell_type": "markdown",
   "id": "1fb800b7",
   "metadata": {},
   "source": [
    "- YearBuilt, YearRemodAdd의 년도가 동일한 경우: No-Remod\n",
    "- 년도가 동일하지 않은 경우: Yes-Remod"
   ]
  },
  {
   "cell_type": "code",
   "execution_count": 20,
   "id": "18675551",
   "metadata": {},
   "outputs": [],
   "source": [
    "df['IsRemodel'] = df[['YearBuilt', 'YearRemodAdd']].apply(lambda x: \"NoRemod\" if x[0] == x[1] \n",
    "                                                          else \"YesRemod\", axis = 1)"
   ]
  },
  {
   "cell_type": "markdown",
   "id": "a7ae172b",
   "metadata": {},
   "source": [
    "**IsRemodel; NoRemod, YesRemod의 개수**"
   ]
  },
  {
   "cell_type": "code",
   "execution_count": 21,
   "id": "7f2e0f63",
   "metadata": {},
   "outputs": [
    {
     "data": {
      "image/png": "[encoded data removed]",
      "text/plain": [
       "<Figure size 360x360 with 1 Axes>"
      ]
     },
     "metadata": {
      "needs_background": "light"
     },
     "output_type": "display_data"
    }
   ],
   "source": [
    "fig, axes = plt.subplots(figsize=(5,5))\n",
    "sns.countplot(x = df['IsRemodel'], palette=\"Set3\")\n",
    "plt.show()"
   ]
  },
  {
   "cell_type": "code",
   "execution_count": 22,
   "id": "8b22739c",
   "metadata": {},
   "outputs": [
    {
     "data": {
      "image/png": "[encoded data removed]",
      "text/plain": [
       "<Figure size 1008x504 with 1 Axes>"
      ]
     },
     "metadata": {
      "needs_background": "light"
     },
     "output_type": "display_data"
    }
   ],
   "source": [
    "plt.figure(figsize=(14,7))\n",
    "plt.rc('axes', axisbelow = True)\n",
    "sns.boxplot(data=df, y=\"SalePrice\", x=year_cats, palette = \"Set3\", hue = 'IsRemodel')\n",
    "plt.show()"
   ]
  },
  {
   "cell_type": "markdown",
   "id": "e5460afa",
   "metadata": {},
   "source": [
    "## 1-4. 원-핫 인코딩"
   ]
  },
  {
   "cell_type": "code",
   "execution_count": 23,
   "id": "630004a1",
   "metadata": {},
   "outputs": [],
   "source": [
    "df = pd.get_dummies(df)"
   ]
  },
  {
   "cell_type": "markdown",
   "id": "4fdf83d6",
   "metadata": {},
   "source": [
    "## 1-5. 로그변환 "
   ]
  },
  {
   "cell_type": "markdown",
   "id": "86aa0b12",
   "metadata": {},
   "source": [
    "- SalePrice 데이터를 보면 왼쪽으로 치우쳐 있고, 정규분포에서 많이 벗어난 모습을 볼 수 있습니다."
   ]
  },
  {
   "cell_type": "code",
   "execution_count": 24,
   "id": "a0f51ba3",
   "metadata": {},
   "outputs": [
    {
     "name": "stderr",
     "output_type": "stream",
     "text": [
      "C:\\ProgramData\\Anaconda3\\lib\\site-packages\\seaborn\\distributions.py:2619: FutureWarning: `distplot` is a deprecated function and will be removed in a future version. Please adapt your code to use either `displot` (a figure-level function with similar flexibility) or `histplot` (an axes-level function for histograms).\n",
      "  warnings.warn(msg, FutureWarning)\n"
     ]
    },
    {
     "data": {
      "image/png": "[encoded data removed]",
      "text/plain": [
       "<Figure size 432x288 with 1 Axes>"
      ]
     },
     "metadata": {
      "needs_background": "light"
     },
     "output_type": "display_data"
    },
    {
     "data": {
      "image/png": "[encoded data removed]",
      "text/plain": [
       "<Figure size 432x288 with 1 Axes>"
      ]
     },
     "metadata": {
      "needs_background": "light"
     },
     "output_type": "display_data"
    }
   ],
   "source": [
    "import scipy.stats as st\n",
    "sns.distplot(df['SalePrice'], fit=st.norm)\n",
    "fig = plt.figure()\n",
    "res = st.probplot(df['SalePrice'], plot=plt)"
   ]
  },
  {
   "cell_type": "markdown",
   "id": "b51bb0d5",
   "metadata": {},
   "source": [
    "- 로그 변환 후, 정규분포와 빨간 사선에 모두 부합한 모습"
   ]
  },
  {
   "cell_type": "code",
   "execution_count": 25,
   "id": "8ff5d42c",
   "metadata": {},
   "outputs": [
    {
     "name": "stderr",
     "output_type": "stream",
     "text": [
      "C:\\ProgramData\\Anaconda3\\lib\\site-packages\\seaborn\\distributions.py:2619: FutureWarning: `distplot` is a deprecated function and will be removed in a future version. Please adapt your code to use either `displot` (a figure-level function with similar flexibility) or `histplot` (an axes-level function for histograms).\n",
      "  warnings.warn(msg, FutureWarning)\n"
     ]
    },
    {
     "data": {
      "image/png": "[encoded data removed]",
      "text/plain": [
       "<Figure size 432x288 with 1 Axes>"
      ]
     },
     "metadata": {
      "needs_background": "light"
     },
     "output_type": "display_data"
    },
    {
     "data": {
      "image/png": "[encoded data removed]",
      "text/plain": [
       "<Figure size 432x288 with 1 Axes>"
      ]
     },
     "metadata": {
      "needs_background": "light"
     },
     "output_type": "display_data"
    }
   ],
   "source": [
    "df['SalePrice'] = np.log(df['SalePrice'])\n",
    "sns.distplot(df['SalePrice'], fit=st.norm)\n",
    "fig = plt.figure()\n",
    "res = st.probplot(df['SalePrice'], plot=plt)"
   ]
  },
  {
   "cell_type": "markdown",
   "id": "2d0f1e6b",
   "metadata": {},
   "source": [
    "## 1-6. 데이터세트를 훈련용, 테스트용으로 분할"
   ]
  },
  {
   "cell_type": "code",
   "execution_count": 26,
   "id": "6d89365a",
   "metadata": {},
   "outputs": [],
   "source": [
    "# trainset, testset 분리\n",
    "from sklearn.model_selection import train_test_split\n",
    "X = df.drop('SalePrice', axis = 1)\n",
    "y = df['SalePrice']\n",
    "X_train, X_test, y_train, y_test = train_test_split(X, y, \n",
    "                                                    test_size=0.2, random_state=42)"
   ]
  },
  {
   "cell_type": "markdown",
   "id": "ac98b319",
   "metadata": {},
   "source": [
    "# 2. 예측 모델 구현"
   ]
  },
  {
   "cell_type": "code",
   "execution_count": 27,
   "id": "0a62500a",
   "metadata": {},
   "outputs": [],
   "source": [
    "from sklearn.linear_model import LinearRegression\n",
    "from sklearn.metrics import mean_squared_error # MSE\n",
    "from sklearn.model_selection import cross_val_score"
   ]
  },
  {
   "cell_type": "markdown",
   "id": "b34bc665",
   "metadata": {},
   "source": [
    "## 2-1. 선형 회귀"
   ]
  },
  {
   "cell_type": "code",
   "execution_count": 28,
   "id": "13722572",
   "metadata": {},
   "outputs": [
    {
     "data": {
      "text/plain": [
       "13712.537839819337"
      ]
     },
     "execution_count": 28,
     "metadata": {},
     "output_type": "execute_result"
    }
   ],
   "source": [
    "lin_reg = LinearRegression()\n",
    "lin_reg.fit(X_train, y_train)\n",
    "lin_scores = cross_val_score(lin_reg, X_train, y_train, scoring=\"neg_mean_squared_error\", cv=10, n_jobs=-1)\n",
    "lin_rmse = np.sqrt((-lin_scores).mean())\n",
    "lin_rmse"
   ]
  },
  {
   "cell_type": "markdown",
   "id": "d0f52a52",
   "metadata": {},
   "source": [
    "## 2-2. 규제모델 적용"
   ]
  },
  {
   "cell_type": "code",
   "execution_count": 29,
   "id": "6cae3595",
   "metadata": {},
   "outputs": [],
   "source": [
    "from sklearn.linear_model import Ridge, Lasso, ElasticNet"
   ]
  },
  {
   "cell_type": "markdown",
   "id": "17a57263",
   "metadata": {},
   "source": [
    "### Ridge(릿지)"
   ]
  },
  {
   "cell_type": "code",
   "execution_count": 30,
   "id": "d14f7759",
   "metadata": {},
   "outputs": [
    {
     "data": {
      "text/plain": [
       "0.15741288245359034"
      ]
     },
     "execution_count": 30,
     "metadata": {},
     "output_type": "execute_result"
    }
   ],
   "source": [
    "ridge_reg = Ridge()\n",
    "ridge_reg.fit(X_train, y_train)\n",
    "ridge_scores = cross_val_score(ridge_reg, X_train, y_train, scoring = \"neg_mean_squared_error\", cv = 5 )\n",
    "ridge_reg_rmse = np.sqrt((-ridge_scores).mean())\n",
    "ridge_reg_rmse"
   ]
  },
  {
   "cell_type": "markdown",
   "id": "4b339178",
   "metadata": {},
   "source": [
    "### Lasso(라쏘)"
   ]
  },
  {
   "cell_type": "code",
   "execution_count": 31,
   "id": "826a56c2",
   "metadata": {},
   "outputs": [
    {
     "data": {
      "text/plain": [
       "0.1965057828911776"
      ]
     },
     "execution_count": 31,
     "metadata": {},
     "output_type": "execute_result"
    }
   ],
   "source": [
    "lasso_reg = Lasso()\n",
    "lasso_reg.fit(X_train, y_train)\n",
    "lasso_scores = cross_val_score(lasso_reg, X_train, y_train, scoring = \"neg_mean_squared_error\", cv=10, n_jobs=-1)\n",
    "lasso_rmse = np.sqrt(-lasso_scores).mean()\n",
    "lasso_rmse"
   ]
  },
  {
   "cell_type": "markdown",
   "id": "96a8cb1c",
   "metadata": {},
   "source": [
    "### ElasticNet(엘라스틱넷)"
   ]
  },
  {
   "cell_type": "code",
   "execution_count": 32,
   "id": "b9420565",
   "metadata": {},
   "outputs": [
    {
     "data": {
      "text/plain": [
       "0.19069598691213752"
      ]
     },
     "execution_count": 32,
     "metadata": {},
     "output_type": "execute_result"
    }
   ],
   "source": [
    "elastic_reg = ElasticNet()\n",
    "elastic_reg.fit(X_train, y_train)\n",
    "elastic_scores = cross_val_score(elastic_reg, X_train, y_train, scoring = \"neg_mean_squared_error\", cv=10, n_jobs=-1)\n",
    "elastic_rmse = np.sqrt(-elastic_scores).mean()\n",
    "elastic_rmse"
   ]
  },
  {
   "cell_type": "markdown",
   "id": "7d466c24",
   "metadata": {},
   "source": [
    "## 2-3 선형 회귀계수 시각화"
   ]
  },
  {
   "cell_type": "code",
   "execution_count": 33,
   "id": "59d8f211",
   "metadata": {},
   "outputs": [],
   "source": [
    "def get_top_bottom_coef(model):\n",
    "    # coef_ > Series 생성 \n",
    "    coef = pd.Series(model.coef_, index=X.columns)    \n",
    "    # 상위 10개 , 하위 10개 회귀계수 Series 추출하여 반환.\n",
    "    coef_high = coef.sort_values(ascending=False).head(10)\n",
    "    coef_low = coef.sort_values(ascending=False).tail(10)\n",
    "\n",
    "    return coef_high, coef_low\n",
    "\n",
    "def visualize_coefficient(models):\n",
    "\n",
    "    # subplot 생성\n",
    "    fig, axs = plt.subplots(figsize=(15,5), nrows=1, ncols=len(models), constrained_layout=True)\n",
    "    # 모델별 회귀계수 시각화\n",
    "    for i_num, model in enumerate(models):\n",
    "        # get_top_bottom_coef 함수 호출 > concat으로 결합. \n",
    "        coef_high, coef_low = get_top_bottom_coef(model)\n",
    "        coef_concat = pd.concat([coef_high , coef_low], axis=0)\n",
    "        \n",
    "        axs[i_num].set_title(model.__class__.__name__+' Coeffiecents')         # title\n",
    "        sns.barplot(x=coef_concat.values, y=coef_concat.index , ax=axs[i_num]) # barplot"
   ]
  },
  {
   "cell_type": "code",
   "execution_count": 34,
   "id": "9a965eff",
   "metadata": {},
   "outputs": [
    {
     "data": {
      "image/png": "[encoded data removed]",
      "text/plain": [
       "<Figure size 1080x360 with 4 Axes>"
      ]
     },
     "metadata": {
      "needs_background": "light"
     },
     "output_type": "display_data"
    }
   ],
   "source": [
    "models = [lin_reg, ridge_reg, lasso_reg, elastic_reg]\n",
    "visualize_coefficient(models)"
   ]
  },
  {
   "cell_type": "markdown",
   "id": "b1cff06e",
   "metadata": {},
   "source": [
    "- Lasso, ElasticNet에서 YearBuilt, YearRemodAdd가 주택가격에 영향을 미치는 변수 top2로 나타났습니다"
   ]
  },
  {
   "cell_type": "markdown",
   "id": "0b6cf6fa",
   "metadata": {},
   "source": [
    "## 2-4. RandomForest(랜덤포레스트)"
   ]
  },
  {
   "cell_type": "code",
   "execution_count": 35,
   "id": "d048860e",
   "metadata": {},
   "outputs": [
    {
     "data": {
      "text/plain": [
       "0.14655598653186508"
      ]
     },
     "execution_count": 35,
     "metadata": {},
     "output_type": "execute_result"
    }
   ],
   "source": [
    "from sklearn.ensemble import RandomForestRegressor\n",
    "rf_reg = RandomForestRegressor()\n",
    "rf_reg.fit(X_train, y_train)\n",
    "rf_scores = cross_val_score(rf_reg, X_train, y_train, scoring=\"neg_mean_squared_error\", cv=10, n_jobs=-1)\n",
    "rf_rmse = np.sqrt((-rf_scores).mean())\n",
    "rf_rmse"
   ]
  },
  {
   "cell_type": "markdown",
   "id": "aead2445",
   "metadata": {},
   "source": [
    "## 2-5. DecisionTree(의사결정트리)"
   ]
  },
  {
   "cell_type": "code",
   "execution_count": 36,
   "id": "01f37fd6",
   "metadata": {},
   "outputs": [
    {
     "data": {
      "text/plain": [
       "0.21410793403446413"
      ]
     },
     "execution_count": 36,
     "metadata": {},
     "output_type": "execute_result"
    }
   ],
   "source": [
    "from sklearn.tree import DecisionTreeRegressor\n",
    "tree_reg = DecisionTreeRegressor()\n",
    "tree_reg.fit(X_train, y_train)\n",
    "tree_scores = cross_val_score(tree_reg, X_train, y_train, scoring=\"neg_mean_squared_error\", cv=10, n_jobs=-1)\n",
    "tree_rmse = np.sqrt((-tree_scores).mean())\n",
    "tree_rmse"
   ]
  },
  {
   "cell_type": "markdown",
   "id": "9b0015bf",
   "metadata": {},
   "source": [
    "## 2-6. XGB"
   ]
  },
  {
   "cell_type": "code",
   "execution_count": 37,
   "id": "c3fa9d36",
   "metadata": {
    "scrolled": true
   },
   "outputs": [
    {
     "data": {
      "text/plain": [
       "0.1403799882028546"
      ]
     },
     "execution_count": 37,
     "metadata": {},
     "output_type": "execute_result"
    }
   ],
   "source": [
    "import xgboost as xgb\n",
    "xgb_reg = xgb.XGBRegressor()\n",
    "xgb_reg.fit(X_train, y_train)\n",
    "xgb_scores = cross_val_score(xgb_reg, X_train, y_train, scoring=\"neg_mean_squared_error\", cv=10, n_jobs=-1)\n",
    "xgb_rmse = np.sqrt((-xgb_scores).mean())\n",
    "xgb_rmse"
   ]
  },
  {
   "cell_type": "markdown",
   "id": "c32b214f",
   "metadata": {},
   "source": [
    "# 3. 파라미터 튜닝"
   ]
  },
  {
   "cell_type": "markdown",
   "id": "31f56414",
   "metadata": {},
   "source": [
    "## 3-1. 그리드탐색(GridSearch)"
   ]
  },
  {
   "cell_type": "code",
   "execution_count": 38,
   "id": "44246519",
   "metadata": {},
   "outputs": [],
   "source": [
    "from sklearn.model_selection import GridSearchCV"
   ]
  },
  {
   "cell_type": "markdown",
   "id": "a4513e2a",
   "metadata": {},
   "source": [
    "### Ridge, Lasso, ElasticNet"
   ]
  },
  {
   "cell_type": "code",
   "execution_count": 39,
   "id": "6f766bec",
   "metadata": {
    "scrolled": true
   },
   "outputs": [
    {
     "name": "stdout",
     "output_type": "stream",
     "text": [
      "Ridge 10 CV 시 최적 평균 RMSE 값: 0.14138500155873734, 최적 alpha:{'alpha': 15}\n",
      "Lasso 10 CV 시 최적 평균 RMSE 값: 0.14258860975561335, 최적 alpha:{'alpha': 0.001}\n",
      "ElasticNet 10 CV 시 최적 평균 RMSE 값: 0.14026914972336943, 최적 alpha:{'alpha': 0.001}\n"
     ]
    }
   ],
   "source": [
    "params = {'alpha':[0.0001,0.001,0.005,0.01,0.05,0.1,0.5,1,5,10,12,15,20,25,30]}\n",
    "models = [ridge_reg,lasso_reg, elastic_reg]\n",
    "\n",
    "for model in models:\n",
    "    grid = GridSearchCV(model, param_grid = params, cv=10, scoring = 'neg_mean_squared_error',n_jobs=-1)\n",
    "    grid.fit(X,y)\n",
    "    rmse = np.sqrt(-1*grid.best_score_)\n",
    "    print('{0} 10 CV 시 최적 평균 RMSE 값: {1}, 최적 alpha:{2}'.format(model.__class__.__name__,rmse, grid.best_params_))"
   ]
  },
  {
   "cell_type": "markdown",
   "id": "d22ee191",
   "metadata": {},
   "source": [
    "### RandomForest"
   ]
  },
  {
   "cell_type": "code",
   "execution_count": 40,
   "id": "81ceb60d",
   "metadata": {
    "scrolled": false
   },
   "outputs": [
    {
     "data": {
      "text/plain": [
       "GridSearchCV(cv=10, estimator=RandomForestRegressor(), n_jobs=-1,\n",
       "             param_grid={'max_depth': [6, 12, 15],\n",
       "                         'min_samples_leaf': [4, 8, 12],\n",
       "                         'min_samples_split': [8, 15, 18],\n",
       "                         'n_estimators': [10, 100, 200]},\n",
       "             scoring='neg_mean_squared_error')"
      ]
     },
     "execution_count": 40,
     "metadata": {},
     "output_type": "execute_result"
    }
   ],
   "source": [
    "param_grid = {'n_estimators' : [10, 100, 200],\n",
    "              'max_depth' : [6, 12, 15],\n",
    "              'min_samples_leaf' : [4, 8, 12],\n",
    "              'min_samples_split' : [8, 15, 18]\n",
    "}\n",
    "rf_grid_search = GridSearchCV(rf_reg, param_grid, scoring=\"neg_mean_squared_error\", cv=10, n_jobs=-1)\n",
    "rf_grid_search.fit(X_train, y_train)"
   ]
  },
  {
   "cell_type": "code",
   "execution_count": 41,
   "id": "ae76c8db",
   "metadata": {
    "scrolled": false
   },
   "outputs": [
    {
     "name": "stdout",
     "output_type": "stream",
     "text": [
      "[0.10213024 0.15849793 0.12615412 0.18730496 0.1666507  0.18456055\n",
      " 0.14481862 0.13475867 0.12785079 0.10451399] {'max_depth': 6, 'min_samples_leaf': 4, 'min_samples_split': 8, 'n_estimators': 10}\n",
      "[0.10213024 0.15849793 0.12615412 0.18730496 0.1666507  0.18456055\n",
      " 0.14481862 0.13475867 0.12785079 0.10451399] {'max_depth': 6, 'min_samples_leaf': 4, 'min_samples_split': 8, 'n_estimators': 100}\n",
      "[0.10213024 0.15849793 0.12615412 0.18730496 0.1666507  0.18456055\n",
      " 0.14481862 0.13475867 0.12785079 0.10451399] {'max_depth': 6, 'min_samples_leaf': 4, 'min_samples_split': 8, 'n_estimators': 200}\n",
      "[0.10213024 0.15849793 0.12615412 0.18730496 0.1666507  0.18456055\n",
      " 0.14481862 0.13475867 0.12785079 0.10451399] {'max_depth': 6, 'min_samples_leaf': 4, 'min_samples_split': 15, 'n_estimators': 10}\n",
      "[0.10213024 0.15849793 0.12615412 0.18730496 0.1666507  0.18456055\n",
      " 0.14481862 0.13475867 0.12785079 0.10451399] {'max_depth': 6, 'min_samples_leaf': 4, 'min_samples_split': 15, 'n_estimators': 100}\n",
      "[0.10213024 0.15849793 0.12615412 0.18730496 0.1666507  0.18456055\n",
      " 0.14481862 0.13475867 0.12785079 0.10451399] {'max_depth': 6, 'min_samples_leaf': 4, 'min_samples_split': 15, 'n_estimators': 200}\n",
      "[0.10213024 0.15849793 0.12615412 0.18730496 0.1666507  0.18456055\n",
      " 0.14481862 0.13475867 0.12785079 0.10451399] {'max_depth': 6, 'min_samples_leaf': 4, 'min_samples_split': 18, 'n_estimators': 10}\n",
      "[0.10213024 0.15849793 0.12615412 0.18730496 0.1666507  0.18456055\n",
      " 0.14481862 0.13475867 0.12785079 0.10451399] {'max_depth': 6, 'min_samples_leaf': 4, 'min_samples_split': 18, 'n_estimators': 100}\n",
      "[0.10213024 0.15849793 0.12615412 0.18730496 0.1666507  0.18456055\n",
      " 0.14481862 0.13475867 0.12785079 0.10451399] {'max_depth': 6, 'min_samples_leaf': 4, 'min_samples_split': 18, 'n_estimators': 200}\n",
      "[0.10213024 0.15849793 0.12615412 0.18730496 0.1666507  0.18456055\n",
      " 0.14481862 0.13475867 0.12785079 0.10451399] {'max_depth': 6, 'min_samples_leaf': 8, 'min_samples_split': 8, 'n_estimators': 10}\n",
      "[0.10213024 0.15849793 0.12615412 0.18730496 0.1666507  0.18456055\n",
      " 0.14481862 0.13475867 0.12785079 0.10451399] {'max_depth': 6, 'min_samples_leaf': 8, 'min_samples_split': 8, 'n_estimators': 100}\n",
      "[0.10213024 0.15849793 0.12615412 0.18730496 0.1666507  0.18456055\n",
      " 0.14481862 0.13475867 0.12785079 0.10451399] {'max_depth': 6, 'min_samples_leaf': 8, 'min_samples_split': 8, 'n_estimators': 200}\n",
      "[0.10213024 0.15849793 0.12615412 0.18730496 0.1666507  0.18456055\n",
      " 0.14481862 0.13475867 0.12785079 0.10451399] {'max_depth': 6, 'min_samples_leaf': 8, 'min_samples_split': 15, 'n_estimators': 10}\n",
      "[0.10213024 0.15849793 0.12615412 0.18730496 0.1666507  0.18456055\n",
      " 0.14481862 0.13475867 0.12785079 0.10451399] {'max_depth': 6, 'min_samples_leaf': 8, 'min_samples_split': 15, 'n_estimators': 100}\n",
      "[0.10213024 0.15849793 0.12615412 0.18730496 0.1666507  0.18456055\n",
      " 0.14481862 0.13475867 0.12785079 0.10451399] {'max_depth': 6, 'min_samples_leaf': 8, 'min_samples_split': 15, 'n_estimators': 200}\n",
      "[0.10213024 0.15849793 0.12615412 0.18730496 0.1666507  0.18456055\n",
      " 0.14481862 0.13475867 0.12785079 0.10451399] {'max_depth': 6, 'min_samples_leaf': 8, 'min_samples_split': 18, 'n_estimators': 10}\n",
      "[0.10213024 0.15849793 0.12615412 0.18730496 0.1666507  0.18456055\n",
      " 0.14481862 0.13475867 0.12785079 0.10451399] {'max_depth': 6, 'min_samples_leaf': 8, 'min_samples_split': 18, 'n_estimators': 100}\n",
      "[0.10213024 0.15849793 0.12615412 0.18730496 0.1666507  0.18456055\n",
      " 0.14481862 0.13475867 0.12785079 0.10451399] {'max_depth': 6, 'min_samples_leaf': 8, 'min_samples_split': 18, 'n_estimators': 200}\n",
      "[0.10213024 0.15849793 0.12615412 0.18730496 0.1666507  0.18456055\n",
      " 0.14481862 0.13475867 0.12785079 0.10451399] {'max_depth': 6, 'min_samples_leaf': 12, 'min_samples_split': 8, 'n_estimators': 10}\n",
      "[0.10213024 0.15849793 0.12615412 0.18730496 0.1666507  0.18456055\n",
      " 0.14481862 0.13475867 0.12785079 0.10451399] {'max_depth': 6, 'min_samples_leaf': 12, 'min_samples_split': 8, 'n_estimators': 100}\n",
      "[0.10213024 0.15849793 0.12615412 0.18730496 0.1666507  0.18456055\n",
      " 0.14481862 0.13475867 0.12785079 0.10451399] {'max_depth': 6, 'min_samples_leaf': 12, 'min_samples_split': 8, 'n_estimators': 200}\n",
      "[0.10213024 0.15849793 0.12615412 0.18730496 0.1666507  0.18456055\n",
      " 0.14481862 0.13475867 0.12785079 0.10451399] {'max_depth': 6, 'min_samples_leaf': 12, 'min_samples_split': 15, 'n_estimators': 10}\n",
      "[0.10213024 0.15849793 0.12615412 0.18730496 0.1666507  0.18456055\n",
      " 0.14481862 0.13475867 0.12785079 0.10451399] {'max_depth': 6, 'min_samples_leaf': 12, 'min_samples_split': 15, 'n_estimators': 100}\n",
      "[0.10213024 0.15849793 0.12615412 0.18730496 0.1666507  0.18456055\n",
      " 0.14481862 0.13475867 0.12785079 0.10451399] {'max_depth': 6, 'min_samples_leaf': 12, 'min_samples_split': 15, 'n_estimators': 200}\n",
      "[0.10213024 0.15849793 0.12615412 0.18730496 0.1666507  0.18456055\n",
      " 0.14481862 0.13475867 0.12785079 0.10451399] {'max_depth': 6, 'min_samples_leaf': 12, 'min_samples_split': 18, 'n_estimators': 10}\n",
      "[0.10213024 0.15849793 0.12615412 0.18730496 0.1666507  0.18456055\n",
      " 0.14481862 0.13475867 0.12785079 0.10451399] {'max_depth': 6, 'min_samples_leaf': 12, 'min_samples_split': 18, 'n_estimators': 100}\n",
      "[0.10213024 0.15849793 0.12615412 0.18730496 0.1666507  0.18456055\n",
      " 0.14481862 0.13475867 0.12785079 0.10451399] {'max_depth': 6, 'min_samples_leaf': 12, 'min_samples_split': 18, 'n_estimators': 200}\n",
      "[0.10213024 0.15849793 0.12615412 0.18730496 0.1666507  0.18456055\n",
      " 0.14481862 0.13475867 0.12785079 0.10451399] {'max_depth': 12, 'min_samples_leaf': 4, 'min_samples_split': 8, 'n_estimators': 10}\n",
      "[0.10213024 0.15849793 0.12615412 0.18730496 0.1666507  0.18456055\n",
      " 0.14481862 0.13475867 0.12785079 0.10451399] {'max_depth': 12, 'min_samples_leaf': 4, 'min_samples_split': 8, 'n_estimators': 100}\n",
      "[0.10213024 0.15849793 0.12615412 0.18730496 0.1666507  0.18456055\n",
      " 0.14481862 0.13475867 0.12785079 0.10451399] {'max_depth': 12, 'min_samples_leaf': 4, 'min_samples_split': 8, 'n_estimators': 200}\n",
      "[0.10213024 0.15849793 0.12615412 0.18730496 0.1666507  0.18456055\n",
      " 0.14481862 0.13475867 0.12785079 0.10451399] {'max_depth': 12, 'min_samples_leaf': 4, 'min_samples_split': 15, 'n_estimators': 10}\n",
      "[0.10213024 0.15849793 0.12615412 0.18730496 0.1666507  0.18456055\n",
      " 0.14481862 0.13475867 0.12785079 0.10451399] {'max_depth': 12, 'min_samples_leaf': 4, 'min_samples_split': 15, 'n_estimators': 100}\n",
      "[0.10213024 0.15849793 0.12615412 0.18730496 0.1666507  0.18456055\n",
      " 0.14481862 0.13475867 0.12785079 0.10451399] {'max_depth': 12, 'min_samples_leaf': 4, 'min_samples_split': 15, 'n_estimators': 200}\n",
      "[0.10213024 0.15849793 0.12615412 0.18730496 0.1666507  0.18456055\n",
      " 0.14481862 0.13475867 0.12785079 0.10451399] {'max_depth': 12, 'min_samples_leaf': 4, 'min_samples_split': 18, 'n_estimators': 10}\n",
      "[0.10213024 0.15849793 0.12615412 0.18730496 0.1666507  0.18456055\n",
      " 0.14481862 0.13475867 0.12785079 0.10451399] {'max_depth': 12, 'min_samples_leaf': 4, 'min_samples_split': 18, 'n_estimators': 100}\n",
      "[0.10213024 0.15849793 0.12615412 0.18730496 0.1666507  0.18456055\n",
      " 0.14481862 0.13475867 0.12785079 0.10451399] {'max_depth': 12, 'min_samples_leaf': 4, 'min_samples_split': 18, 'n_estimators': 200}\n",
      "[0.10213024 0.15849793 0.12615412 0.18730496 0.1666507  0.18456055\n",
      " 0.14481862 0.13475867 0.12785079 0.10451399] {'max_depth': 12, 'min_samples_leaf': 8, 'min_samples_split': 8, 'n_estimators': 10}\n",
      "[0.10213024 0.15849793 0.12615412 0.18730496 0.1666507  0.18456055\n",
      " 0.14481862 0.13475867 0.12785079 0.10451399] {'max_depth': 12, 'min_samples_leaf': 8, 'min_samples_split': 8, 'n_estimators': 100}\n",
      "[0.10213024 0.15849793 0.12615412 0.18730496 0.1666507  0.18456055\n",
      " 0.14481862 0.13475867 0.12785079 0.10451399] {'max_depth': 12, 'min_samples_leaf': 8, 'min_samples_split': 8, 'n_estimators': 200}\n",
      "[0.10213024 0.15849793 0.12615412 0.18730496 0.1666507  0.18456055\n",
      " 0.14481862 0.13475867 0.12785079 0.10451399] {'max_depth': 12, 'min_samples_leaf': 8, 'min_samples_split': 15, 'n_estimators': 10}\n",
      "[0.10213024 0.15849793 0.12615412 0.18730496 0.1666507  0.18456055\n",
      " 0.14481862 0.13475867 0.12785079 0.10451399] {'max_depth': 12, 'min_samples_leaf': 8, 'min_samples_split': 15, 'n_estimators': 100}\n",
      "[0.10213024 0.15849793 0.12615412 0.18730496 0.1666507  0.18456055\n",
      " 0.14481862 0.13475867 0.12785079 0.10451399] {'max_depth': 12, 'min_samples_leaf': 8, 'min_samples_split': 15, 'n_estimators': 200}\n",
      "[0.10213024 0.15849793 0.12615412 0.18730496 0.1666507  0.18456055\n",
      " 0.14481862 0.13475867 0.12785079 0.10451399] {'max_depth': 12, 'min_samples_leaf': 8, 'min_samples_split': 18, 'n_estimators': 10}\n",
      "[0.10213024 0.15849793 0.12615412 0.18730496 0.1666507  0.18456055\n",
      " 0.14481862 0.13475867 0.12785079 0.10451399] {'max_depth': 12, 'min_samples_leaf': 8, 'min_samples_split': 18, 'n_estimators': 100}\n",
      "[0.10213024 0.15849793 0.12615412 0.18730496 0.1666507  0.18456055\n",
      " 0.14481862 0.13475867 0.12785079 0.10451399] {'max_depth': 12, 'min_samples_leaf': 8, 'min_samples_split': 18, 'n_estimators': 200}\n",
      "[0.10213024 0.15849793 0.12615412 0.18730496 0.1666507  0.18456055\n",
      " 0.14481862 0.13475867 0.12785079 0.10451399] {'max_depth': 12, 'min_samples_leaf': 12, 'min_samples_split': 8, 'n_estimators': 10}\n",
      "[0.10213024 0.15849793 0.12615412 0.18730496 0.1666507  0.18456055\n",
      " 0.14481862 0.13475867 0.12785079 0.10451399] {'max_depth': 12, 'min_samples_leaf': 12, 'min_samples_split': 8, 'n_estimators': 100}\n",
      "[0.10213024 0.15849793 0.12615412 0.18730496 0.1666507  0.18456055\n",
      " 0.14481862 0.13475867 0.12785079 0.10451399] {'max_depth': 12, 'min_samples_leaf': 12, 'min_samples_split': 8, 'n_estimators': 200}\n",
      "[0.10213024 0.15849793 0.12615412 0.18730496 0.1666507  0.18456055\n",
      " 0.14481862 0.13475867 0.12785079 0.10451399] {'max_depth': 12, 'min_samples_leaf': 12, 'min_samples_split': 15, 'n_estimators': 10}\n",
      "[0.10213024 0.15849793 0.12615412 0.18730496 0.1666507  0.18456055\n",
      " 0.14481862 0.13475867 0.12785079 0.10451399] {'max_depth': 12, 'min_samples_leaf': 12, 'min_samples_split': 15, 'n_estimators': 100}\n",
      "[0.10213024 0.15849793 0.12615412 0.18730496 0.1666507  0.18456055\n",
      " 0.14481862 0.13475867 0.12785079 0.10451399] {'max_depth': 12, 'min_samples_leaf': 12, 'min_samples_split': 15, 'n_estimators': 200}\n",
      "[0.10213024 0.15849793 0.12615412 0.18730496 0.1666507  0.18456055\n",
      " 0.14481862 0.13475867 0.12785079 0.10451399] {'max_depth': 12, 'min_samples_leaf': 12, 'min_samples_split': 18, 'n_estimators': 10}\n",
      "[0.10213024 0.15849793 0.12615412 0.18730496 0.1666507  0.18456055\n",
      " 0.14481862 0.13475867 0.12785079 0.10451399] {'max_depth': 12, 'min_samples_leaf': 12, 'min_samples_split': 18, 'n_estimators': 100}\n",
      "[0.10213024 0.15849793 0.12615412 0.18730496 0.1666507  0.18456055\n",
      " 0.14481862 0.13475867 0.12785079 0.10451399] {'max_depth': 12, 'min_samples_leaf': 12, 'min_samples_split': 18, 'n_estimators': 200}\n",
      "[0.10213024 0.15849793 0.12615412 0.18730496 0.1666507  0.18456055\n",
      " 0.14481862 0.13475867 0.12785079 0.10451399] {'max_depth': 15, 'min_samples_leaf': 4, 'min_samples_split': 8, 'n_estimators': 10}\n",
      "[0.10213024 0.15849793 0.12615412 0.18730496 0.1666507  0.18456055\n",
      " 0.14481862 0.13475867 0.12785079 0.10451399] {'max_depth': 15, 'min_samples_leaf': 4, 'min_samples_split': 8, 'n_estimators': 100}\n",
      "[0.10213024 0.15849793 0.12615412 0.18730496 0.1666507  0.18456055\n",
      " 0.14481862 0.13475867 0.12785079 0.10451399] {'max_depth': 15, 'min_samples_leaf': 4, 'min_samples_split': 8, 'n_estimators': 200}\n",
      "[0.10213024 0.15849793 0.12615412 0.18730496 0.1666507  0.18456055\n",
      " 0.14481862 0.13475867 0.12785079 0.10451399] {'max_depth': 15, 'min_samples_leaf': 4, 'min_samples_split': 15, 'n_estimators': 10}\n",
      "[0.10213024 0.15849793 0.12615412 0.18730496 0.1666507  0.18456055\n",
      " 0.14481862 0.13475867 0.12785079 0.10451399] {'max_depth': 15, 'min_samples_leaf': 4, 'min_samples_split': 15, 'n_estimators': 100}\n",
      "[0.10213024 0.15849793 0.12615412 0.18730496 0.1666507  0.18456055\n",
      " 0.14481862 0.13475867 0.12785079 0.10451399] {'max_depth': 15, 'min_samples_leaf': 4, 'min_samples_split': 15, 'n_estimators': 200}\n",
      "[0.10213024 0.15849793 0.12615412 0.18730496 0.1666507  0.18456055\n",
      " 0.14481862 0.13475867 0.12785079 0.10451399] {'max_depth': 15, 'min_samples_leaf': 4, 'min_samples_split': 18, 'n_estimators': 10}\n",
      "[0.10213024 0.15849793 0.12615412 0.18730496 0.1666507  0.18456055\n",
      " 0.14481862 0.13475867 0.12785079 0.10451399] {'max_depth': 15, 'min_samples_leaf': 4, 'min_samples_split': 18, 'n_estimators': 100}\n",
      "[0.10213024 0.15849793 0.12615412 0.18730496 0.1666507  0.18456055\n",
      " 0.14481862 0.13475867 0.12785079 0.10451399] {'max_depth': 15, 'min_samples_leaf': 4, 'min_samples_split': 18, 'n_estimators': 200}\n",
      "[0.10213024 0.15849793 0.12615412 0.18730496 0.1666507  0.18456055\n",
      " 0.14481862 0.13475867 0.12785079 0.10451399] {'max_depth': 15, 'min_samples_leaf': 8, 'min_samples_split': 8, 'n_estimators': 10}\n",
      "[0.10213024 0.15849793 0.12615412 0.18730496 0.1666507  0.18456055\n",
      " 0.14481862 0.13475867 0.12785079 0.10451399] {'max_depth': 15, 'min_samples_leaf': 8, 'min_samples_split': 8, 'n_estimators': 100}\n",
      "[0.10213024 0.15849793 0.12615412 0.18730496 0.1666507  0.18456055\n",
      " 0.14481862 0.13475867 0.12785079 0.10451399] {'max_depth': 15, 'min_samples_leaf': 8, 'min_samples_split': 8, 'n_estimators': 200}\n",
      "[0.10213024 0.15849793 0.12615412 0.18730496 0.1666507  0.18456055\n",
      " 0.14481862 0.13475867 0.12785079 0.10451399] {'max_depth': 15, 'min_samples_leaf': 8, 'min_samples_split': 15, 'n_estimators': 10}\n",
      "[0.10213024 0.15849793 0.12615412 0.18730496 0.1666507  0.18456055\n",
      " 0.14481862 0.13475867 0.12785079 0.10451399] {'max_depth': 15, 'min_samples_leaf': 8, 'min_samples_split': 15, 'n_estimators': 100}\n",
      "[0.10213024 0.15849793 0.12615412 0.18730496 0.1666507  0.18456055\n",
      " 0.14481862 0.13475867 0.12785079 0.10451399] {'max_depth': 15, 'min_samples_leaf': 8, 'min_samples_split': 15, 'n_estimators': 200}\n",
      "[0.10213024 0.15849793 0.12615412 0.18730496 0.1666507  0.18456055\n",
      " 0.14481862 0.13475867 0.12785079 0.10451399] {'max_depth': 15, 'min_samples_leaf': 8, 'min_samples_split': 18, 'n_estimators': 10}\n",
      "[0.10213024 0.15849793 0.12615412 0.18730496 0.1666507  0.18456055\n",
      " 0.14481862 0.13475867 0.12785079 0.10451399] {'max_depth': 15, 'min_samples_leaf': 8, 'min_samples_split': 18, 'n_estimators': 100}\n",
      "[0.10213024 0.15849793 0.12615412 0.18730496 0.1666507  0.18456055\n",
      " 0.14481862 0.13475867 0.12785079 0.10451399] {'max_depth': 15, 'min_samples_leaf': 8, 'min_samples_split': 18, 'n_estimators': 200}\n",
      "[0.10213024 0.15849793 0.12615412 0.18730496 0.1666507  0.18456055\n",
      " 0.14481862 0.13475867 0.12785079 0.10451399] {'max_depth': 15, 'min_samples_leaf': 12, 'min_samples_split': 8, 'n_estimators': 10}\n",
      "[0.10213024 0.15849793 0.12615412 0.18730496 0.1666507  0.18456055\n",
      " 0.14481862 0.13475867 0.12785079 0.10451399] {'max_depth': 15, 'min_samples_leaf': 12, 'min_samples_split': 8, 'n_estimators': 100}\n",
      "[0.10213024 0.15849793 0.12615412 0.18730496 0.1666507  0.18456055\n",
      " 0.14481862 0.13475867 0.12785079 0.10451399] {'max_depth': 15, 'min_samples_leaf': 12, 'min_samples_split': 8, 'n_estimators': 200}\n",
      "[0.10213024 0.15849793 0.12615412 0.18730496 0.1666507  0.18456055\n",
      " 0.14481862 0.13475867 0.12785079 0.10451399] {'max_depth': 15, 'min_samples_leaf': 12, 'min_samples_split': 15, 'n_estimators': 10}\n",
      "[0.10213024 0.15849793 0.12615412 0.18730496 0.1666507  0.18456055\n",
      " 0.14481862 0.13475867 0.12785079 0.10451399] {'max_depth': 15, 'min_samples_leaf': 12, 'min_samples_split': 15, 'n_estimators': 100}\n",
      "[0.10213024 0.15849793 0.12615412 0.18730496 0.1666507  0.18456055\n",
      " 0.14481862 0.13475867 0.12785079 0.10451399] {'max_depth': 15, 'min_samples_leaf': 12, 'min_samples_split': 15, 'n_estimators': 200}\n",
      "[0.10213024 0.15849793 0.12615412 0.18730496 0.1666507  0.18456055\n",
      " 0.14481862 0.13475867 0.12785079 0.10451399] {'max_depth': 15, 'min_samples_leaf': 12, 'min_samples_split': 18, 'n_estimators': 10}\n",
      "[0.10213024 0.15849793 0.12615412 0.18730496 0.1666507  0.18456055\n",
      " 0.14481862 0.13475867 0.12785079 0.10451399] {'max_depth': 15, 'min_samples_leaf': 12, 'min_samples_split': 18, 'n_estimators': 100}\n",
      "[0.10213024 0.15849793 0.12615412 0.18730496 0.1666507  0.18456055\n",
      " 0.14481862 0.13475867 0.12785079 0.10451399] {'max_depth': 15, 'min_samples_leaf': 12, 'min_samples_split': 18, 'n_estimators': 200}\n"
     ]
    }
   ],
   "source": [
    "for mean_score, params in zip(rf_grid_search.cv_results_['mean_test_score'], rf_grid_search.cv_results_['params']):\n",
    "    print(np.sqrt(-rf_scores), params)"
   ]
  },
  {
   "cell_type": "code",
   "execution_count": 42,
   "id": "c046e5fa",
   "metadata": {
    "scrolled": false
   },
   "outputs": [
    {
     "data": {
      "text/plain": [
       "{'max_depth': 12,\n",
       " 'min_samples_leaf': 4,\n",
       " 'min_samples_split': 8,\n",
       " 'n_estimators': 200}"
      ]
     },
     "execution_count": 42,
     "metadata": {},
     "output_type": "execute_result"
    }
   ],
   "source": [
    "rf_grid_search.best_params_"
   ]
  },
  {
   "cell_type": "markdown",
   "id": "96e80436",
   "metadata": {},
   "source": [
    "### best\n",
    "[0.10423401 0.15716388 0.12835064 0.18678672 0.16342983 0.18678436\n",
    " 0.14237225 0.1325993  0.13015102 0.0988073 ] {'max_depth': 15, 'min_samples_leaf': 4, 'min_samples_split': 8, 'n_estimators': 200}"
   ]
  },
  {
   "cell_type": "code",
   "execution_count": 43,
   "id": "dcbc1996",
   "metadata": {},
   "outputs": [
    {
     "data": {
      "text/plain": [
       "0.143067931"
      ]
     },
     "execution_count": 43,
     "metadata": {},
     "output_type": "execute_result"
    }
   ],
   "source": [
    "(0.10423401+ 0.15716388+ 0.12835064+ 0.18678672 +0.16342983 +0.18678436+0.14237225+0.1325993+0.13015102+0.0988073)/10"
   ]
  },
  {
   "cell_type": "markdown",
   "id": "9a806441",
   "metadata": {},
   "source": [
    "**0.145->0.143**"
   ]
  },
  {
   "cell_type": "markdown",
   "id": "893cf229",
   "metadata": {},
   "source": [
    "### DecisionTree"
   ]
  },
  {
   "cell_type": "code",
   "execution_count": 44,
   "id": "33321e93",
   "metadata": {},
   "outputs": [],
   "source": [
    "tree_param_grid = {'max_depth':[6,8,10], \n",
    "              'min_samples_leaf':[5,10,20]\n",
    "             }"
   ]
  },
  {
   "cell_type": "code",
   "execution_count": 45,
   "id": "a23e8c68",
   "metadata": {
    "scrolled": true
   },
   "outputs": [
    {
     "data": {
      "text/plain": [
       "GridSearchCV(cv=10, estimator=DecisionTreeRegressor(), n_jobs=-1,\n",
       "             param_grid={'max_depth': [6, 8, 10],\n",
       "                         'min_samples_leaf': [5, 10, 20]},\n",
       "             scoring='neg_mean_squared_error')"
      ]
     },
     "execution_count": 45,
     "metadata": {},
     "output_type": "execute_result"
    }
   ],
   "source": [
    "tree_grid_search = GridSearchCV(tree_reg, tree_param_grid, scoring=\"neg_mean_squared_error\",cv=10, n_jobs=-1)\n",
    "tree_grid_search.fit(X_train, y_train)"
   ]
  },
  {
   "cell_type": "code",
   "execution_count": 46,
   "id": "2d9a6878",
   "metadata": {},
   "outputs": [
    {
     "name": "stdout",
     "output_type": "stream",
     "text": [
      "[0.18830656 0.24083471 0.19026145 0.26548216 0.20071527 0.24894593\n",
      " 0.1946523  0.19450201 0.22447241 0.17295101] {'max_depth': 6, 'min_samples_leaf': 5}\n",
      "[0.18830656 0.24083471 0.19026145 0.26548216 0.20071527 0.24894593\n",
      " 0.1946523  0.19450201 0.22447241 0.17295101] {'max_depth': 6, 'min_samples_leaf': 10}\n",
      "[0.18830656 0.24083471 0.19026145 0.26548216 0.20071527 0.24894593\n",
      " 0.1946523  0.19450201 0.22447241 0.17295101] {'max_depth': 6, 'min_samples_leaf': 20}\n",
      "[0.18830656 0.24083471 0.19026145 0.26548216 0.20071527 0.24894593\n",
      " 0.1946523  0.19450201 0.22447241 0.17295101] {'max_depth': 8, 'min_samples_leaf': 5}\n",
      "[0.18830656 0.24083471 0.19026145 0.26548216 0.20071527 0.24894593\n",
      " 0.1946523  0.19450201 0.22447241 0.17295101] {'max_depth': 8, 'min_samples_leaf': 10}\n",
      "[0.18830656 0.24083471 0.19026145 0.26548216 0.20071527 0.24894593\n",
      " 0.1946523  0.19450201 0.22447241 0.17295101] {'max_depth': 8, 'min_samples_leaf': 20}\n",
      "[0.18830656 0.24083471 0.19026145 0.26548216 0.20071527 0.24894593\n",
      " 0.1946523  0.19450201 0.22447241 0.17295101] {'max_depth': 10, 'min_samples_leaf': 5}\n",
      "[0.18830656 0.24083471 0.19026145 0.26548216 0.20071527 0.24894593\n",
      " 0.1946523  0.19450201 0.22447241 0.17295101] {'max_depth': 10, 'min_samples_leaf': 10}\n",
      "[0.18830656 0.24083471 0.19026145 0.26548216 0.20071527 0.24894593\n",
      " 0.1946523  0.19450201 0.22447241 0.17295101] {'max_depth': 10, 'min_samples_leaf': 20}\n"
     ]
    }
   ],
   "source": [
    "for mean_score, params in zip(tree_grid_search.cv_results_['mean_test_score'], tree_grid_search.cv_results_['params']):\n",
    "    print(np.sqrt(-tree_scores), params)"
   ]
  },
  {
   "cell_type": "code",
   "execution_count": 47,
   "id": "191700c1",
   "metadata": {
    "scrolled": true
   },
   "outputs": [
    {
     "data": {
      "text/plain": [
       "{'max_depth': 10, 'min_samples_leaf': 10}"
      ]
     },
     "execution_count": 47,
     "metadata": {},
     "output_type": "execute_result"
    }
   ],
   "source": [
    "tree_grid_search.best_params_"
   ]
  },
  {
   "cell_type": "markdown",
   "id": "aaaf1764",
   "metadata": {},
   "source": [
    "### best\n",
    "[0.18794818 0.20906149 0.20137067 0.25688619 0.19668767 0.23936752\n",
    " 0.17862833 0.18631085 0.21861528 0.17315969] {'max_depth': 10, 'min_samples_leaf': 10}"
   ]
  },
  {
   "cell_type": "code",
   "execution_count": 48,
   "id": "b23c6c97",
   "metadata": {
    "scrolled": true
   },
   "outputs": [
    {
     "data": {
      "text/plain": [
       "0.204803587"
      ]
     },
     "execution_count": 48,
     "metadata": {},
     "output_type": "execute_result"
    }
   ],
   "source": [
    "(0.18794818 +0.20906149 +0.20137067+ 0.25688619 +0.19668767 +0.23936752\n",
    "+ 0.17862833+ 0.18631085+ 0.21861528+ 0.17315969)/10"
   ]
  },
  {
   "cell_type": "markdown",
   "id": "26d9ea77",
   "metadata": {},
   "source": [
    "**0.206 -> 0.2048**\n",
    "성능이 생각보다 좋진 않았습니다..."
   ]
  },
  {
   "cell_type": "markdown",
   "id": "1b379eac",
   "metadata": {},
   "source": [
    "### XGB"
   ]
  },
  {
   "cell_type": "code",
   "execution_count": 49,
   "id": "3369dbfe",
   "metadata": {},
   "outputs": [],
   "source": [
    "xgb_param_grid = {'learning_rate': [1,0.1,0.01],\n",
    "              'n_estimators': [100, 200, 500],\n",
    "              'max_depth' : [1,5,10]}"
   ]
  },
  {
   "cell_type": "code",
   "execution_count": 50,
   "id": "f1770f40",
   "metadata": {
    "scrolled": true
   },
   "outputs": [
    {
     "data": {
      "text/plain": [
       "GridSearchCV(cv=10,\n",
       "             estimator=XGBRegressor(base_score=None, booster=None,\n",
       "                                    callbacks=None, colsample_bylevel=None,\n",
       "                                    colsample_bynode=None,\n",
       "                                    colsample_bytree=None,\n",
       "                                    early_stopping_rounds=None,\n",
       "                                    enable_categorical=False, eval_metric=None,\n",
       "                                    feature_types=None, gamma=None, gpu_id=None,\n",
       "                                    grow_policy=None, importance_type=None,\n",
       "                                    interaction_constraints=None,\n",
       "                                    learning_rate=None,...\n",
       "                                    max_cat_to_onehot=None, max_delta_step=None,\n",
       "                                    max_depth=None, max_leaves=None,\n",
       "                                    min_child_weight=None, missing=nan,\n",
       "                                    monotone_constraints=None, n_estimators=100,\n",
       "                                    n_jobs=None, num_parallel_tree=None,\n",
       "                                    predictor=None, random_state=None, ...),\n",
       "             n_jobs=-1,\n",
       "             param_grid={'learning_rate': [1, 0.1, 0.01],\n",
       "                         'max_depth': [1, 5, 10],\n",
       "                         'n_estimators': [100, 200, 500]},\n",
       "             scoring='neg_mean_squared_error')"
      ]
     },
     "execution_count": 50,
     "metadata": {},
     "output_type": "execute_result"
    }
   ],
   "source": [
    "xgb_grid_search = GridSearchCV(xgb_reg, xgb_param_grid, scoring=\"neg_mean_squared_error\",cv=10, n_jobs=-1)\n",
    "xgb_grid_search.fit(X_train, y_train)"
   ]
  },
  {
   "cell_type": "code",
   "execution_count": 51,
   "id": "66dc8bb6",
   "metadata": {},
   "outputs": [
    {
     "name": "stdout",
     "output_type": "stream",
     "text": [
      "[0.1018996  0.17373086 0.12572019 0.16765974 0.1369347  0.17185006\n",
      " 0.13213541 0.13269362 0.14015889 0.09792181] {'learning_rate': 1, 'max_depth': 1, 'n_estimators': 100}\n",
      "[0.1018996  0.17373086 0.12572019 0.16765974 0.1369347  0.17185006\n",
      " 0.13213541 0.13269362 0.14015889 0.09792181] {'learning_rate': 1, 'max_depth': 1, 'n_estimators': 200}\n",
      "[0.1018996  0.17373086 0.12572019 0.16765974 0.1369347  0.17185006\n",
      " 0.13213541 0.13269362 0.14015889 0.09792181] {'learning_rate': 1, 'max_depth': 1, 'n_estimators': 500}\n",
      "[0.1018996  0.17373086 0.12572019 0.16765974 0.1369347  0.17185006\n",
      " 0.13213541 0.13269362 0.14015889 0.09792181] {'learning_rate': 1, 'max_depth': 5, 'n_estimators': 100}\n",
      "[0.1018996  0.17373086 0.12572019 0.16765974 0.1369347  0.17185006\n",
      " 0.13213541 0.13269362 0.14015889 0.09792181] {'learning_rate': 1, 'max_depth': 5, 'n_estimators': 200}\n",
      "[0.1018996  0.17373086 0.12572019 0.16765974 0.1369347  0.17185006\n",
      " 0.13213541 0.13269362 0.14015889 0.09792181] {'learning_rate': 1, 'max_depth': 5, 'n_estimators': 500}\n",
      "[0.1018996  0.17373086 0.12572019 0.16765974 0.1369347  0.17185006\n",
      " 0.13213541 0.13269362 0.14015889 0.09792181] {'learning_rate': 1, 'max_depth': 10, 'n_estimators': 100}\n",
      "[0.1018996  0.17373086 0.12572019 0.16765974 0.1369347  0.17185006\n",
      " 0.13213541 0.13269362 0.14015889 0.09792181] {'learning_rate': 1, 'max_depth': 10, 'n_estimators': 200}\n",
      "[0.1018996  0.17373086 0.12572019 0.16765974 0.1369347  0.17185006\n",
      " 0.13213541 0.13269362 0.14015889 0.09792181] {'learning_rate': 1, 'max_depth': 10, 'n_estimators': 500}\n",
      "[0.1018996  0.17373086 0.12572019 0.16765974 0.1369347  0.17185006\n",
      " 0.13213541 0.13269362 0.14015889 0.09792181] {'learning_rate': 0.1, 'max_depth': 1, 'n_estimators': 100}\n",
      "[0.1018996  0.17373086 0.12572019 0.16765974 0.1369347  0.17185006\n",
      " 0.13213541 0.13269362 0.14015889 0.09792181] {'learning_rate': 0.1, 'max_depth': 1, 'n_estimators': 200}\n",
      "[0.1018996  0.17373086 0.12572019 0.16765974 0.1369347  0.17185006\n",
      " 0.13213541 0.13269362 0.14015889 0.09792181] {'learning_rate': 0.1, 'max_depth': 1, 'n_estimators': 500}\n",
      "[0.1018996  0.17373086 0.12572019 0.16765974 0.1369347  0.17185006\n",
      " 0.13213541 0.13269362 0.14015889 0.09792181] {'learning_rate': 0.1, 'max_depth': 5, 'n_estimators': 100}\n",
      "[0.1018996  0.17373086 0.12572019 0.16765974 0.1369347  0.17185006\n",
      " 0.13213541 0.13269362 0.14015889 0.09792181] {'learning_rate': 0.1, 'max_depth': 5, 'n_estimators': 200}\n",
      "[0.1018996  0.17373086 0.12572019 0.16765974 0.1369347  0.17185006\n",
      " 0.13213541 0.13269362 0.14015889 0.09792181] {'learning_rate': 0.1, 'max_depth': 5, 'n_estimators': 500}\n",
      "[0.1018996  0.17373086 0.12572019 0.16765974 0.1369347  0.17185006\n",
      " 0.13213541 0.13269362 0.14015889 0.09792181] {'learning_rate': 0.1, 'max_depth': 10, 'n_estimators': 100}\n",
      "[0.1018996  0.17373086 0.12572019 0.16765974 0.1369347  0.17185006\n",
      " 0.13213541 0.13269362 0.14015889 0.09792181] {'learning_rate': 0.1, 'max_depth': 10, 'n_estimators': 200}\n",
      "[0.1018996  0.17373086 0.12572019 0.16765974 0.1369347  0.17185006\n",
      " 0.13213541 0.13269362 0.14015889 0.09792181] {'learning_rate': 0.1, 'max_depth': 10, 'n_estimators': 500}\n",
      "[0.1018996  0.17373086 0.12572019 0.16765974 0.1369347  0.17185006\n",
      " 0.13213541 0.13269362 0.14015889 0.09792181] {'learning_rate': 0.01, 'max_depth': 1, 'n_estimators': 100}\n",
      "[0.1018996  0.17373086 0.12572019 0.16765974 0.1369347  0.17185006\n",
      " 0.13213541 0.13269362 0.14015889 0.09792181] {'learning_rate': 0.01, 'max_depth': 1, 'n_estimators': 200}\n",
      "[0.1018996  0.17373086 0.12572019 0.16765974 0.1369347  0.17185006\n",
      " 0.13213541 0.13269362 0.14015889 0.09792181] {'learning_rate': 0.01, 'max_depth': 1, 'n_estimators': 500}\n",
      "[0.1018996  0.17373086 0.12572019 0.16765974 0.1369347  0.17185006\n",
      " 0.13213541 0.13269362 0.14015889 0.09792181] {'learning_rate': 0.01, 'max_depth': 5, 'n_estimators': 100}\n",
      "[0.1018996  0.17373086 0.12572019 0.16765974 0.1369347  0.17185006\n",
      " 0.13213541 0.13269362 0.14015889 0.09792181] {'learning_rate': 0.01, 'max_depth': 5, 'n_estimators': 200}\n",
      "[0.1018996  0.17373086 0.12572019 0.16765974 0.1369347  0.17185006\n",
      " 0.13213541 0.13269362 0.14015889 0.09792181] {'learning_rate': 0.01, 'max_depth': 5, 'n_estimators': 500}\n",
      "[0.1018996  0.17373086 0.12572019 0.16765974 0.1369347  0.17185006\n",
      " 0.13213541 0.13269362 0.14015889 0.09792181] {'learning_rate': 0.01, 'max_depth': 10, 'n_estimators': 100}\n",
      "[0.1018996  0.17373086 0.12572019 0.16765974 0.1369347  0.17185006\n",
      " 0.13213541 0.13269362 0.14015889 0.09792181] {'learning_rate': 0.01, 'max_depth': 10, 'n_estimators': 200}\n",
      "[0.1018996  0.17373086 0.12572019 0.16765974 0.1369347  0.17185006\n",
      " 0.13213541 0.13269362 0.14015889 0.09792181] {'learning_rate': 0.01, 'max_depth': 10, 'n_estimators': 500}\n"
     ]
    }
   ],
   "source": [
    "for mean_score, params in zip(xgb_grid_search.cv_results_['mean_test_score'], xgb_grid_search.cv_results_['params']):\n",
    "    print(np.sqrt(-xgb_scores), params)"
   ]
  },
  {
   "cell_type": "code",
   "execution_count": 52,
   "id": "4bc1bbf3",
   "metadata": {
    "scrolled": true
   },
   "outputs": [
    {
     "data": {
      "text/plain": [
       "{'learning_rate': 0.1, 'max_depth': 5, 'n_estimators': 500}"
      ]
     },
     "execution_count": 52,
     "metadata": {},
     "output_type": "execute_result"
    }
   ],
   "source": [
    "xgb_grid_search.best_params_"
   ]
  },
  {
   "cell_type": "markdown",
   "id": "8976596d",
   "metadata": {},
   "source": [
    "### best\n",
    "[0.1018996  0.17373086 0.12572019 0.16765974 0.1369347  0.17185006\n",
    " 0.13213541 0.13269362 0.14015889 0.09792181] {'learning_rate': 0.1, 'max_depth': 5, 'n_estimators': 500}"
   ]
  },
  {
   "cell_type": "code",
   "execution_count": 53,
   "id": "8741aafd",
   "metadata": {},
   "outputs": [
    {
     "data": {
      "text/plain": [
       "0.138070487"
      ]
     },
     "execution_count": 53,
     "metadata": {},
     "output_type": "execute_result"
    }
   ],
   "source": [
    "(0.1018996 + 0.17373086 +0.12572019 +0.16765974 +0.1369347  +0.17185006\n",
    " +0.13213541+ 0.13269362+ 0.14015889+ 0.0979218)/10"
   ]
  },
  {
   "cell_type": "markdown",
   "id": "780b82cf",
   "metadata": {},
   "source": [
    "**0.140 -> 0.138** 성능이 제일 좋았습니다!!"
   ]
  },
  {
   "cell_type": "markdown",
   "id": "aab2514a",
   "metadata": {},
   "source": [
    "# 4. 검증"
   ]
  },
  {
   "cell_type": "code",
   "execution_count": 54,
   "id": "646c3c69",
   "metadata": {},
   "outputs": [],
   "source": [
    "import statsmodels.api as sm"
   ]
  },
  {
   "cell_type": "code",
   "execution_count": 61,
   "id": "20f04f7f",
   "metadata": {},
   "outputs": [],
   "source": [
    "#model = sm.OLS.from_formula(\"SalePrice ~ YearBuilt + YearRemodAdd + IsRemodel_NoRemod + IsRemodel_YesRemod\", data=df)\n",
    "#X_train=sm.add_constant(X_train)\n",
    "#model = sm.OLS(y_train, X_train).fit()\n",
    "#model.summary()"
   ]
  },
  {
   "cell_type": "code",
   "execution_count": 60,
   "id": "889cdf1f",
   "metadata": {
    "scrolled": true
   },
   "outputs": [
    {
     "data": {
      "text/html": [
       "<table class=\"simpletable\">\n",
       "<caption>OLS Regression Results</caption>\n",
       "<tr>\n",
       "  <th>Dep. Variable:</th>        <td>SalePrice</td>    <th>  R-squared:         </th> <td>   0.950</td>\n",
       "</tr>\n",
       "<tr>\n",
       "  <th>Model:</th>                   <td>OLS</td>       <th>  Adj. R-squared:    </th> <td>   0.930</td>\n",
       "</tr>\n",
       "<tr>\n",
       "  <th>Method:</th>             <td>Least Squares</td>  <th>  F-statistic:       </th> <td>   48.54</td>\n",
       "</tr>\n",
       "<tr>\n",
       "  <th>Date:</th>             <td>Sat, 04 Feb 2023</td> <th>  Prob (F-statistic):</th>  <td>  0.00</td> \n",
       "</tr>\n",
       "<tr>\n",
       "  <th>Time:</th>                 <td>03:11:23</td>     <th>  Log-Likelihood:    </th> <td>  1187.7</td>\n",
       "</tr>\n",
       "<tr>\n",
       "  <th>No. Observations:</th>      <td>  1168</td>      <th>  AIC:               </th> <td>  -1719.</td>\n",
       "</tr>\n",
       "<tr>\n",
       "  <th>Df Residuals:</th>          <td>   840</td>      <th>  BIC:               </th> <td>  -58.64</td>\n",
       "</tr>\n",
       "<tr>\n",
       "  <th>Df Model:</th>              <td>   327</td>      <th>                     </th>     <td> </td>   \n",
       "</tr>\n",
       "<tr>\n",
       "  <th>Covariance Type:</th>      <td>nonrobust</td>    <th>                     </th>     <td> </td>   \n",
       "</tr>\n",
       "</table>\n",
       "<table class=\"simpletable\">\n",
       "<tr>\n",
       "            <td></td>               <th>coef</th>     <th>std err</th>      <th>t</th>      <th>P>|t|</th>  <th>[0.025</th>    <th>0.975]</th>  \n",
       "</tr>\n",
       "<tr>\n",
       "  <th>const</th>                 <td>    1.2772</td> <td>    0.613</td> <td>    2.084</td> <td> 0.037</td> <td>    0.074</td> <td>    2.480</td>\n",
       "</tr>\n",
       "<tr>\n",
       "  <th>MSSubClass</th>            <td>   -0.0004</td> <td>    0.001</td> <td>   -0.709</td> <td> 0.479</td> <td>   -0.001</td> <td>    0.001</td>\n",
       "</tr>\n",
       "<tr>\n",
       "  <th>LotFrontage</th>           <td>    0.0003</td> <td>    0.000</td> <td>    1.055</td> <td> 0.292</td> <td>   -0.000</td> <td>    0.001</td>\n",
       "</tr>\n",
       "<tr>\n",
       "  <th>LotArea</th>               <td> 2.116e-06</td> <td>  6.9e-07</td> <td>    3.067</td> <td> 0.002</td> <td> 7.62e-07</td> <td> 3.47e-06</td>\n",
       "</tr>\n",
       "<tr>\n",
       "  <th>OverallQual</th>           <td>    0.0395</td> <td>    0.006</td> <td>    6.922</td> <td> 0.000</td> <td>    0.028</td> <td>    0.051</td>\n",
       "</tr>\n",
       "<tr>\n",
       "  <th>OverallCond</th>           <td>    0.0359</td> <td>    0.005</td> <td>    7.426</td> <td> 0.000</td> <td>    0.026</td> <td>    0.045</td>\n",
       "</tr>\n",
       "<tr>\n",
       "  <th>YearBuilt</th>             <td>    0.0019</td> <td>    0.000</td> <td>    4.442</td> <td> 0.000</td> <td>    0.001</td> <td>    0.003</td>\n",
       "</tr>\n",
       "<tr>\n",
       "  <th>YearRemodAdd</th>          <td>    0.0011</td> <td>    0.000</td> <td>    3.174</td> <td> 0.002</td> <td>    0.000</td> <td>    0.002</td>\n",
       "</tr>\n",
       "<tr>\n",
       "  <th>MasVnrArea</th>            <td> 2.683e-05</td> <td> 3.37e-05</td> <td>    0.797</td> <td> 0.426</td> <td>-3.92e-05</td> <td> 9.29e-05</td>\n",
       "</tr>\n",
       "<tr>\n",
       "  <th>BsmtFinSF1</th>            <td> 5.472e-05</td> <td> 1.57e-05</td> <td>    3.485</td> <td> 0.001</td> <td> 2.39e-05</td> <td> 8.55e-05</td>\n",
       "</tr>\n",
       "<tr>\n",
       "  <th>BsmtFinSF2</th>            <td> 4.066e-05</td> <td> 3.29e-05</td> <td>    1.237</td> <td> 0.216</td> <td>-2.38e-05</td> <td>    0.000</td>\n",
       "</tr>\n",
       "<tr>\n",
       "  <th>BsmtUnfSF</th>             <td> 1.489e-06</td> <td> 1.52e-05</td> <td>    0.098</td> <td> 0.922</td> <td>-2.83e-05</td> <td> 3.12e-05</td>\n",
       "</tr>\n",
       "<tr>\n",
       "  <th>TotalBsmtSF</th>           <td> 9.687e-05</td> <td> 2.18e-05</td> <td>    4.445</td> <td> 0.000</td> <td> 5.41e-05</td> <td>    0.000</td>\n",
       "</tr>\n",
       "<tr>\n",
       "  <th>1stFlrSF</th>              <td> 4.865e-05</td> <td> 3.73e-05</td> <td>    1.305</td> <td> 0.192</td> <td>-2.45e-05</td> <td>    0.000</td>\n",
       "</tr>\n",
       "<tr>\n",
       "  <th>2ndFlrSF</th>              <td> 5.269e-05</td> <td> 3.13e-05</td> <td>    1.682</td> <td> 0.093</td> <td>-8.79e-06</td> <td>    0.000</td>\n",
       "</tr>\n",
       "<tr>\n",
       "  <th>LowQualFinSF</th>          <td> 7.158e-05</td> <td> 8.41e-05</td> <td>    0.851</td> <td> 0.395</td> <td>-9.35e-05</td> <td>    0.000</td>\n",
       "</tr>\n",
       "<tr>\n",
       "  <th>GrLivArea</th>             <td>    0.0002</td> <td> 3.34e-05</td> <td>    5.181</td> <td> 0.000</td> <td>    0.000</td> <td>    0.000</td>\n",
       "</tr>\n",
       "<tr>\n",
       "  <th>BsmtFullBath</th>          <td>    0.0306</td> <td>    0.011</td> <td>    2.808</td> <td> 0.005</td> <td>    0.009</td> <td>    0.052</td>\n",
       "</tr>\n",
       "<tr>\n",
       "  <th>BsmtHalfBath</th>          <td>    0.0136</td> <td>    0.017</td> <td>    0.799</td> <td> 0.425</td> <td>   -0.020</td> <td>    0.047</td>\n",
       "</tr>\n",
       "<tr>\n",
       "  <th>FullBath</th>              <td>    0.0107</td> <td>    0.012</td> <td>    0.864</td> <td> 0.388</td> <td>   -0.014</td> <td>    0.035</td>\n",
       "</tr>\n",
       "<tr>\n",
       "  <th>HalfBath</th>              <td>    0.0221</td> <td>    0.011</td> <td>    1.947</td> <td> 0.052</td> <td>   -0.000</td> <td>    0.044</td>\n",
       "</tr>\n",
       "<tr>\n",
       "  <th>BedroomAbvGr</th>          <td>    0.0171</td> <td>    0.008</td> <td>    2.203</td> <td> 0.028</td> <td>    0.002</td> <td>    0.032</td>\n",
       "</tr>\n",
       "<tr>\n",
       "  <th>KitchenAbvGr</th>          <td>   -0.0300</td> <td>    0.030</td> <td>   -0.994</td> <td> 0.321</td> <td>   -0.089</td> <td>    0.029</td>\n",
       "</tr>\n",
       "<tr>\n",
       "  <th>TotRmsAbvGrd</th>          <td>   -0.0005</td> <td>    0.005</td> <td>   -0.096</td> <td> 0.924</td> <td>   -0.011</td> <td>    0.010</td>\n",
       "</tr>\n",
       "<tr>\n",
       "  <th>Fireplaces</th>            <td>    0.0244</td> <td>    0.014</td> <td>    1.715</td> <td> 0.087</td> <td>   -0.004</td> <td>    0.052</td>\n",
       "</tr>\n",
       "<tr>\n",
       "  <th>GarageCars</th>            <td>    0.0083</td> <td>    0.013</td> <td>    0.654</td> <td> 0.513</td> <td>   -0.017</td> <td>    0.033</td>\n",
       "</tr>\n",
       "<tr>\n",
       "  <th>GarageArea</th>            <td>    0.0002</td> <td> 4.39e-05</td> <td>    3.797</td> <td> 0.000</td> <td> 8.06e-05</td> <td>    0.000</td>\n",
       "</tr>\n",
       "<tr>\n",
       "  <th>WoodDeckSF</th>            <td> 9.227e-05</td> <td> 3.18e-05</td> <td>    2.905</td> <td> 0.004</td> <td> 2.99e-05</td> <td>    0.000</td>\n",
       "</tr>\n",
       "<tr>\n",
       "  <th>OpenPorchSF</th>           <td> 2.177e-05</td> <td> 6.04e-05</td> <td>    0.361</td> <td> 0.719</td> <td>-9.67e-05</td> <td>    0.000</td>\n",
       "</tr>\n",
       "<tr>\n",
       "  <th>EnclosedPorch</th>         <td>    0.0001</td> <td> 7.02e-05</td> <td>    1.857</td> <td> 0.064</td> <td>-7.44e-06</td> <td>    0.000</td>\n",
       "</tr>\n",
       "<tr>\n",
       "  <th>3SsnPorch</th>             <td>    0.0002</td> <td>    0.000</td> <td>    1.682</td> <td> 0.093</td> <td>-3.16e-05</td> <td>    0.000</td>\n",
       "</tr>\n",
       "<tr>\n",
       "  <th>ScreenPorch</th>           <td>    0.0002</td> <td> 6.75e-05</td> <td>    3.205</td> <td> 0.001</td> <td> 8.39e-05</td> <td>    0.000</td>\n",
       "</tr>\n",
       "<tr>\n",
       "  <th>PoolArea</th>              <td> 1.692e-06</td> <td>    0.000</td> <td>    0.016</td> <td> 0.987</td> <td>   -0.000</td> <td>    0.000</td>\n",
       "</tr>\n",
       "<tr>\n",
       "  <th>MiscVal</th>               <td>-1.312e-06</td> <td> 6.88e-06</td> <td>   -0.191</td> <td> 0.849</td> <td>-1.48e-05</td> <td> 1.22e-05</td>\n",
       "</tr>\n",
       "<tr>\n",
       "  <th>MoSold</th>                <td>   -0.0007</td> <td>    0.001</td> <td>   -0.560</td> <td> 0.575</td> <td>   -0.003</td> <td>    0.002</td>\n",
       "</tr>\n",
       "<tr>\n",
       "  <th>YrSold</th>                <td>   -0.0040</td> <td>    0.003</td> <td>   -1.390</td> <td> 0.165</td> <td>   -0.010</td> <td>    0.002</td>\n",
       "</tr>\n",
       "<tr>\n",
       "  <th>MSZoning_C (all)</th>      <td>   -0.0532</td> <td>    0.142</td> <td>   -0.376</td> <td> 0.707</td> <td>   -0.331</td> <td>    0.225</td>\n",
       "</tr>\n",
       "<tr>\n",
       "  <th>MSZoning_FV</th>           <td>    0.3608</td> <td>    0.128</td> <td>    2.821</td> <td> 0.005</td> <td>    0.110</td> <td>    0.612</td>\n",
       "</tr>\n",
       "<tr>\n",
       "  <th>MSZoning_RH</th>           <td>    0.3584</td> <td>    0.126</td> <td>    2.851</td> <td> 0.004</td> <td>    0.112</td> <td>    0.605</td>\n",
       "</tr>\n",
       "<tr>\n",
       "  <th>MSZoning_RL</th>           <td>    0.3290</td> <td>    0.123</td> <td>    2.666</td> <td> 0.008</td> <td>    0.087</td> <td>    0.571</td>\n",
       "</tr>\n",
       "<tr>\n",
       "  <th>MSZoning_RM</th>           <td>    0.2823</td> <td>    0.125</td> <td>    2.262</td> <td> 0.024</td> <td>    0.037</td> <td>    0.527</td>\n",
       "</tr>\n",
       "<tr>\n",
       "  <th>Street_Grvl</th>           <td>    0.6354</td> <td>    0.309</td> <td>    2.057</td> <td> 0.040</td> <td>    0.029</td> <td>    1.242</td>\n",
       "</tr>\n",
       "<tr>\n",
       "  <th>Street_Pave</th>           <td>    0.6419</td> <td>    0.308</td> <td>    2.084</td> <td> 0.037</td> <td>    0.037</td> <td>    1.246</td>\n",
       "</tr>\n",
       "<tr>\n",
       "  <th>LotShape_IR1</th>          <td>    0.3007</td> <td>    0.154</td> <td>    1.955</td> <td> 0.051</td> <td>   -0.001</td> <td>    0.603</td>\n",
       "</tr>\n",
       "<tr>\n",
       "  <th>LotShape_IR2</th>          <td>    0.3268</td> <td>    0.154</td> <td>    2.116</td> <td> 0.035</td> <td>    0.024</td> <td>    0.630</td>\n",
       "</tr>\n",
       "<tr>\n",
       "  <th>LotShape_IR3</th>          <td>    0.3430</td> <td>    0.157</td> <td>    2.183</td> <td> 0.029</td> <td>    0.035</td> <td>    0.651</td>\n",
       "</tr>\n",
       "<tr>\n",
       "  <th>LotShape_Reg</th>          <td>    0.3067</td> <td>    0.154</td> <td>    1.989</td> <td> 0.047</td> <td>    0.004</td> <td>    0.609</td>\n",
       "</tr>\n",
       "<tr>\n",
       "  <th>LandContour_Bnk</th>       <td>    0.2875</td> <td>    0.155</td> <td>    1.859</td> <td> 0.063</td> <td>   -0.016</td> <td>    0.591</td>\n",
       "</tr>\n",
       "<tr>\n",
       "  <th>LandContour_HLS</th>       <td>    0.3481</td> <td>    0.154</td> <td>    2.255</td> <td> 0.024</td> <td>    0.045</td> <td>    0.651</td>\n",
       "</tr>\n",
       "<tr>\n",
       "  <th>LandContour_Low</th>       <td>    0.3084</td> <td>    0.154</td> <td>    1.999</td> <td> 0.046</td> <td>    0.006</td> <td>    0.611</td>\n",
       "</tr>\n",
       "<tr>\n",
       "  <th>LandContour_Lvl</th>       <td>    0.3331</td> <td>    0.154</td> <td>    2.159</td> <td> 0.031</td> <td>    0.030</td> <td>    0.636</td>\n",
       "</tr>\n",
       "<tr>\n",
       "  <th>Utilities_AllPub</th>      <td>    0.7320</td> <td>    0.312</td> <td>    2.348</td> <td> 0.019</td> <td>    0.120</td> <td>    1.344</td>\n",
       "</tr>\n",
       "<tr>\n",
       "  <th>Utilities_NoSeWa</th>      <td>    0.5453</td> <td>    0.315</td> <td>    1.733</td> <td> 0.084</td> <td>   -0.072</td> <td>    1.163</td>\n",
       "</tr>\n",
       "<tr>\n",
       "  <th>LotConfig_Corner</th>      <td>    0.2874</td> <td>    0.124</td> <td>    2.327</td> <td> 0.020</td> <td>    0.045</td> <td>    0.530</td>\n",
       "</tr>\n",
       "<tr>\n",
       "  <th>LotConfig_CulDSac</th>     <td>    0.3243</td> <td>    0.125</td> <td>    2.588</td> <td> 0.010</td> <td>    0.078</td> <td>    0.570</td>\n",
       "</tr>\n",
       "<tr>\n",
       "  <th>LotConfig_FR2</th>         <td>    0.2404</td> <td>    0.125</td> <td>    1.921</td> <td> 0.055</td> <td>   -0.005</td> <td>    0.486</td>\n",
       "</tr>\n",
       "<tr>\n",
       "  <th>LotConfig_FR3</th>         <td>    0.1511</td> <td>    0.134</td> <td>    1.132</td> <td> 0.258</td> <td>   -0.111</td> <td>    0.413</td>\n",
       "</tr>\n",
       "<tr>\n",
       "  <th>LotConfig_Inside</th>      <td>    0.2740</td> <td>    0.124</td> <td>    2.212</td> <td> 0.027</td> <td>    0.031</td> <td>    0.517</td>\n",
       "</tr>\n",
       "<tr>\n",
       "  <th>LandSlope_Gtl</th>         <td>    0.4640</td> <td>    0.206</td> <td>    2.249</td> <td> 0.025</td> <td>    0.059</td> <td>    0.869</td>\n",
       "</tr>\n",
       "<tr>\n",
       "  <th>LandSlope_Mod</th>         <td>    0.4598</td> <td>    0.206</td> <td>    2.229</td> <td> 0.026</td> <td>    0.055</td> <td>    0.865</td>\n",
       "</tr>\n",
       "<tr>\n",
       "  <th>LandSlope_Sev</th>         <td>    0.3534</td> <td>    0.212</td> <td>    1.665</td> <td> 0.096</td> <td>   -0.063</td> <td>    0.770</td>\n",
       "</tr>\n",
       "<tr>\n",
       "  <th>Neighborhood_Blmngtn</th>  <td>    0.0735</td> <td>    0.044</td> <td>    1.653</td> <td> 0.099</td> <td>   -0.014</td> <td>    0.161</td>\n",
       "</tr>\n",
       "<tr>\n",
       "  <th>Neighborhood_Blueste</th>  <td>   -0.0243</td> <td>    0.113</td> <td>   -0.215</td> <td> 0.830</td> <td>   -0.246</td> <td>    0.197</td>\n",
       "</tr>\n",
       "<tr>\n",
       "  <th>Neighborhood_BrDale</th>   <td>    0.0237</td> <td>    0.051</td> <td>    0.467</td> <td> 0.641</td> <td>   -0.076</td> <td>    0.123</td>\n",
       "</tr>\n",
       "<tr>\n",
       "  <th>Neighborhood_BrkSide</th>  <td>    0.0534</td> <td>    0.035</td> <td>    1.530</td> <td> 0.126</td> <td>   -0.015</td> <td>    0.122</td>\n",
       "</tr>\n",
       "<tr>\n",
       "  <th>Neighborhood_ClearCr</th>  <td>    0.0738</td> <td>    0.043</td> <td>    1.732</td> <td> 0.084</td> <td>   -0.010</td> <td>    0.157</td>\n",
       "</tr>\n",
       "<tr>\n",
       "  <th>Neighborhood_CollgCr</th>  <td>    0.0274</td> <td>    0.030</td> <td>    0.906</td> <td> 0.365</td> <td>   -0.032</td> <td>    0.087</td>\n",
       "</tr>\n",
       "<tr>\n",
       "  <th>Neighborhood_Crawfor</th>  <td>    0.1638</td> <td>    0.034</td> <td>    4.866</td> <td> 0.000</td> <td>    0.098</td> <td>    0.230</td>\n",
       "</tr>\n",
       "<tr>\n",
       "  <th>Neighborhood_Edwards</th>  <td>   -0.0075</td> <td>    0.030</td> <td>   -0.249</td> <td> 0.804</td> <td>   -0.066</td> <td>    0.052</td>\n",
       "</tr>\n",
       "<tr>\n",
       "  <th>Neighborhood_Gilbert</th>  <td>    0.0333</td> <td>    0.033</td> <td>    1.005</td> <td> 0.315</td> <td>   -0.032</td> <td>    0.098</td>\n",
       "</tr>\n",
       "<tr>\n",
       "  <th>Neighborhood_IDOTRR</th>   <td>    0.0015</td> <td>    0.043</td> <td>    0.035</td> <td> 0.972</td> <td>   -0.082</td> <td>    0.085</td>\n",
       "</tr>\n",
       "<tr>\n",
       "  <th>Neighborhood_MeadowV</th>  <td>   -0.0894</td> <td>    0.056</td> <td>   -1.603</td> <td> 0.109</td> <td>   -0.199</td> <td>    0.020</td>\n",
       "</tr>\n",
       "<tr>\n",
       "  <th>Neighborhood_Mitchel</th>  <td>    0.0118</td> <td>    0.033</td> <td>    0.356</td> <td> 0.722</td> <td>   -0.053</td> <td>    0.077</td>\n",
       "</tr>\n",
       "<tr>\n",
       "  <th>Neighborhood_NAmes</th>    <td>    0.0154</td> <td>    0.029</td> <td>    0.532</td> <td> 0.595</td> <td>   -0.041</td> <td>    0.072</td>\n",
       "</tr>\n",
       "<tr>\n",
       "  <th>Neighborhood_NPkVill</th>  <td>    0.1083</td> <td>    0.071</td> <td>    1.530</td> <td> 0.126</td> <td>   -0.031</td> <td>    0.247</td>\n",
       "</tr>\n",
       "<tr>\n",
       "  <th>Neighborhood_NWAmes</th>   <td>    0.0182</td> <td>    0.031</td> <td>    0.588</td> <td> 0.557</td> <td>   -0.043</td> <td>    0.079</td>\n",
       "</tr>\n",
       "<tr>\n",
       "  <th>Neighborhood_NoRidge</th>  <td>    0.0709</td> <td>    0.038</td> <td>    1.866</td> <td> 0.062</td> <td>   -0.004</td> <td>    0.146</td>\n",
       "</tr>\n",
       "<tr>\n",
       "  <th>Neighborhood_NridgHt</th>  <td>    0.1189</td> <td>    0.034</td> <td>    3.508</td> <td> 0.000</td> <td>    0.052</td> <td>    0.185</td>\n",
       "</tr>\n",
       "<tr>\n",
       "  <th>Neighborhood_OldTown</th>  <td>    0.0334</td> <td>    0.036</td> <td>    0.928</td> <td> 0.354</td> <td>   -0.037</td> <td>    0.104</td>\n",
       "</tr>\n",
       "<tr>\n",
       "  <th>Neighborhood_SWISU</th>    <td>    0.0843</td> <td>    0.043</td> <td>    1.948</td> <td> 0.052</td> <td>   -0.001</td> <td>    0.169</td>\n",
       "</tr>\n",
       "<tr>\n",
       "  <th>Neighborhood_Sawyer</th>   <td>    0.0278</td> <td>    0.031</td> <td>    0.898</td> <td> 0.369</td> <td>   -0.033</td> <td>    0.089</td>\n",
       "</tr>\n",
       "<tr>\n",
       "  <th>Neighborhood_SawyerW</th>  <td>    0.0225</td> <td>    0.034</td> <td>    0.655</td> <td> 0.513</td> <td>   -0.045</td> <td>    0.090</td>\n",
       "</tr>\n",
       "<tr>\n",
       "  <th>Neighborhood_Somerst</th>  <td>    0.0552</td> <td>    0.041</td> <td>    1.342</td> <td> 0.180</td> <td>   -0.026</td> <td>    0.136</td>\n",
       "</tr>\n",
       "<tr>\n",
       "  <th>Neighborhood_StoneBr</th>  <td>    0.1974</td> <td>    0.041</td> <td>    4.808</td> <td> 0.000</td> <td>    0.117</td> <td>    0.278</td>\n",
       "</tr>\n",
       "<tr>\n",
       "  <th>Neighborhood_Timber</th>   <td>    0.0673</td> <td>    0.036</td> <td>    1.864</td> <td> 0.063</td> <td>   -0.004</td> <td>    0.138</td>\n",
       "</tr>\n",
       "<tr>\n",
       "  <th>Neighborhood_Veenker</th>  <td>    0.1166</td> <td>    0.048</td> <td>    2.431</td> <td> 0.015</td> <td>    0.022</td> <td>    0.211</td>\n",
       "</tr>\n",
       "<tr>\n",
       "  <th>Condition1_Artery</th>     <td>    0.0775</td> <td>    0.074</td> <td>    1.045</td> <td> 0.296</td> <td>   -0.068</td> <td>    0.223</td>\n",
       "</tr>\n",
       "<tr>\n",
       "  <th>Condition1_Feedr</th>      <td>    0.1433</td> <td>    0.072</td> <td>    2.003</td> <td> 0.046</td> <td>    0.003</td> <td>    0.284</td>\n",
       "</tr>\n",
       "<tr>\n",
       "  <th>Condition1_Norm</th>       <td>    0.1695</td> <td>    0.070</td> <td>    2.412</td> <td> 0.016</td> <td>    0.032</td> <td>    0.307</td>\n",
       "</tr>\n",
       "<tr>\n",
       "  <th>Condition1_PosA</th>       <td>    0.1260</td> <td>    0.081</td> <td>    1.561</td> <td> 0.119</td> <td>   -0.032</td> <td>    0.284</td>\n",
       "</tr>\n",
       "<tr>\n",
       "  <th>Condition1_PosN</th>       <td>    0.1762</td> <td>    0.078</td> <td>    2.246</td> <td> 0.025</td> <td>    0.022</td> <td>    0.330</td>\n",
       "</tr>\n",
       "<tr>\n",
       "  <th>Condition1_RRAe</th>       <td>    0.0585</td> <td>    0.078</td> <td>    0.754</td> <td> 0.451</td> <td>   -0.094</td> <td>    0.211</td>\n",
       "</tr>\n",
       "<tr>\n",
       "  <th>Condition1_RRAn</th>       <td>    0.1440</td> <td>    0.075</td> <td>    1.933</td> <td> 0.054</td> <td>   -0.002</td> <td>    0.290</td>\n",
       "</tr>\n",
       "<tr>\n",
       "  <th>Condition1_RRNe</th>       <td>    0.2177</td> <td>    0.119</td> <td>    1.833</td> <td> 0.067</td> <td>   -0.015</td> <td>    0.451</td>\n",
       "</tr>\n",
       "<tr>\n",
       "  <th>Condition1_RRNn</th>       <td>    0.1645</td> <td>    0.089</td> <td>    1.856</td> <td> 0.064</td> <td>   -0.009</td> <td>    0.338</td>\n",
       "</tr>\n",
       "<tr>\n",
       "  <th>Condition2_Artery</th>     <td>    0.1294</td> <td>    0.128</td> <td>    1.008</td> <td> 0.314</td> <td>   -0.123</td> <td>    0.381</td>\n",
       "</tr>\n",
       "<tr>\n",
       "  <th>Condition2_Feedr</th>      <td>    0.4763</td> <td>    0.118</td> <td>    4.031</td> <td> 0.000</td> <td>    0.244</td> <td>    0.708</td>\n",
       "</tr>\n",
       "<tr>\n",
       "  <th>Condition2_Norm</th>       <td>    0.2510</td> <td>    0.090</td> <td>    2.788</td> <td> 0.005</td> <td>    0.074</td> <td>    0.428</td>\n",
       "</tr>\n",
       "<tr>\n",
       "  <th>Condition2_PosA</th>       <td>    0.5755</td> <td>    0.167</td> <td>    3.449</td> <td> 0.001</td> <td>    0.248</td> <td>    0.903</td>\n",
       "</tr>\n",
       "<tr>\n",
       "  <th>Condition2_PosN</th>       <td>   -0.5977</td> <td>    0.120</td> <td>   -4.985</td> <td> 0.000</td> <td>   -0.833</td> <td>   -0.362</td>\n",
       "</tr>\n",
       "<tr>\n",
       "  <th>Condition2_RRAe</th>       <td>   -0.0491</td> <td>    0.207</td> <td>   -0.237</td> <td> 0.813</td> <td>   -0.456</td> <td>    0.358</td>\n",
       "</tr>\n",
       "<tr>\n",
       "  <th>Condition2_RRAn</th>       <td>    0.2030</td> <td>    0.136</td> <td>    1.493</td> <td> 0.136</td> <td>   -0.064</td> <td>    0.470</td>\n",
       "</tr>\n",
       "<tr>\n",
       "  <th>Condition2_RRNn</th>       <td>    0.2889</td> <td>    0.137</td> <td>    2.115</td> <td> 0.035</td> <td>    0.021</td> <td>    0.557</td>\n",
       "</tr>\n",
       "<tr>\n",
       "  <th>BldgType_1Fam</th>         <td>    0.2702</td> <td>    0.131</td> <td>    2.063</td> <td> 0.039</td> <td>    0.013</td> <td>    0.527</td>\n",
       "</tr>\n",
       "<tr>\n",
       "  <th>BldgType_2fmCon</th>       <td>    0.3372</td> <td>    0.129</td> <td>    2.612</td> <td> 0.009</td> <td>    0.084</td> <td>    0.591</td>\n",
       "</tr>\n",
       "<tr>\n",
       "  <th>BldgType_Duplex</th>       <td>    0.2072</td> <td>    0.126</td> <td>    1.643</td> <td> 0.101</td> <td>   -0.040</td> <td>    0.455</td>\n",
       "</tr>\n",
       "<tr>\n",
       "  <th>BldgType_Twnhs</th>        <td>    0.2114</td> <td>    0.126</td> <td>    1.678</td> <td> 0.094</td> <td>   -0.036</td> <td>    0.459</td>\n",
       "</tr>\n",
       "<tr>\n",
       "  <th>BldgType_TwnhsE</th>       <td>    0.2512</td> <td>    0.125</td> <td>    2.005</td> <td> 0.045</td> <td>    0.005</td> <td>    0.497</td>\n",
       "</tr>\n",
       "<tr>\n",
       "  <th>HouseStyle_1.5Fin</th>     <td>    0.1695</td> <td>    0.079</td> <td>    2.147</td> <td> 0.032</td> <td>    0.015</td> <td>    0.325</td>\n",
       "</tr>\n",
       "<tr>\n",
       "  <th>HouseStyle_1.5Unf</th>     <td>    0.2038</td> <td>    0.087</td> <td>    2.351</td> <td> 0.019</td> <td>    0.034</td> <td>    0.374</td>\n",
       "</tr>\n",
       "<tr>\n",
       "  <th>HouseStyle_1Story</th>     <td>    0.1389</td> <td>    0.082</td> <td>    1.698</td> <td> 0.090</td> <td>   -0.022</td> <td>    0.299</td>\n",
       "</tr>\n",
       "<tr>\n",
       "  <th>HouseStyle_2.5Fin</th>     <td>    0.1088</td> <td>    0.097</td> <td>    1.119</td> <td> 0.263</td> <td>   -0.082</td> <td>    0.300</td>\n",
       "</tr>\n",
       "<tr>\n",
       "  <th>HouseStyle_2.5Unf</th>     <td>    0.2112</td> <td>    0.088</td> <td>    2.388</td> <td> 0.017</td> <td>    0.038</td> <td>    0.385</td>\n",
       "</tr>\n",
       "<tr>\n",
       "  <th>HouseStyle_2Story</th>     <td>    0.1417</td> <td>    0.079</td> <td>    1.794</td> <td> 0.073</td> <td>   -0.013</td> <td>    0.297</td>\n",
       "</tr>\n",
       "<tr>\n",
       "  <th>HouseStyle_SFoyer</th>     <td>    0.1384</td> <td>    0.083</td> <td>    1.670</td> <td> 0.095</td> <td>   -0.024</td> <td>    0.301</td>\n",
       "</tr>\n",
       "<tr>\n",
       "  <th>HouseStyle_SLvl</th>       <td>    0.1648</td> <td>    0.082</td> <td>    2.014</td> <td> 0.044</td> <td>    0.004</td> <td>    0.325</td>\n",
       "</tr>\n",
       "<tr>\n",
       "  <th>RoofStyle_Flat</th>        <td>    0.2118</td> <td>    0.147</td> <td>    1.438</td> <td> 0.151</td> <td>   -0.077</td> <td>    0.501</td>\n",
       "</tr>\n",
       "<tr>\n",
       "  <th>RoofStyle_Gable</th>       <td>    0.1347</td> <td>    0.108</td> <td>    1.244</td> <td> 0.214</td> <td>   -0.078</td> <td>    0.347</td>\n",
       "</tr>\n",
       "<tr>\n",
       "  <th>RoofStyle_Gambrel</th>     <td>    0.1585</td> <td>    0.113</td> <td>    1.402</td> <td> 0.161</td> <td>   -0.063</td> <td>    0.380</td>\n",
       "</tr>\n",
       "<tr>\n",
       "  <th>RoofStyle_Hip</th>         <td>    0.1321</td> <td>    0.108</td> <td>    1.218</td> <td> 0.224</td> <td>   -0.081</td> <td>    0.345</td>\n",
       "</tr>\n",
       "<tr>\n",
       "  <th>RoofStyle_Mansard</th>     <td>    0.2433</td> <td>    0.120</td> <td>    2.034</td> <td> 0.042</td> <td>    0.009</td> <td>    0.478</td>\n",
       "</tr>\n",
       "<tr>\n",
       "  <th>RoofStyle_Shed</th>        <td>    0.3968</td> <td>    0.180</td> <td>    2.204</td> <td> 0.028</td> <td>    0.043</td> <td>    0.750</td>\n",
       "</tr>\n",
       "<tr>\n",
       "  <th>RoofMatl_ClyTile</th>      <td>   -2.2261</td> <td>    0.183</td> <td>  -12.184</td> <td> 0.000</td> <td>   -2.585</td> <td>   -1.867</td>\n",
       "</tr>\n",
       "<tr>\n",
       "  <th>RoofMatl_CompShg</th>      <td>    0.5508</td> <td>    0.102</td> <td>    5.375</td> <td> 0.000</td> <td>    0.350</td> <td>    0.752</td>\n",
       "</tr>\n",
       "<tr>\n",
       "  <th>RoofMatl_Membran</th>      <td>-1.958e-15</td> <td> 2.36e-16</td> <td>   -8.304</td> <td> 0.000</td> <td>-2.42e-15</td> <td>-1.49e-15</td>\n",
       "</tr>\n",
       "<tr>\n",
       "  <th>RoofMatl_Metal</th>        <td>    0.6242</td> <td>    0.181</td> <td>    3.440</td> <td> 0.001</td> <td>    0.268</td> <td>    0.980</td>\n",
       "</tr>\n",
       "<tr>\n",
       "  <th>RoofMatl_Roll</th>         <td>    0.6398</td> <td>    0.150</td> <td>    4.269</td> <td> 0.000</td> <td>    0.346</td> <td>    0.934</td>\n",
       "</tr>\n",
       "<tr>\n",
       "  <th>RoofMatl_Tar&Grv</th>      <td>    0.5652</td> <td>    0.141</td> <td>    4.014</td> <td> 0.000</td> <td>    0.289</td> <td>    0.842</td>\n",
       "</tr>\n",
       "<tr>\n",
       "  <th>RoofMatl_WdShake</th>      <td>    0.5653</td> <td>    0.125</td> <td>    4.533</td> <td> 0.000</td> <td>    0.321</td> <td>    0.810</td>\n",
       "</tr>\n",
       "<tr>\n",
       "  <th>RoofMatl_WdShngl</th>      <td>    0.5580</td> <td>    0.121</td> <td>    4.613</td> <td> 0.000</td> <td>    0.321</td> <td>    0.795</td>\n",
       "</tr>\n",
       "<tr>\n",
       "  <th>Exterior1st_AsbShng</th>   <td>    0.1230</td> <td>    0.077</td> <td>    1.591</td> <td> 0.112</td> <td>   -0.029</td> <td>    0.275</td>\n",
       "</tr>\n",
       "<tr>\n",
       "  <th>Exterior1st_AsphShn</th>   <td>    0.1774</td> <td>    0.153</td> <td>    1.161</td> <td> 0.246</td> <td>   -0.123</td> <td>    0.477</td>\n",
       "</tr>\n",
       "<tr>\n",
       "  <th>Exterior1st_BrkComm</th>   <td>   -0.1131</td> <td>    0.129</td> <td>   -0.877</td> <td> 0.381</td> <td>   -0.366</td> <td>    0.140</td>\n",
       "</tr>\n",
       "<tr>\n",
       "  <th>Exterior1st_BrkFace</th>   <td>    0.2059</td> <td>    0.053</td> <td>    3.862</td> <td> 0.000</td> <td>    0.101</td> <td>    0.310</td>\n",
       "</tr>\n",
       "<tr>\n",
       "  <th>Exterior1st_CBlock</th>    <td>    0.1118</td> <td>    0.075</td> <td>    1.493</td> <td> 0.136</td> <td>   -0.035</td> <td>    0.259</td>\n",
       "</tr>\n",
       "<tr>\n",
       "  <th>Exterior1st_CemntBd</th>   <td>    0.0248</td> <td>    0.082</td> <td>    0.304</td> <td> 0.761</td> <td>   -0.135</td> <td>    0.185</td>\n",
       "</tr>\n",
       "<tr>\n",
       "  <th>Exterior1st_HdBoard</th>   <td>    0.0871</td> <td>    0.051</td> <td>    1.705</td> <td> 0.089</td> <td>   -0.013</td> <td>    0.187</td>\n",
       "</tr>\n",
       "<tr>\n",
       "  <th>Exterior1st_ImStucc</th>   <td>    0.0371</td> <td>    0.125</td> <td>    0.298</td> <td> 0.766</td> <td>   -0.207</td> <td>    0.281</td>\n",
       "</tr>\n",
       "<tr>\n",
       "  <th>Exterior1st_MetalSd</th>   <td>    0.1178</td> <td>    0.062</td> <td>    1.897</td> <td> 0.058</td> <td>   -0.004</td> <td>    0.240</td>\n",
       "</tr>\n",
       "<tr>\n",
       "  <th>Exterior1st_Plywood</th>   <td>    0.0952</td> <td>    0.052</td> <td>    1.840</td> <td> 0.066</td> <td>   -0.006</td> <td>    0.197</td>\n",
       "</tr>\n",
       "<tr>\n",
       "  <th>Exterior1st_Stone</th>     <td>    0.1400</td> <td>    0.156</td> <td>    0.899</td> <td> 0.369</td> <td>   -0.166</td> <td>    0.446</td>\n",
       "</tr>\n",
       "<tr>\n",
       "  <th>Exterior1st_Stucco</th>    <td>    0.0814</td> <td>    0.062</td> <td>    1.312</td> <td> 0.190</td> <td>   -0.040</td> <td>    0.203</td>\n",
       "</tr>\n",
       "<tr>\n",
       "  <th>Exterior1st_VinylSd</th>   <td>    0.0814</td> <td>    0.058</td> <td>    1.413</td> <td> 0.158</td> <td>   -0.032</td> <td>    0.195</td>\n",
       "</tr>\n",
       "<tr>\n",
       "  <th>Exterior1st_Wd Sdng</th>   <td>    0.0586</td> <td>    0.050</td> <td>    1.177</td> <td> 0.240</td> <td>   -0.039</td> <td>    0.156</td>\n",
       "</tr>\n",
       "<tr>\n",
       "  <th>Exterior1st_WdShing</th>   <td>    0.0488</td> <td>    0.056</td> <td>    0.871</td> <td> 0.384</td> <td>   -0.061</td> <td>    0.159</td>\n",
       "</tr>\n",
       "<tr>\n",
       "  <th>Exterior2nd_AsbShng</th>   <td>    0.0503</td> <td>    0.071</td> <td>    0.708</td> <td> 0.479</td> <td>   -0.089</td> <td>    0.190</td>\n",
       "</tr>\n",
       "<tr>\n",
       "  <th>Exterior2nd_AsphShn</th>   <td>    0.0566</td> <td>    0.095</td> <td>    0.597</td> <td> 0.551</td> <td>   -0.130</td> <td>    0.243</td>\n",
       "</tr>\n",
       "<tr>\n",
       "  <th>Exterior2nd_Brk Cmn</th>   <td>    0.0433</td> <td>    0.094</td> <td>    0.458</td> <td> 0.647</td> <td>   -0.142</td> <td>    0.229</td>\n",
       "</tr>\n",
       "<tr>\n",
       "  <th>Exterior2nd_BrkFace</th>   <td>    0.0280</td> <td>    0.058</td> <td>    0.485</td> <td> 0.628</td> <td>   -0.085</td> <td>    0.141</td>\n",
       "</tr>\n",
       "<tr>\n",
       "  <th>Exterior2nd_CBlock</th>    <td>    0.1118</td> <td>    0.075</td> <td>    1.493</td> <td> 0.136</td> <td>   -0.035</td> <td>    0.259</td>\n",
       "</tr>\n",
       "<tr>\n",
       "  <th>Exterior2nd_CmentBd</th>   <td>    0.1804</td> <td>    0.082</td> <td>    2.211</td> <td> 0.027</td> <td>    0.020</td> <td>    0.341</td>\n",
       "</tr>\n",
       "<tr>\n",
       "  <th>Exterior2nd_HdBoard</th>   <td>    0.0808</td> <td>    0.048</td> <td>    1.681</td> <td> 0.093</td> <td>   -0.014</td> <td>    0.175</td>\n",
       "</tr>\n",
       "<tr>\n",
       "  <th>Exterior2nd_ImStucc</th>   <td>    0.1426</td> <td>    0.068</td> <td>    2.108</td> <td> 0.035</td> <td>    0.010</td> <td>    0.275</td>\n",
       "</tr>\n",
       "<tr>\n",
       "  <th>Exterior2nd_MetalSd</th>   <td>    0.0756</td> <td>    0.059</td> <td>    1.283</td> <td> 0.200</td> <td>   -0.040</td> <td>    0.191</td>\n",
       "</tr>\n",
       "<tr>\n",
       "  <th>Exterior2nd_Other</th>     <td>   -0.0418</td> <td>    0.116</td> <td>   -0.359</td> <td> 0.720</td> <td>   -0.270</td> <td>    0.187</td>\n",
       "</tr>\n",
       "<tr>\n",
       "  <th>Exterior2nd_Plywood</th>   <td>    0.0725</td> <td>    0.047</td> <td>    1.538</td> <td> 0.124</td> <td>   -0.020</td> <td>    0.165</td>\n",
       "</tr>\n",
       "<tr>\n",
       "  <th>Exterior2nd_Stone</th>     <td>    0.0136</td> <td>    0.109</td> <td>    0.125</td> <td> 0.901</td> <td>   -0.200</td> <td>    0.227</td>\n",
       "</tr>\n",
       "<tr>\n",
       "  <th>Exterior2nd_Stucco</th>    <td>    0.1629</td> <td>    0.057</td> <td>    2.839</td> <td> 0.005</td> <td>    0.050</td> <td>    0.275</td>\n",
       "</tr>\n",
       "<tr>\n",
       "  <th>Exterior2nd_VinylSd</th>   <td>    0.0820</td> <td>    0.051</td> <td>    1.614</td> <td> 0.107</td> <td>   -0.018</td> <td>    0.182</td>\n",
       "</tr>\n",
       "<tr>\n",
       "  <th>Exterior2nd_Wd Sdng</th>   <td>    0.1145</td> <td>    0.046</td> <td>    2.504</td> <td> 0.012</td> <td>    0.025</td> <td>    0.204</td>\n",
       "</tr>\n",
       "<tr>\n",
       "  <th>Exterior2nd_Wd Shng</th>   <td>    0.1041</td> <td>    0.048</td> <td>    2.148</td> <td> 0.032</td> <td>    0.009</td> <td>    0.199</td>\n",
       "</tr>\n",
       "<tr>\n",
       "  <th>MasVnrType_BrkCmn</th>     <td>    0.2923</td> <td>    0.157</td> <td>    1.867</td> <td> 0.062</td> <td>   -0.015</td> <td>    0.600</td>\n",
       "</tr>\n",
       "<tr>\n",
       "  <th>MasVnrType_BrkFace</th>    <td>    0.3333</td> <td>    0.153</td> <td>    2.177</td> <td> 0.030</td> <td>    0.033</td> <td>    0.634</td>\n",
       "</tr>\n",
       "<tr>\n",
       "  <th>MasVnrType_None</th>       <td>    0.3238</td> <td>    0.153</td> <td>    2.118</td> <td> 0.034</td> <td>    0.024</td> <td>    0.624</td>\n",
       "</tr>\n",
       "<tr>\n",
       "  <th>MasVnrType_Stone</th>      <td>    0.3278</td> <td>    0.154</td> <td>    2.126</td> <td> 0.034</td> <td>    0.025</td> <td>    0.630</td>\n",
       "</tr>\n",
       "<tr>\n",
       "  <th>ExterQual_Ex</th>          <td>    0.3416</td> <td>    0.155</td> <td>    2.209</td> <td> 0.027</td> <td>    0.038</td> <td>    0.645</td>\n",
       "</tr>\n",
       "<tr>\n",
       "  <th>ExterQual_Fa</th>          <td>    0.2632</td> <td>    0.161</td> <td>    1.637</td> <td> 0.102</td> <td>   -0.052</td> <td>    0.579</td>\n",
       "</tr>\n",
       "<tr>\n",
       "  <th>ExterQual_Gd</th>          <td>    0.3349</td> <td>    0.153</td> <td>    2.186</td> <td> 0.029</td> <td>    0.034</td> <td>    0.636</td>\n",
       "</tr>\n",
       "<tr>\n",
       "  <th>ExterQual_TA</th>          <td>    0.3375</td> <td>    0.153</td> <td>    2.202</td> <td> 0.028</td> <td>    0.037</td> <td>    0.638</td>\n",
       "</tr>\n",
       "<tr>\n",
       "  <th>ExterCond_Ex</th>          <td>    0.2770</td> <td>    0.146</td> <td>    1.891</td> <td> 0.059</td> <td>   -0.010</td> <td>    0.564</td>\n",
       "</tr>\n",
       "<tr>\n",
       "  <th>ExterCond_Fa</th>          <td>    0.2504</td> <td>    0.127</td> <td>    1.973</td> <td> 0.049</td> <td>    0.001</td> <td>    0.499</td>\n",
       "</tr>\n",
       "<tr>\n",
       "  <th>ExterCond_Gd</th>          <td>    0.2549</td> <td>    0.125</td> <td>    2.039</td> <td> 0.042</td> <td>    0.010</td> <td>    0.500</td>\n",
       "</tr>\n",
       "<tr>\n",
       "  <th>ExterCond_Po</th>          <td>    0.2257</td> <td>    0.161</td> <td>    1.400</td> <td> 0.162</td> <td>   -0.091</td> <td>    0.542</td>\n",
       "</tr>\n",
       "<tr>\n",
       "  <th>ExterCond_TA</th>          <td>    0.2693</td> <td>    0.124</td> <td>    2.166</td> <td> 0.031</td> <td>    0.025</td> <td>    0.513</td>\n",
       "</tr>\n",
       "<tr>\n",
       "  <th>Foundation_BrkTil</th>     <td>    0.2105</td> <td>    0.104</td> <td>    2.031</td> <td> 0.043</td> <td>    0.007</td> <td>    0.414</td>\n",
       "</tr>\n",
       "<tr>\n",
       "  <th>Foundation_CBlock</th>     <td>    0.2436</td> <td>    0.103</td> <td>    2.357</td> <td> 0.019</td> <td>    0.041</td> <td>    0.446</td>\n",
       "</tr>\n",
       "<tr>\n",
       "  <th>Foundation_PConc</th>      <td>    0.2606</td> <td>    0.103</td> <td>    2.520</td> <td> 0.012</td> <td>    0.058</td> <td>    0.464</td>\n",
       "</tr>\n",
       "<tr>\n",
       "  <th>Foundation_Slab</th>       <td>    0.1535</td> <td>    0.113</td> <td>    1.356</td> <td> 0.176</td> <td>   -0.069</td> <td>    0.376</td>\n",
       "</tr>\n",
       "<tr>\n",
       "  <th>Foundation_Stone</th>      <td>    0.2775</td> <td>    0.118</td> <td>    2.349</td> <td> 0.019</td> <td>    0.046</td> <td>    0.509</td>\n",
       "</tr>\n",
       "<tr>\n",
       "  <th>Foundation_Wood</th>       <td>    0.1316</td> <td>    0.119</td> <td>    1.102</td> <td> 0.271</td> <td>   -0.103</td> <td>    0.366</td>\n",
       "</tr>\n",
       "<tr>\n",
       "  <th>BsmtQual_Ex</th>           <td>    0.2756</td> <td>    0.128</td> <td>    2.160</td> <td> 0.031</td> <td>    0.025</td> <td>    0.526</td>\n",
       "</tr>\n",
       "<tr>\n",
       "  <th>BsmtQual_Fa</th>           <td>    0.2890</td> <td>    0.127</td> <td>    2.281</td> <td> 0.023</td> <td>    0.040</td> <td>    0.538</td>\n",
       "</tr>\n",
       "<tr>\n",
       "  <th>BsmtQual_Gd</th>           <td>    0.2486</td> <td>    0.127</td> <td>    1.960</td> <td> 0.050</td> <td>   -0.000</td> <td>    0.497</td>\n",
       "</tr>\n",
       "<tr>\n",
       "  <th>BsmtQual_None</th>         <td>    0.2248</td> <td>    0.110</td> <td>    2.047</td> <td> 0.041</td> <td>    0.009</td> <td>    0.440</td>\n",
       "</tr>\n",
       "<tr>\n",
       "  <th>BsmtQual_TA</th>           <td>    0.2393</td> <td>    0.127</td> <td>    1.889</td> <td> 0.059</td> <td>   -0.009</td> <td>    0.488</td>\n",
       "</tr>\n",
       "<tr>\n",
       "  <th>BsmtCond_Fa</th>           <td>    0.1736</td> <td>    0.130</td> <td>    1.335</td> <td> 0.182</td> <td>   -0.082</td> <td>    0.429</td>\n",
       "</tr>\n",
       "<tr>\n",
       "  <th>BsmtCond_Gd</th>           <td>    0.2210</td> <td>    0.131</td> <td>    1.688</td> <td> 0.092</td> <td>   -0.036</td> <td>    0.478</td>\n",
       "</tr>\n",
       "<tr>\n",
       "  <th>BsmtCond_None</th>         <td>    0.2248</td> <td>    0.110</td> <td>    2.047</td> <td> 0.041</td> <td>    0.009</td> <td>    0.440</td>\n",
       "</tr>\n",
       "<tr>\n",
       "  <th>BsmtCond_Po</th>           <td>    0.4233</td> <td>    0.183</td> <td>    2.312</td> <td> 0.021</td> <td>    0.064</td> <td>    0.783</td>\n",
       "</tr>\n",
       "<tr>\n",
       "  <th>BsmtCond_TA</th>           <td>    0.2346</td> <td>    0.132</td> <td>    1.782</td> <td> 0.075</td> <td>   -0.024</td> <td>    0.493</td>\n",
       "</tr>\n",
       "<tr>\n",
       "  <th>BsmtExposure_Av</th>       <td>    0.2599</td> <td>    0.126</td> <td>    2.061</td> <td> 0.040</td> <td>    0.012</td> <td>    0.507</td>\n",
       "</tr>\n",
       "<tr>\n",
       "  <th>BsmtExposure_Gd</th>       <td>    0.2928</td> <td>    0.126</td> <td>    2.326</td> <td> 0.020</td> <td>    0.046</td> <td>    0.540</td>\n",
       "</tr>\n",
       "<tr>\n",
       "  <th>BsmtExposure_Mn</th>       <td>    0.2543</td> <td>    0.127</td> <td>    2.010</td> <td> 0.045</td> <td>    0.006</td> <td>    0.503</td>\n",
       "</tr>\n",
       "<tr>\n",
       "  <th>BsmtExposure_No</th>       <td>    0.2454</td> <td>    0.127</td> <td>    1.936</td> <td> 0.053</td> <td>   -0.003</td> <td>    0.494</td>\n",
       "</tr>\n",
       "<tr>\n",
       "  <th>BsmtExposure_None</th>     <td>    0.2248</td> <td>    0.110</td> <td>    2.047</td> <td> 0.041</td> <td>    0.009</td> <td>    0.440</td>\n",
       "</tr>\n",
       "<tr>\n",
       "  <th>BsmtFinType1_ALQ</th>      <td>    0.1834</td> <td>    0.084</td> <td>    2.177</td> <td> 0.030</td> <td>    0.018</td> <td>    0.349</td>\n",
       "</tr>\n",
       "<tr>\n",
       "  <th>BsmtFinType1_BLQ</th>      <td>    0.1733</td> <td>    0.085</td> <td>    2.043</td> <td> 0.041</td> <td>    0.007</td> <td>    0.340</td>\n",
       "</tr>\n",
       "<tr>\n",
       "  <th>BsmtFinType1_GLQ</th>      <td>    0.1888</td> <td>    0.085</td> <td>    2.212</td> <td> 0.027</td> <td>    0.021</td> <td>    0.356</td>\n",
       "</tr>\n",
       "<tr>\n",
       "  <th>BsmtFinType1_LwQ</th>      <td>    0.1766</td> <td>    0.086</td> <td>    2.063</td> <td> 0.039</td> <td>    0.009</td> <td>    0.345</td>\n",
       "</tr>\n",
       "<tr>\n",
       "  <th>BsmtFinType1_None</th>     <td>    0.2248</td> <td>    0.110</td> <td>    2.047</td> <td> 0.041</td> <td>    0.009</td> <td>    0.440</td>\n",
       "</tr>\n",
       "<tr>\n",
       "  <th>BsmtFinType1_Rec</th>      <td>    0.1683</td> <td>    0.084</td> <td>    2.002</td> <td> 0.046</td> <td>    0.003</td> <td>    0.333</td>\n",
       "</tr>\n",
       "<tr>\n",
       "  <th>BsmtFinType1_Unf</th>      <td>    0.1621</td> <td>    0.085</td> <td>    1.918</td> <td> 0.055</td> <td>   -0.004</td> <td>    0.328</td>\n",
       "</tr>\n",
       "<tr>\n",
       "  <th>BsmtFinType2_ALQ</th>      <td>    0.1596</td> <td>    0.088</td> <td>    1.806</td> <td> 0.071</td> <td>   -0.014</td> <td>    0.333</td>\n",
       "</tr>\n",
       "<tr>\n",
       "  <th>BsmtFinType2_BLQ</th>      <td>    0.1346</td> <td>    0.088</td> <td>    1.528</td> <td> 0.127</td> <td>   -0.038</td> <td>    0.307</td>\n",
       "</tr>\n",
       "<tr>\n",
       "  <th>BsmtFinType2_GLQ</th>      <td>    0.2274</td> <td>    0.092</td> <td>    2.463</td> <td> 0.014</td> <td>    0.046</td> <td>    0.409</td>\n",
       "</tr>\n",
       "<tr>\n",
       "  <th>BsmtFinType2_LwQ</th>      <td>    0.1702</td> <td>    0.086</td> <td>    1.969</td> <td> 0.049</td> <td>    0.001</td> <td>    0.340</td>\n",
       "</tr>\n",
       "<tr>\n",
       "  <th>BsmtFinType2_None</th>     <td>    0.2248</td> <td>    0.110</td> <td>    2.047</td> <td> 0.041</td> <td>    0.009</td> <td>    0.440</td>\n",
       "</tr>\n",
       "<tr>\n",
       "  <th>BsmtFinType2_Rec</th>      <td>    0.1749</td> <td>    0.086</td> <td>    2.042</td> <td> 0.041</td> <td>    0.007</td> <td>    0.343</td>\n",
       "</tr>\n",
       "<tr>\n",
       "  <th>BsmtFinType2_Unf</th>      <td>    0.1858</td> <td>    0.087</td> <td>    2.147</td> <td> 0.032</td> <td>    0.016</td> <td>    0.356</td>\n",
       "</tr>\n",
       "<tr>\n",
       "  <th>Heating_Floor</th>         <td>    0.1086</td> <td>    0.154</td> <td>    0.706</td> <td> 0.480</td> <td>   -0.193</td> <td>    0.411</td>\n",
       "</tr>\n",
       "<tr>\n",
       "  <th>Heating_GasA</th>          <td>    0.2332</td> <td>    0.107</td> <td>    2.184</td> <td> 0.029</td> <td>    0.024</td> <td>    0.443</td>\n",
       "</tr>\n",
       "<tr>\n",
       "  <th>Heating_GasW</th>          <td>    0.2833</td> <td>    0.110</td> <td>    2.584</td> <td> 0.010</td> <td>    0.068</td> <td>    0.498</td>\n",
       "</tr>\n",
       "<tr>\n",
       "  <th>Heating_Grav</th>          <td>   -0.0017</td> <td>    0.117</td> <td>   -0.015</td> <td> 0.988</td> <td>   -0.232</td> <td>    0.228</td>\n",
       "</tr>\n",
       "<tr>\n",
       "  <th>Heating_OthW</th>          <td>    0.2779</td> <td>    0.131</td> <td>    2.113</td> <td> 0.035</td> <td>    0.020</td> <td>    0.536</td>\n",
       "</tr>\n",
       "<tr>\n",
       "  <th>Heating_Wall</th>          <td>    0.3760</td> <td>    0.126</td> <td>    2.977</td> <td> 0.003</td> <td>    0.128</td> <td>    0.624</td>\n",
       "</tr>\n",
       "<tr>\n",
       "  <th>HeatingQC_Ex</th>          <td>    0.2839</td> <td>    0.126</td> <td>    2.258</td> <td> 0.024</td> <td>    0.037</td> <td>    0.531</td>\n",
       "</tr>\n",
       "<tr>\n",
       "  <th>HeatingQC_Fa</th>          <td>    0.2784</td> <td>    0.127</td> <td>    2.195</td> <td> 0.028</td> <td>    0.029</td> <td>    0.527</td>\n",
       "</tr>\n",
       "<tr>\n",
       "  <th>HeatingQC_Gd</th>          <td>    0.2618</td> <td>    0.125</td> <td>    2.099</td> <td> 0.036</td> <td>    0.017</td> <td>    0.507</td>\n",
       "</tr>\n",
       "<tr>\n",
       "  <th>HeatingQC_Po</th>          <td>    0.1932</td> <td>    0.166</td> <td>    1.164</td> <td> 0.245</td> <td>   -0.133</td> <td>    0.519</td>\n",
       "</tr>\n",
       "<tr>\n",
       "  <th>HeatingQC_TA</th>          <td>    0.2599</td> <td>    0.126</td> <td>    2.065</td> <td> 0.039</td> <td>    0.013</td> <td>    0.507</td>\n",
       "</tr>\n",
       "<tr>\n",
       "  <th>CentralAir_N</th>          <td>    0.6056</td> <td>    0.307</td> <td>    1.975</td> <td> 0.049</td> <td>    0.004</td> <td>    1.208</td>\n",
       "</tr>\n",
       "<tr>\n",
       "  <th>CentralAir_Y</th>          <td>    0.6716</td> <td>    0.306</td> <td>    2.191</td> <td> 0.029</td> <td>    0.070</td> <td>    1.273</td>\n",
       "</tr>\n",
       "<tr>\n",
       "  <th>Electrical_FuseA</th>      <td>    0.3347</td> <td>    0.154</td> <td>    2.167</td> <td> 0.030</td> <td>    0.032</td> <td>    0.638</td>\n",
       "</tr>\n",
       "<tr>\n",
       "  <th>Electrical_FuseF</th>      <td>    0.3387</td> <td>    0.155</td> <td>    2.181</td> <td> 0.029</td> <td>    0.034</td> <td>    0.644</td>\n",
       "</tr>\n",
       "<tr>\n",
       "  <th>Electrical_FuseP</th>      <td>    0.2770</td> <td>    0.171</td> <td>    1.622</td> <td> 0.105</td> <td>   -0.058</td> <td>    0.612</td>\n",
       "</tr>\n",
       "<tr>\n",
       "  <th>Electrical_Mix</th>        <td>-2.657e-16</td> <td> 1.29e-16</td> <td>   -2.061</td> <td> 0.040</td> <td>-5.19e-16</td> <td>-1.27e-17</td>\n",
       "</tr>\n",
       "<tr>\n",
       "  <th>Electrical_SBrkr</th>      <td>    0.3269</td> <td>    0.155</td> <td>    2.105</td> <td> 0.036</td> <td>    0.022</td> <td>    0.632</td>\n",
       "</tr>\n",
       "<tr>\n",
       "  <th>KitchenQual_Ex</th>        <td>    0.3380</td> <td>    0.155</td> <td>    2.188</td> <td> 0.029</td> <td>    0.035</td> <td>    0.641</td>\n",
       "</tr>\n",
       "<tr>\n",
       "  <th>KitchenQual_Fa</th>        <td>    0.3443</td> <td>    0.154</td> <td>    2.242</td> <td> 0.025</td> <td>    0.043</td> <td>    0.646</td>\n",
       "</tr>\n",
       "<tr>\n",
       "  <th>KitchenQual_Gd</th>        <td>    0.2922</td> <td>    0.154</td> <td>    1.895</td> <td> 0.058</td> <td>   -0.010</td> <td>    0.595</td>\n",
       "</tr>\n",
       "<tr>\n",
       "  <th>KitchenQual_TA</th>        <td>    0.3028</td> <td>    0.154</td> <td>    1.969</td> <td> 0.049</td> <td>    0.001</td> <td>    0.605</td>\n",
       "</tr>\n",
       "<tr>\n",
       "  <th>Functional_Maj1</th>       <td>    0.2466</td> <td>    0.096</td> <td>    2.578</td> <td> 0.010</td> <td>    0.059</td> <td>    0.434</td>\n",
       "</tr>\n",
       "<tr>\n",
       "  <th>Functional_Maj2</th>       <td>   -0.0322</td> <td>    0.108</td> <td>   -0.299</td> <td> 0.765</td> <td>   -0.244</td> <td>    0.179</td>\n",
       "</tr>\n",
       "<tr>\n",
       "  <th>Functional_Min1</th>       <td>    0.3011</td> <td>    0.092</td> <td>    3.258</td> <td> 0.001</td> <td>    0.120</td> <td>    0.483</td>\n",
       "</tr>\n",
       "<tr>\n",
       "  <th>Functional_Min2</th>       <td>    0.2856</td> <td>    0.095</td> <td>    3.009</td> <td> 0.003</td> <td>    0.099</td> <td>    0.472</td>\n",
       "</tr>\n",
       "<tr>\n",
       "  <th>Functional_Mod</th>        <td>    0.2153</td> <td>    0.099</td> <td>    2.177</td> <td> 0.030</td> <td>    0.021</td> <td>    0.409</td>\n",
       "</tr>\n",
       "<tr>\n",
       "  <th>Functional_Sev</th>        <td>   -0.0657</td> <td>    0.152</td> <td>   -0.432</td> <td> 0.666</td> <td>   -0.364</td> <td>    0.233</td>\n",
       "</tr>\n",
       "<tr>\n",
       "  <th>Functional_Typ</th>        <td>    0.3265</td> <td>    0.091</td> <td>    3.603</td> <td> 0.000</td> <td>    0.149</td> <td>    0.504</td>\n",
       "</tr>\n",
       "<tr>\n",
       "  <th>FireplaceQu_Ex</th>        <td>    0.2162</td> <td>    0.106</td> <td>    2.042</td> <td> 0.041</td> <td>    0.008</td> <td>    0.424</td>\n",
       "</tr>\n",
       "<tr>\n",
       "  <th>FireplaceQu_Fa</th>        <td>    0.1926</td> <td>    0.104</td> <td>    1.847</td> <td> 0.065</td> <td>   -0.012</td> <td>    0.397</td>\n",
       "</tr>\n",
       "<tr>\n",
       "  <th>FireplaceQu_Gd</th>        <td>    0.2254</td> <td>    0.102</td> <td>    2.209</td> <td> 0.027</td> <td>    0.025</td> <td>    0.426</td>\n",
       "</tr>\n",
       "<tr>\n",
       "  <th>FireplaceQu_None</th>      <td>    0.2199</td> <td>    0.104</td> <td>    2.113</td> <td> 0.035</td> <td>    0.016</td> <td>    0.424</td>\n",
       "</tr>\n",
       "<tr>\n",
       "  <th>FireplaceQu_Po</th>        <td>    0.1953</td> <td>    0.105</td> <td>    1.864</td> <td> 0.063</td> <td>   -0.010</td> <td>    0.401</td>\n",
       "</tr>\n",
       "<tr>\n",
       "  <th>FireplaceQu_TA</th>        <td>    0.2279</td> <td>    0.102</td> <td>    2.224</td> <td> 0.026</td> <td>    0.027</td> <td>    0.429</td>\n",
       "</tr>\n",
       "<tr>\n",
       "  <th>GarageType_2Types</th>     <td>    0.0756</td> <td>    0.097</td> <td>    0.783</td> <td> 0.434</td> <td>   -0.114</td> <td>    0.265</td>\n",
       "</tr>\n",
       "<tr>\n",
       "  <th>GarageType_Attchd</th>     <td>    0.1914</td> <td>    0.088</td> <td>    2.178</td> <td> 0.030</td> <td>    0.019</td> <td>    0.364</td>\n",
       "</tr>\n",
       "<tr>\n",
       "  <th>GarageType_Basment</th>    <td>    0.1896</td> <td>    0.094</td> <td>    2.021</td> <td> 0.044</td> <td>    0.005</td> <td>    0.374</td>\n",
       "</tr>\n",
       "<tr>\n",
       "  <th>GarageType_BuiltIn</th>    <td>    0.1785</td> <td>    0.090</td> <td>    1.987</td> <td> 0.047</td> <td>    0.002</td> <td>    0.355</td>\n",
       "</tr>\n",
       "<tr>\n",
       "  <th>GarageType_CarPort</th>    <td>    0.2858</td> <td>    0.101</td> <td>    2.830</td> <td> 0.005</td> <td>    0.088</td> <td>    0.484</td>\n",
       "</tr>\n",
       "<tr>\n",
       "  <th>GarageType_Detchd</th>     <td>    0.1681</td> <td>    0.088</td> <td>    1.910</td> <td> 0.057</td> <td>   -0.005</td> <td>    0.341</td>\n",
       "</tr>\n",
       "<tr>\n",
       "  <th>GarageType_None</th>       <td>    0.1882</td> <td>    0.095</td> <td>    1.981</td> <td> 0.048</td> <td>    0.002</td> <td>    0.375</td>\n",
       "</tr>\n",
       "<tr>\n",
       "  <th>GarageYrBlt_1900.0</th>    <td>    0.0432</td> <td>    0.154</td> <td>    0.281</td> <td> 0.779</td> <td>   -0.258</td> <td>    0.345</td>\n",
       "</tr>\n",
       "<tr>\n",
       "  <th>GarageYrBlt_1906.0</th>    <td>    0.0517</td> <td>    0.111</td> <td>    0.466</td> <td> 0.641</td> <td>   -0.166</td> <td>    0.269</td>\n",
       "</tr>\n",
       "<tr>\n",
       "  <th>GarageYrBlt_1908.0</th>    <td>    0.1781</td> <td>    0.125</td> <td>    1.421</td> <td> 0.156</td> <td>   -0.068</td> <td>    0.424</td>\n",
       "</tr>\n",
       "<tr>\n",
       "  <th>GarageYrBlt_1910.0</th>    <td>   -0.0113</td> <td>    0.091</td> <td>   -0.124</td> <td> 0.901</td> <td>   -0.190</td> <td>    0.167</td>\n",
       "</tr>\n",
       "<tr>\n",
       "  <th>GarageYrBlt_1914.0</th>    <td>    0.0579</td> <td>    0.089</td> <td>    0.649</td> <td> 0.516</td> <td>   -0.117</td> <td>    0.233</td>\n",
       "</tr>\n",
       "<tr>\n",
       "  <th>GarageYrBlt_1915.0</th>    <td>   -0.0292</td> <td>    0.088</td> <td>   -0.331</td> <td> 0.741</td> <td>   -0.202</td> <td>    0.144</td>\n",
       "</tr>\n",
       "<tr>\n",
       "  <th>GarageYrBlt_1916.0</th>    <td>    0.0777</td> <td>    0.060</td> <td>    1.287</td> <td> 0.198</td> <td>   -0.041</td> <td>    0.196</td>\n",
       "</tr>\n",
       "<tr>\n",
       "  <th>GarageYrBlt_1918.0</th>    <td>   -0.0721</td> <td>    0.097</td> <td>   -0.740</td> <td> 0.459</td> <td>   -0.263</td> <td>    0.119</td>\n",
       "</tr>\n",
       "<tr>\n",
       "  <th>GarageYrBlt_1920.0</th>    <td>    0.0058</td> <td>    0.048</td> <td>    0.122</td> <td> 0.903</td> <td>   -0.088</td> <td>    0.100</td>\n",
       "</tr>\n",
       "<tr>\n",
       "  <th>GarageYrBlt_1921.0</th>    <td>    0.0154</td> <td>    0.079</td> <td>    0.196</td> <td> 0.845</td> <td>   -0.139</td> <td>    0.170</td>\n",
       "</tr>\n",
       "<tr>\n",
       "  <th>GarageYrBlt_1922.0</th>    <td>    0.0975</td> <td>    0.080</td> <td>    1.214</td> <td> 0.225</td> <td>   -0.060</td> <td>    0.255</td>\n",
       "</tr>\n",
       "<tr>\n",
       "  <th>GarageYrBlt_1923.0</th>    <td>    0.1480</td> <td>    0.067</td> <td>    2.219</td> <td> 0.027</td> <td>    0.017</td> <td>    0.279</td>\n",
       "</tr>\n",
       "<tr>\n",
       "  <th>GarageYrBlt_1924.0</th>    <td>   -0.1596</td> <td>    0.084</td> <td>   -1.896</td> <td> 0.058</td> <td>   -0.325</td> <td>    0.006</td>\n",
       "</tr>\n",
       "<tr>\n",
       "  <th>GarageYrBlt_1925.0</th>    <td>    0.0666</td> <td>    0.041</td> <td>    1.626</td> <td> 0.104</td> <td>   -0.014</td> <td>    0.147</td>\n",
       "</tr>\n",
       "<tr>\n",
       "  <th>GarageYrBlt_1926.0</th>    <td>    0.0544</td> <td>    0.057</td> <td>    0.952</td> <td> 0.342</td> <td>   -0.058</td> <td>    0.166</td>\n",
       "</tr>\n",
       "<tr>\n",
       "  <th>GarageYrBlt_1927.0</th>    <td>-2.284e-16</td> <td> 1.18e-16</td> <td>   -1.941</td> <td> 0.053</td> <td>-4.59e-16</td> <td> 2.58e-18</td>\n",
       "</tr>\n",
       "<tr>\n",
       "  <th>GarageYrBlt_1928.0</th>    <td>    0.1462</td> <td>    0.092</td> <td>    1.590</td> <td> 0.112</td> <td>   -0.034</td> <td>    0.327</td>\n",
       "</tr>\n",
       "<tr>\n",
       "  <th>GarageYrBlt_1929.0</th>    <td>    0.0891</td> <td>    0.096</td> <td>    0.926</td> <td> 0.355</td> <td>   -0.100</td> <td>    0.278</td>\n",
       "</tr>\n",
       "<tr>\n",
       "  <th>GarageYrBlt_1930.0</th>    <td>    0.0854</td> <td>    0.046</td> <td>    1.877</td> <td> 0.061</td> <td>   -0.004</td> <td>    0.175</td>\n",
       "</tr>\n",
       "<tr>\n",
       "  <th>GarageYrBlt_1931.0</th>    <td>    0.0095</td> <td>    0.063</td> <td>    0.152</td> <td> 0.879</td> <td>   -0.114</td> <td>    0.133</td>\n",
       "</tr>\n",
       "<tr>\n",
       "  <th>GarageYrBlt_1932.0</th>    <td>    0.1636</td> <td>    0.068</td> <td>    2.408</td> <td> 0.016</td> <td>    0.030</td> <td>    0.297</td>\n",
       "</tr>\n",
       "<tr>\n",
       "  <th>GarageYrBlt_1933.0</th>    <td> 1.108e-17</td> <td> 8.02e-17</td> <td>    0.138</td> <td> 0.890</td> <td>-1.46e-16</td> <td> 1.68e-16</td>\n",
       "</tr>\n",
       "<tr>\n",
       "  <th>GarageYrBlt_1934.0</th>    <td>   -0.0641</td> <td>    0.092</td> <td>   -0.693</td> <td> 0.489</td> <td>   -0.246</td> <td>    0.117</td>\n",
       "</tr>\n",
       "<tr>\n",
       "  <th>GarageYrBlt_1935.0</th>    <td>    0.0243</td> <td>    0.069</td> <td>    0.352</td> <td> 0.725</td> <td>   -0.111</td> <td>    0.160</td>\n",
       "</tr>\n",
       "<tr>\n",
       "  <th>GarageYrBlt_1936.0</th>    <td>    0.1553</td> <td>    0.060</td> <td>    2.602</td> <td> 0.009</td> <td>    0.038</td> <td>    0.273</td>\n",
       "</tr>\n",
       "<tr>\n",
       "  <th>GarageYrBlt_1937.0</th>    <td>    0.1156</td> <td>    0.095</td> <td>    1.215</td> <td> 0.225</td> <td>   -0.071</td> <td>    0.302</td>\n",
       "</tr>\n",
       "<tr>\n",
       "  <th>GarageYrBlt_1938.0</th>    <td>   -0.1299</td> <td>    0.088</td> <td>   -1.467</td> <td> 0.143</td> <td>   -0.304</td> <td>    0.044</td>\n",
       "</tr>\n",
       "<tr>\n",
       "  <th>GarageYrBlt_1939.0</th>    <td>    0.0077</td> <td>    0.043</td> <td>    0.178</td> <td> 0.859</td> <td>   -0.077</td> <td>    0.092</td>\n",
       "</tr>\n",
       "<tr>\n",
       "  <th>GarageYrBlt_1940.0</th>    <td>    0.0633</td> <td>    0.046</td> <td>    1.391</td> <td> 0.165</td> <td>   -0.026</td> <td>    0.153</td>\n",
       "</tr>\n",
       "<tr>\n",
       "  <th>GarageYrBlt_1941.0</th>    <td>    0.0125</td> <td>    0.046</td> <td>    0.268</td> <td> 0.789</td> <td>   -0.079</td> <td>    0.104</td>\n",
       "</tr>\n",
       "<tr>\n",
       "  <th>GarageYrBlt_1942.0</th>    <td>    0.0515</td> <td>    0.082</td> <td>    0.631</td> <td> 0.528</td> <td>   -0.109</td> <td>    0.212</td>\n",
       "</tr>\n",
       "<tr>\n",
       "  <th>GarageYrBlt_1945.0</th>    <td>   -0.0412</td> <td>    0.061</td> <td>   -0.680</td> <td> 0.497</td> <td>   -0.160</td> <td>    0.078</td>\n",
       "</tr>\n",
       "<tr>\n",
       "  <th>GarageYrBlt_1946.0</th>    <td>   -0.0491</td> <td>    0.066</td> <td>   -0.745</td> <td> 0.457</td> <td>   -0.179</td> <td>    0.080</td>\n",
       "</tr>\n",
       "<tr>\n",
       "  <th>GarageYrBlt_1947.0</th>    <td>  -5.3e-17</td> <td> 7.04e-17</td> <td>   -0.752</td> <td> 0.452</td> <td>-1.91e-16</td> <td> 8.53e-17</td>\n",
       "</tr>\n",
       "<tr>\n",
       "  <th>GarageYrBlt_1948.0</th>    <td>   -0.0028</td> <td>    0.044</td> <td>   -0.064</td> <td> 0.949</td> <td>   -0.090</td> <td>    0.084</td>\n",
       "</tr>\n",
       "<tr>\n",
       "  <th>GarageYrBlt_1949.0</th>    <td>   -0.0083</td> <td>    0.049</td> <td>   -0.169</td> <td> 0.866</td> <td>   -0.105</td> <td>    0.088</td>\n",
       "</tr>\n",
       "<tr>\n",
       "  <th>GarageYrBlt_1950.0</th>    <td>   -0.0042</td> <td>    0.030</td> <td>   -0.140</td> <td> 0.889</td> <td>   -0.063</td> <td>    0.055</td>\n",
       "</tr>\n",
       "<tr>\n",
       "  <th>GarageYrBlt_1951.0</th>    <td>   -0.0240</td> <td>    0.064</td> <td>   -0.375</td> <td> 0.708</td> <td>   -0.150</td> <td>    0.102</td>\n",
       "</tr>\n",
       "<tr>\n",
       "  <th>GarageYrBlt_1952.0</th>    <td>    0.0408</td> <td>    0.083</td> <td>    0.490</td> <td> 0.625</td> <td>   -0.123</td> <td>    0.204</td>\n",
       "</tr>\n",
       "<tr>\n",
       "  <th>GarageYrBlt_1953.0</th>    <td>   -0.0541</td> <td>    0.037</td> <td>   -1.476</td> <td> 0.140</td> <td>   -0.126</td> <td>    0.018</td>\n",
       "</tr>\n",
       "<tr>\n",
       "  <th>GarageYrBlt_1954.0</th>    <td>    0.0022</td> <td>    0.032</td> <td>    0.069</td> <td> 0.945</td> <td>   -0.060</td> <td>    0.064</td>\n",
       "</tr>\n",
       "<tr>\n",
       "  <th>GarageYrBlt_1955.0</th>    <td>   -0.0153</td> <td>    0.038</td> <td>   -0.405</td> <td> 0.686</td> <td>   -0.089</td> <td>    0.059</td>\n",
       "</tr>\n",
       "<tr>\n",
       "  <th>GarageYrBlt_1956.0</th>    <td>    0.0170</td> <td>    0.040</td> <td>    0.423</td> <td> 0.673</td> <td>   -0.062</td> <td>    0.096</td>\n",
       "</tr>\n",
       "<tr>\n",
       "  <th>GarageYrBlt_1957.0</th>    <td>   -0.0332</td> <td>    0.030</td> <td>   -1.105</td> <td> 0.270</td> <td>   -0.092</td> <td>    0.026</td>\n",
       "</tr>\n",
       "<tr>\n",
       "  <th>GarageYrBlt_1958.0</th>    <td>   -0.0329</td> <td>    0.032</td> <td>   -1.039</td> <td> 0.299</td> <td>   -0.095</td> <td>    0.029</td>\n",
       "</tr>\n",
       "<tr>\n",
       "  <th>GarageYrBlt_1959.0</th>    <td>   -0.0273</td> <td>    0.035</td> <td>   -0.789</td> <td> 0.430</td> <td>   -0.095</td> <td>    0.041</td>\n",
       "</tr>\n",
       "<tr>\n",
       "  <th>GarageYrBlt_1960.0</th>    <td>    0.0092</td> <td>    0.032</td> <td>    0.287</td> <td> 0.774</td> <td>   -0.054</td> <td>    0.072</td>\n",
       "</tr>\n",
       "<tr>\n",
       "  <th>GarageYrBlt_1961.0</th>    <td>   -0.0175</td> <td>    0.036</td> <td>   -0.484</td> <td> 0.628</td> <td>   -0.089</td> <td>    0.054</td>\n",
       "</tr>\n",
       "<tr>\n",
       "  <th>GarageYrBlt_1962.0</th>    <td>    0.0332</td> <td>    0.029</td> <td>    1.139</td> <td> 0.255</td> <td>   -0.024</td> <td>    0.091</td>\n",
       "</tr>\n",
       "<tr>\n",
       "  <th>GarageYrBlt_1963.0</th>    <td>   -0.0577</td> <td>    0.036</td> <td>   -1.585</td> <td> 0.113</td> <td>   -0.129</td> <td>    0.014</td>\n",
       "</tr>\n",
       "<tr>\n",
       "  <th>GarageYrBlt_1964.0</th>    <td>    0.0060</td> <td>    0.034</td> <td>    0.176</td> <td> 0.860</td> <td>   -0.061</td> <td>    0.073</td>\n",
       "</tr>\n",
       "<tr>\n",
       "  <th>GarageYrBlt_1965.0</th>    <td>   -0.0884</td> <td>    0.030</td> <td>   -2.938</td> <td> 0.003</td> <td>   -0.148</td> <td>   -0.029</td>\n",
       "</tr>\n",
       "<tr>\n",
       "  <th>GarageYrBlt_1966.0</th>    <td>    0.0297</td> <td>    0.031</td> <td>    0.947</td> <td> 0.344</td> <td>   -0.032</td> <td>    0.091</td>\n",
       "</tr>\n",
       "<tr>\n",
       "  <th>GarageYrBlt_1967.0</th>    <td>   -0.0406</td> <td>    0.037</td> <td>   -1.098</td> <td> 0.273</td> <td>   -0.113</td> <td>    0.032</td>\n",
       "</tr>\n",
       "<tr>\n",
       "  <th>GarageYrBlt_1968.0</th>    <td>   -0.0126</td> <td>    0.028</td> <td>   -0.449</td> <td> 0.653</td> <td>   -0.067</td> <td>    0.042</td>\n",
       "</tr>\n",
       "<tr>\n",
       "  <th>GarageYrBlt_1969.0</th>    <td>   -0.0083</td> <td>    0.037</td> <td>   -0.226</td> <td> 0.822</td> <td>   -0.080</td> <td>    0.064</td>\n",
       "</tr>\n",
       "<tr>\n",
       "  <th>GarageYrBlt_1970.0</th>    <td>   -0.0367</td> <td>    0.030</td> <td>   -1.219</td> <td> 0.223</td> <td>   -0.096</td> <td>    0.022</td>\n",
       "</tr>\n",
       "<tr>\n",
       "  <th>GarageYrBlt_1971.0</th>    <td>   -0.0425</td> <td>    0.036</td> <td>   -1.173</td> <td> 0.241</td> <td>   -0.114</td> <td>    0.029</td>\n",
       "</tr>\n",
       "<tr>\n",
       "  <th>GarageYrBlt_1972.0</th>    <td>   -0.0189</td> <td>    0.035</td> <td>   -0.535</td> <td> 0.593</td> <td>   -0.089</td> <td>    0.051</td>\n",
       "</tr>\n",
       "<tr>\n",
       "  <th>GarageYrBlt_1973.0</th>    <td>   -0.0395</td> <td>    0.039</td> <td>   -1.008</td> <td> 0.314</td> <td>   -0.116</td> <td>    0.037</td>\n",
       "</tr>\n",
       "<tr>\n",
       "  <th>GarageYrBlt_1974.0</th>    <td>    0.0405</td> <td>    0.034</td> <td>    1.202</td> <td> 0.230</td> <td>   -0.026</td> <td>    0.107</td>\n",
       "</tr>\n",
       "<tr>\n",
       "  <th>GarageYrBlt_1975.0</th>    <td>   -0.0111</td> <td>    0.045</td> <td>   -0.248</td> <td> 0.804</td> <td>   -0.099</td> <td>    0.077</td>\n",
       "</tr>\n",
       "<tr>\n",
       "  <th>GarageYrBlt_1976.0</th>    <td>   -0.0044</td> <td>    0.030</td> <td>   -0.145</td> <td> 0.884</td> <td>   -0.063</td> <td>    0.055</td>\n",
       "</tr>\n",
       "<tr>\n",
       "  <th>GarageYrBlt_1977.0</th>    <td>   -0.0490</td> <td>    0.027</td> <td>   -1.822</td> <td> 0.069</td> <td>   -0.102</td> <td>    0.004</td>\n",
       "</tr>\n",
       "<tr>\n",
       "  <th>GarageYrBlt_1978.0</th>    <td>   -0.0311</td> <td>    0.033</td> <td>   -0.953</td> <td> 0.341</td> <td>   -0.095</td> <td>    0.033</td>\n",
       "</tr>\n",
       "<tr>\n",
       "  <th>GarageYrBlt_1979.0</th>    <td>    0.0111</td> <td>    0.036</td> <td>    0.304</td> <td> 0.761</td> <td>   -0.060</td> <td>    0.083</td>\n",
       "</tr>\n",
       "<tr>\n",
       "  <th>GarageYrBlt_1980.0</th>    <td>   -0.0172</td> <td>    0.037</td> <td>   -0.465</td> <td> 0.642</td> <td>   -0.090</td> <td>    0.055</td>\n",
       "</tr>\n",
       "<tr>\n",
       "  <th>GarageYrBlt_1981.0</th>    <td>   -0.0210</td> <td>    0.044</td> <td>   -0.481</td> <td> 0.631</td> <td>   -0.107</td> <td>    0.065</td>\n",
       "</tr>\n",
       "<tr>\n",
       "  <th>GarageYrBlt_1982.0</th>    <td>   -0.0776</td> <td>    0.066</td> <td>   -1.185</td> <td> 0.236</td> <td>   -0.206</td> <td>    0.051</td>\n",
       "</tr>\n",
       "<tr>\n",
       "  <th>GarageYrBlt_1983.0</th>    <td>    0.0397</td> <td>    0.049</td> <td>    0.803</td> <td> 0.422</td> <td>   -0.057</td> <td>    0.137</td>\n",
       "</tr>\n",
       "<tr>\n",
       "  <th>GarageYrBlt_1984.0</th>    <td>   -0.0745</td> <td>    0.042</td> <td>   -1.787</td> <td> 0.074</td> <td>   -0.156</td> <td>    0.007</td>\n",
       "</tr>\n",
       "<tr>\n",
       "  <th>GarageYrBlt_1985.0</th>    <td>   -0.0399</td> <td>    0.045</td> <td>   -0.887</td> <td> 0.375</td> <td>   -0.128</td> <td>    0.048</td>\n",
       "</tr>\n",
       "<tr>\n",
       "  <th>GarageYrBlt_1986.0</th>    <td>    0.0141</td> <td>    0.057</td> <td>    0.247</td> <td> 0.805</td> <td>   -0.098</td> <td>    0.126</td>\n",
       "</tr>\n",
       "<tr>\n",
       "  <th>GarageYrBlt_1987.0</th>    <td>    0.0131</td> <td>    0.040</td> <td>    0.331</td> <td> 0.741</td> <td>   -0.065</td> <td>    0.091</td>\n",
       "</tr>\n",
       "<tr>\n",
       "  <th>GarageYrBlt_1988.0</th>    <td>   -0.0412</td> <td>    0.038</td> <td>   -1.080</td> <td> 0.280</td> <td>   -0.116</td> <td>    0.034</td>\n",
       "</tr>\n",
       "<tr>\n",
       "  <th>GarageYrBlt_1989.0</th>    <td>    0.0220</td> <td>    0.038</td> <td>    0.573</td> <td> 0.567</td> <td>   -0.053</td> <td>    0.098</td>\n",
       "</tr>\n",
       "<tr>\n",
       "  <th>GarageYrBlt_1990.0</th>    <td>   -0.0556</td> <td>    0.036</td> <td>   -1.564</td> <td> 0.118</td> <td>   -0.125</td> <td>    0.014</td>\n",
       "</tr>\n",
       "<tr>\n",
       "  <th>GarageYrBlt_1991.0</th>    <td>    0.0133</td> <td>    0.048</td> <td>    0.279</td> <td> 0.780</td> <td>   -0.080</td> <td>    0.107</td>\n",
       "</tr>\n",
       "<tr>\n",
       "  <th>GarageYrBlt_1992.0</th>    <td>   -0.0256</td> <td>    0.040</td> <td>   -0.641</td> <td> 0.521</td> <td>   -0.104</td> <td>    0.053</td>\n",
       "</tr>\n",
       "<tr>\n",
       "  <th>GarageYrBlt_1993.0</th>    <td>   -0.0168</td> <td>    0.036</td> <td>   -0.466</td> <td> 0.641</td> <td>   -0.088</td> <td>    0.054</td>\n",
       "</tr>\n",
       "<tr>\n",
       "  <th>GarageYrBlt_1994.0</th>    <td>    0.0393</td> <td>    0.036</td> <td>    1.100</td> <td> 0.272</td> <td>   -0.031</td> <td>    0.110</td>\n",
       "</tr>\n",
       "<tr>\n",
       "  <th>GarageYrBlt_1995.0</th>    <td>    0.0308</td> <td>    0.034</td> <td>    0.914</td> <td> 0.361</td> <td>   -0.035</td> <td>    0.097</td>\n",
       "</tr>\n",
       "<tr>\n",
       "  <th>GarageYrBlt_1996.0</th>    <td>    0.0210</td> <td>    0.031</td> <td>    0.686</td> <td> 0.493</td> <td>   -0.039</td> <td>    0.081</td>\n",
       "</tr>\n",
       "<tr>\n",
       "  <th>GarageYrBlt_1997.0</th>    <td>    0.0249</td> <td>    0.032</td> <td>    0.786</td> <td> 0.432</td> <td>   -0.037</td> <td>    0.087</td>\n",
       "</tr>\n",
       "<tr>\n",
       "  <th>GarageYrBlt_1998.0</th>    <td>    0.0348</td> <td>    0.026</td> <td>    1.336</td> <td> 0.182</td> <td>   -0.016</td> <td>    0.086</td>\n",
       "</tr>\n",
       "<tr>\n",
       "  <th>GarageYrBlt_1999.0</th>    <td>    0.0354</td> <td>    0.028</td> <td>    1.266</td> <td> 0.206</td> <td>   -0.019</td> <td>    0.090</td>\n",
       "</tr>\n",
       "<tr>\n",
       "  <th>GarageYrBlt_2000.0</th>    <td>    0.0201</td> <td>    0.028</td> <td>    0.711</td> <td> 0.477</td> <td>   -0.035</td> <td>    0.076</td>\n",
       "</tr>\n",
       "<tr>\n",
       "  <th>GarageYrBlt_2001.0</th>    <td>    0.0351</td> <td>    0.031</td> <td>    1.116</td> <td> 0.265</td> <td>   -0.027</td> <td>    0.097</td>\n",
       "</tr>\n",
       "<tr>\n",
       "  <th>GarageYrBlt_2002.0</th>    <td>    0.0086</td> <td>    0.029</td> <td>    0.294</td> <td> 0.769</td> <td>   -0.049</td> <td>    0.066</td>\n",
       "</tr>\n",
       "<tr>\n",
       "  <th>GarageYrBlt_2003.0</th>    <td>    0.0266</td> <td>    0.025</td> <td>    1.053</td> <td> 0.293</td> <td>   -0.023</td> <td>    0.076</td>\n",
       "</tr>\n",
       "<tr>\n",
       "  <th>GarageYrBlt_2004.0</th>    <td>    0.0325</td> <td>    0.026</td> <td>    1.269</td> <td> 0.205</td> <td>   -0.018</td> <td>    0.083</td>\n",
       "</tr>\n",
       "<tr>\n",
       "  <th>GarageYrBlt_2005.0</th>    <td>    0.0177</td> <td>    0.025</td> <td>    0.722</td> <td> 0.470</td> <td>   -0.030</td> <td>    0.066</td>\n",
       "</tr>\n",
       "<tr>\n",
       "  <th>GarageYrBlt_2006.0</th>    <td>    0.0385</td> <td>    0.029</td> <td>    1.344</td> <td> 0.179</td> <td>   -0.018</td> <td>    0.095</td>\n",
       "</tr>\n",
       "<tr>\n",
       "  <th>GarageYrBlt_2007.0</th>    <td>    0.0048</td> <td>    0.029</td> <td>    0.164</td> <td> 0.870</td> <td>   -0.053</td> <td>    0.063</td>\n",
       "</tr>\n",
       "<tr>\n",
       "  <th>GarageYrBlt_2008.0</th>    <td>    0.1135</td> <td>    0.038</td> <td>    3.014</td> <td> 0.003</td> <td>    0.040</td> <td>    0.187</td>\n",
       "</tr>\n",
       "<tr>\n",
       "  <th>GarageYrBlt_2009.0</th>    <td>    0.0751</td> <td>    0.039</td> <td>    1.919</td> <td> 0.055</td> <td>   -0.002</td> <td>    0.152</td>\n",
       "</tr>\n",
       "<tr>\n",
       "  <th>GarageYrBlt_2010.0</th>    <td>    0.1044</td> <td>    0.070</td> <td>    1.492</td> <td> 0.136</td> <td>   -0.033</td> <td>    0.242</td>\n",
       "</tr>\n",
       "<tr>\n",
       "  <th>GarageYrBlt_None</th>      <td>    0.1882</td> <td>    0.095</td> <td>    1.981</td> <td> 0.048</td> <td>    0.002</td> <td>    0.375</td>\n",
       "</tr>\n",
       "<tr>\n",
       "  <th>GarageFinish_Fin</th>      <td>    0.3635</td> <td>    0.173</td> <td>    2.099</td> <td> 0.036</td> <td>    0.024</td> <td>    0.703</td>\n",
       "</tr>\n",
       "<tr>\n",
       "  <th>GarageFinish_None</th>     <td>    0.1882</td> <td>    0.095</td> <td>    1.981</td> <td> 0.048</td> <td>    0.002</td> <td>    0.375</td>\n",
       "</tr>\n",
       "<tr>\n",
       "  <th>GarageFinish_RFn</th>      <td>    0.3649</td> <td>    0.173</td> <td>    2.110</td> <td> 0.035</td> <td>    0.025</td> <td>    0.704</td>\n",
       "</tr>\n",
       "<tr>\n",
       "  <th>GarageFinish_Unf</th>      <td>    0.3606</td> <td>    0.172</td> <td>    2.092</td> <td> 0.037</td> <td>    0.022</td> <td>    0.699</td>\n",
       "</tr>\n",
       "<tr>\n",
       "  <th>GarageQual_Ex</th>         <td>    0.5759</td> <td>    0.164</td> <td>    3.515</td> <td> 0.000</td> <td>    0.254</td> <td>    0.898</td>\n",
       "</tr>\n",
       "<tr>\n",
       "  <th>GarageQual_Fa</th>         <td>    0.1080</td> <td>    0.116</td> <td>    0.933</td> <td> 0.351</td> <td>   -0.119</td> <td>    0.335</td>\n",
       "</tr>\n",
       "<tr>\n",
       "  <th>GarageQual_Gd</th>         <td>    0.1854</td> <td>    0.119</td> <td>    1.558</td> <td> 0.120</td> <td>   -0.048</td> <td>    0.419</td>\n",
       "</tr>\n",
       "<tr>\n",
       "  <th>GarageQual_None</th>       <td>    0.1882</td> <td>    0.095</td> <td>    1.981</td> <td> 0.048</td> <td>    0.002</td> <td>    0.375</td>\n",
       "</tr>\n",
       "<tr>\n",
       "  <th>GarageQual_Po</th>         <td>    0.0498</td> <td>    0.146</td> <td>    0.342</td> <td> 0.733</td> <td>   -0.236</td> <td>    0.336</td>\n",
       "</tr>\n",
       "<tr>\n",
       "  <th>GarageQual_TA</th>         <td>    0.1699</td> <td>    0.116</td> <td>    1.463</td> <td> 0.144</td> <td>   -0.058</td> <td>    0.398</td>\n",
       "</tr>\n",
       "<tr>\n",
       "  <th>GarageCond_Ex</th>         <td>   -0.1315</td> <td>    0.181</td> <td>   -0.725</td> <td> 0.468</td> <td>   -0.487</td> <td>    0.224</td>\n",
       "</tr>\n",
       "<tr>\n",
       "  <th>GarageCond_Fa</th>         <td>    0.2560</td> <td>    0.112</td> <td>    2.285</td> <td> 0.023</td> <td>    0.036</td> <td>    0.476</td>\n",
       "</tr>\n",
       "<tr>\n",
       "  <th>GarageCond_Gd</th>         <td>    0.2729</td> <td>    0.114</td> <td>    2.391</td> <td> 0.017</td> <td>    0.049</td> <td>    0.497</td>\n",
       "</tr>\n",
       "<tr>\n",
       "  <th>GarageCond_None</th>       <td>    0.1882</td> <td>    0.095</td> <td>    1.981</td> <td> 0.048</td> <td>    0.002</td> <td>    0.375</td>\n",
       "</tr>\n",
       "<tr>\n",
       "  <th>GarageCond_Po</th>         <td>    0.4191</td> <td>    0.136</td> <td>    3.079</td> <td> 0.002</td> <td>    0.152</td> <td>    0.686</td>\n",
       "</tr>\n",
       "<tr>\n",
       "  <th>GarageCond_TA</th>         <td>    0.2725</td> <td>    0.110</td> <td>    2.473</td> <td> 0.014</td> <td>    0.056</td> <td>    0.489</td>\n",
       "</tr>\n",
       "<tr>\n",
       "  <th>PavedDrive_N</th>          <td>    0.4247</td> <td>    0.205</td> <td>    2.075</td> <td> 0.038</td> <td>    0.023</td> <td>    0.827</td>\n",
       "</tr>\n",
       "<tr>\n",
       "  <th>PavedDrive_P</th>          <td>    0.4205</td> <td>    0.205</td> <td>    2.048</td> <td> 0.041</td> <td>    0.018</td> <td>    0.823</td>\n",
       "</tr>\n",
       "<tr>\n",
       "  <th>PavedDrive_Y</th>          <td>    0.4320</td> <td>    0.205</td> <td>    2.112</td> <td> 0.035</td> <td>    0.031</td> <td>    0.833</td>\n",
       "</tr>\n",
       "<tr>\n",
       "  <th>SaleType_COD</th>          <td>    0.0928</td> <td>    0.076</td> <td>    1.220</td> <td> 0.223</td> <td>   -0.056</td> <td>    0.242</td>\n",
       "</tr>\n",
       "<tr>\n",
       "  <th>SaleType_CWD</th>          <td>    0.1208</td> <td>    0.088</td> <td>    1.365</td> <td> 0.173</td> <td>   -0.053</td> <td>    0.295</td>\n",
       "</tr>\n",
       "<tr>\n",
       "  <th>SaleType_Con</th>          <td>    0.1537</td> <td>    0.103</td> <td>    1.496</td> <td> 0.135</td> <td>   -0.048</td> <td>    0.355</td>\n",
       "</tr>\n",
       "<tr>\n",
       "  <th>SaleType_ConLD</th>        <td>    0.2022</td> <td>    0.082</td> <td>    2.465</td> <td> 0.014</td> <td>    0.041</td> <td>    0.363</td>\n",
       "</tr>\n",
       "<tr>\n",
       "  <th>SaleType_ConLI</th>        <td>    0.1032</td> <td>    0.090</td> <td>    1.142</td> <td> 0.254</td> <td>   -0.074</td> <td>    0.281</td>\n",
       "</tr>\n",
       "<tr>\n",
       "  <th>SaleType_ConLw</th>        <td>    0.0619</td> <td>    0.089</td> <td>    0.698</td> <td> 0.486</td> <td>   -0.112</td> <td>    0.236</td>\n",
       "</tr>\n",
       "<tr>\n",
       "  <th>SaleType_New</th>          <td>    0.2101</td> <td>    0.129</td> <td>    1.630</td> <td> 0.103</td> <td>   -0.043</td> <td>    0.463</td>\n",
       "</tr>\n",
       "<tr>\n",
       "  <th>SaleType_Oth</th>          <td>    0.2524</td> <td>    0.101</td> <td>    2.509</td> <td> 0.012</td> <td>    0.055</td> <td>    0.450</td>\n",
       "</tr>\n",
       "<tr>\n",
       "  <th>SaleType_WD</th>           <td>    0.0800</td> <td>    0.073</td> <td>    1.103</td> <td> 0.270</td> <td>   -0.062</td> <td>    0.222</td>\n",
       "</tr>\n",
       "<tr>\n",
       "  <th>SaleCondition_Abnorml</th> <td>    0.1706</td> <td>    0.106</td> <td>    1.610</td> <td> 0.108</td> <td>   -0.037</td> <td>    0.379</td>\n",
       "</tr>\n",
       "<tr>\n",
       "  <th>SaleCondition_AdjLand</th> <td>    0.2308</td> <td>    0.119</td> <td>    1.945</td> <td> 0.052</td> <td>   -0.002</td> <td>    0.464</td>\n",
       "</tr>\n",
       "<tr>\n",
       "  <th>SaleCondition_Alloca</th>  <td>    0.3688</td> <td>    0.118</td> <td>    3.121</td> <td> 0.002</td> <td>    0.137</td> <td>    0.601</td>\n",
       "</tr>\n",
       "<tr>\n",
       "  <th>SaleCondition_Family</th>  <td>    0.1551</td> <td>    0.108</td> <td>    1.439</td> <td> 0.150</td> <td>   -0.056</td> <td>    0.367</td>\n",
       "</tr>\n",
       "<tr>\n",
       "  <th>SaleCondition_Normal</th>  <td>    0.2236</td> <td>    0.106</td> <td>    2.106</td> <td> 0.035</td> <td>    0.015</td> <td>    0.432</td>\n",
       "</tr>\n",
       "<tr>\n",
       "  <th>SaleCondition_Partial</th> <td>    0.1283</td> <td>    0.144</td> <td>    0.890</td> <td> 0.374</td> <td>   -0.155</td> <td>    0.412</td>\n",
       "</tr>\n",
       "<tr>\n",
       "  <th>IsRemodel_NoRemod</th>     <td>    0.6386</td> <td>    0.306</td> <td>    2.085</td> <td> 0.037</td> <td>    0.037</td> <td>    1.240</td>\n",
       "</tr>\n",
       "<tr>\n",
       "  <th>IsRemodel_YesRemod</th>    <td>    0.6386</td> <td>    0.307</td> <td>    2.083</td> <td> 0.038</td> <td>    0.037</td> <td>    1.240</td>\n",
       "</tr>\n",
       "</table>\n",
       "<table class=\"simpletable\">\n",
       "<tr>\n",
       "  <th>Omnibus:</th>       <td>327.979</td> <th>  Durbin-Watson:     </th> <td>   1.998</td>\n",
       "</tr>\n",
       "<tr>\n",
       "  <th>Prob(Omnibus):</th> <td> 0.000</td>  <th>  Jarque-Bera (JB):  </th> <td>6069.281</td>\n",
       "</tr>\n",
       "<tr>\n",
       "  <th>Skew:</th>          <td>-0.806</td>  <th>  Prob(JB):          </th> <td>    0.00</td>\n",
       "</tr>\n",
       "<tr>\n",
       "  <th>Kurtosis:</th>      <td>14.051</td>  <th>  Cond. No.          </th> <td>1.10e+19</td>\n",
       "</tr>\n",
       "</table><br/><br/>Notes:<br/>[1] Standard Errors assume that the covariance matrix of the errors is correctly specified.<br/>[2] The smallest eigenvalue is 2.3e-27. This might indicate that there are<br/>strong multicollinearity problems or that the design matrix is singular."
      ],
      "text/plain": [
       "<class 'statsmodels.iolib.summary.Summary'>\n",
       "\"\"\"\n",
       "                            OLS Regression Results                            \n",
       "==============================================================================\n",
       "Dep. Variable:              SalePrice   R-squared:                       0.950\n",
       "Model:                            OLS   Adj. R-squared:                  0.930\n",
       "Method:                 Least Squares   F-statistic:                     48.54\n",
       "Date:                Sat, 04 Feb 2023   Prob (F-statistic):               0.00\n",
       "Time:                        03:11:23   Log-Likelihood:                 1187.7\n",
       "No. Observations:                1168   AIC:                            -1719.\n",
       "Df Residuals:                     840   BIC:                            -58.64\n",
       "Df Model:                         327                                         \n",
       "Covariance Type:            nonrobust                                         \n",
       "=========================================================================================\n",
       "                            coef    std err          t      P>|t|      [0.025      0.975]\n",
       "-----------------------------------------------------------------------------------------\n",
       "const                     1.2772      0.613      2.084      0.037       0.074       2.480\n",
       "MSSubClass               -0.0004      0.001     -0.709      0.479      -0.001       0.001\n",
       "LotFrontage               0.0003      0.000      1.055      0.292      -0.000       0.001\n",
       "LotArea                2.116e-06    6.9e-07      3.067      0.002    7.62e-07    3.47e-06\n",
       "OverallQual               0.0395      0.006      6.922      0.000       0.028       0.051\n",
       "OverallCond               0.0359      0.005      7.426      0.000       0.026       0.045\n",
       "YearBuilt                 0.0019      0.000      4.442      0.000       0.001       0.003\n",
       "YearRemodAdd              0.0011      0.000      3.174      0.002       0.000       0.002\n",
       "MasVnrArea             2.683e-05   3.37e-05      0.797      0.426   -3.92e-05    9.29e-05\n",
       "BsmtFinSF1             5.472e-05   1.57e-05      3.485      0.001    2.39e-05    8.55e-05\n",
       "BsmtFinSF2             4.066e-05   3.29e-05      1.237      0.216   -2.38e-05       0.000\n",
       "BsmtUnfSF              1.489e-06   1.52e-05      0.098      0.922   -2.83e-05    3.12e-05\n",
       "TotalBsmtSF            9.687e-05   2.18e-05      4.445      0.000    5.41e-05       0.000\n",
       "1stFlrSF               4.865e-05   3.73e-05      1.305      0.192   -2.45e-05       0.000\n",
       "2ndFlrSF               5.269e-05   3.13e-05      1.682      0.093   -8.79e-06       0.000\n",
       "LowQualFinSF           7.158e-05   8.41e-05      0.851      0.395   -9.35e-05       0.000\n",
       "GrLivArea                 0.0002   3.34e-05      5.181      0.000       0.000       0.000\n",
       "BsmtFullBath              0.0306      0.011      2.808      0.005       0.009       0.052\n",
       "BsmtHalfBath              0.0136      0.017      0.799      0.425      -0.020       0.047\n",
       "FullBath                  0.0107      0.012      0.864      0.388      -0.014       0.035\n",
       "HalfBath                  0.0221      0.011      1.947      0.052      -0.000       0.044\n",
       "BedroomAbvGr              0.0171      0.008      2.203      0.028       0.002       0.032\n",
       "KitchenAbvGr             -0.0300      0.030     -0.994      0.321      -0.089       0.029\n",
       "TotRmsAbvGrd             -0.0005      0.005     -0.096      0.924      -0.011       0.010\n",
       "Fireplaces                0.0244      0.014      1.715      0.087      -0.004       0.052\n",
       "GarageCars                0.0083      0.013      0.654      0.513      -0.017       0.033\n",
       "GarageArea                0.0002   4.39e-05      3.797      0.000    8.06e-05       0.000\n",
       "WoodDeckSF             9.227e-05   3.18e-05      2.905      0.004    2.99e-05       0.000\n",
       "OpenPorchSF            2.177e-05   6.04e-05      0.361      0.719   -9.67e-05       0.000\n",
       "EnclosedPorch             0.0001   7.02e-05      1.857      0.064   -7.44e-06       0.000\n",
       "3SsnPorch                 0.0002      0.000      1.682      0.093   -3.16e-05       0.000\n",
       "ScreenPorch               0.0002   6.75e-05      3.205      0.001    8.39e-05       0.000\n",
       "PoolArea               1.692e-06      0.000      0.016      0.987      -0.000       0.000\n",
       "MiscVal               -1.312e-06   6.88e-06     -0.191      0.849   -1.48e-05    1.22e-05\n",
       "MoSold                   -0.0007      0.001     -0.560      0.575      -0.003       0.002\n",
       "YrSold                   -0.0040      0.003     -1.390      0.165      -0.010       0.002\n",
       "MSZoning_C (all)         -0.0532      0.142     -0.376      0.707      -0.331       0.225\n",
       "MSZoning_FV               0.3608      0.128      2.821      0.005       0.110       0.612\n",
       "MSZoning_RH               0.3584      0.126      2.851      0.004       0.112       0.605\n",
       "MSZoning_RL               0.3290      0.123      2.666      0.008       0.087       0.571\n",
       "MSZoning_RM               0.2823      0.125      2.262      0.024       0.037       0.527\n",
       "Street_Grvl               0.6354      0.309      2.057      0.040       0.029       1.242\n",
       "Street_Pave               0.6419      0.308      2.084      0.037       0.037       1.246\n",
       "LotShape_IR1              0.3007      0.154      1.955      0.051      -0.001       0.603\n",
       "LotShape_IR2              0.3268      0.154      2.116      0.035       0.024       0.630\n",
       "LotShape_IR3              0.3430      0.157      2.183      0.029       0.035       0.651\n",
       "LotShape_Reg              0.3067      0.154      1.989      0.047       0.004       0.609\n",
       "LandContour_Bnk           0.2875      0.155      1.859      0.063      -0.016       0.591\n",
       "LandContour_HLS           0.3481      0.154      2.255      0.024       0.045       0.651\n",
       "LandContour_Low           0.3084      0.154      1.999      0.046       0.006       0.611\n",
       "LandContour_Lvl           0.3331      0.154      2.159      0.031       0.030       0.636\n",
       "Utilities_AllPub          0.7320      0.312      2.348      0.019       0.120       1.344\n",
       "Utilities_NoSeWa          0.5453      0.315      1.733      0.084      -0.072       1.163\n",
       "LotConfig_Corner          0.2874      0.124      2.327      0.020       0.045       0.530\n",
       "LotConfig_CulDSac         0.3243      0.125      2.588      0.010       0.078       0.570\n",
       "LotConfig_FR2             0.2404      0.125      1.921      0.055      -0.005       0.486\n",
       "LotConfig_FR3             0.1511      0.134      1.132      0.258      -0.111       0.413\n",
       "LotConfig_Inside          0.2740      0.124      2.212      0.027       0.031       0.517\n",
       "LandSlope_Gtl             0.4640      0.206      2.249      0.025       0.059       0.869\n",
       "LandSlope_Mod             0.4598      0.206      2.229      0.026       0.055       0.865\n",
       "LandSlope_Sev             0.3534      0.212      1.665      0.096      -0.063       0.770\n",
       "Neighborhood_Blmngtn      0.0735      0.044      1.653      0.099      -0.014       0.161\n",
       "Neighborhood_Blueste     -0.0243      0.113     -0.215      0.830      -0.246       0.197\n",
       "Neighborhood_BrDale       0.0237      0.051      0.467      0.641      -0.076       0.123\n",
       "Neighborhood_BrkSide      0.0534      0.035      1.530      0.126      -0.015       0.122\n",
       "Neighborhood_ClearCr      0.0738      0.043      1.732      0.084      -0.010       0.157\n",
       "Neighborhood_CollgCr      0.0274      0.030      0.906      0.365      -0.032       0.087\n",
       "Neighborhood_Crawfor      0.1638      0.034      4.866      0.000       0.098       0.230\n",
       "Neighborhood_Edwards     -0.0075      0.030     -0.249      0.804      -0.066       0.052\n",
       "Neighborhood_Gilbert      0.0333      0.033      1.005      0.315      -0.032       0.098\n",
       "Neighborhood_IDOTRR       0.0015      0.043      0.035      0.972      -0.082       0.085\n",
       "Neighborhood_MeadowV     -0.0894      0.056     -1.603      0.109      -0.199       0.020\n",
       "Neighborhood_Mitchel      0.0118      0.033      0.356      0.722      -0.053       0.077\n",
       "Neighborhood_NAmes        0.0154      0.029      0.532      0.595      -0.041       0.072\n",
       "Neighborhood_NPkVill      0.1083      0.071      1.530      0.126      -0.031       0.247\n",
       "Neighborhood_NWAmes       0.0182      0.031      0.588      0.557      -0.043       0.079\n",
       "Neighborhood_NoRidge      0.0709      0.038      1.866      0.062      -0.004       0.146\n",
       "Neighborhood_NridgHt      0.1189      0.034      3.508      0.000       0.052       0.185\n",
       "Neighborhood_OldTown      0.0334      0.036      0.928      0.354      -0.037       0.104\n",
       "Neighborhood_SWISU        0.0843      0.043      1.948      0.052      -0.001       0.169\n",
       "Neighborhood_Sawyer       0.0278      0.031      0.898      0.369      -0.033       0.089\n",
       "Neighborhood_SawyerW      0.0225      0.034      0.655      0.513      -0.045       0.090\n",
       "Neighborhood_Somerst      0.0552      0.041      1.342      0.180      -0.026       0.136\n",
       "Neighborhood_StoneBr      0.1974      0.041      4.808      0.000       0.117       0.278\n",
       "Neighborhood_Timber       0.0673      0.036      1.864      0.063      -0.004       0.138\n",
       "Neighborhood_Veenker      0.1166      0.048      2.431      0.015       0.022       0.211\n",
       "Condition1_Artery         0.0775      0.074      1.045      0.296      -0.068       0.223\n",
       "Condition1_Feedr          0.1433      0.072      2.003      0.046       0.003       0.284\n",
       "Condition1_Norm           0.1695      0.070      2.412      0.016       0.032       0.307\n",
       "Condition1_PosA           0.1260      0.081      1.561      0.119      -0.032       0.284\n",
       "Condition1_PosN           0.1762      0.078      2.246      0.025       0.022       0.330\n",
       "Condition1_RRAe           0.0585      0.078      0.754      0.451      -0.094       0.211\n",
       "Condition1_RRAn           0.1440      0.075      1.933      0.054      -0.002       0.290\n",
       "Condition1_RRNe           0.2177      0.119      1.833      0.067      -0.015       0.451\n",
       "Condition1_RRNn           0.1645      0.089      1.856      0.064      -0.009       0.338\n",
       "Condition2_Artery         0.1294      0.128      1.008      0.314      -0.123       0.381\n",
       "Condition2_Feedr          0.4763      0.118      4.031      0.000       0.244       0.708\n",
       "Condition2_Norm           0.2510      0.090      2.788      0.005       0.074       0.428\n",
       "Condition2_PosA           0.5755      0.167      3.449      0.001       0.248       0.903\n",
       "Condition2_PosN          -0.5977      0.120     -4.985      0.000      -0.833      -0.362\n",
       "Condition2_RRAe          -0.0491      0.207     -0.237      0.813      -0.456       0.358\n",
       "Condition2_RRAn           0.2030      0.136      1.493      0.136      -0.064       0.470\n",
       "Condition2_RRNn           0.2889      0.137      2.115      0.035       0.021       0.557\n",
       "BldgType_1Fam             0.2702      0.131      2.063      0.039       0.013       0.527\n",
       "BldgType_2fmCon           0.3372      0.129      2.612      0.009       0.084       0.591\n",
       "BldgType_Duplex           0.2072      0.126      1.643      0.101      -0.040       0.455\n",
       "BldgType_Twnhs            0.2114      0.126      1.678      0.094      -0.036       0.459\n",
       "BldgType_TwnhsE           0.2512      0.125      2.005      0.045       0.005       0.497\n",
       "HouseStyle_1.5Fin         0.1695      0.079      2.147      0.032       0.015       0.325\n",
       "HouseStyle_1.5Unf         0.2038      0.087      2.351      0.019       0.034       0.374\n",
       "HouseStyle_1Story         0.1389      0.082      1.698      0.090      -0.022       0.299\n",
       "HouseStyle_2.5Fin         0.1088      0.097      1.119      0.263      -0.082       0.300\n",
       "HouseStyle_2.5Unf         0.2112      0.088      2.388      0.017       0.038       0.385\n",
       "HouseStyle_2Story         0.1417      0.079      1.794      0.073      -0.013       0.297\n",
       "HouseStyle_SFoyer         0.1384      0.083      1.670      0.095      -0.024       0.301\n",
       "HouseStyle_SLvl           0.1648      0.082      2.014      0.044       0.004       0.325\n",
       "RoofStyle_Flat            0.2118      0.147      1.438      0.151      -0.077       0.501\n",
       "RoofStyle_Gable           0.1347      0.108      1.244      0.214      -0.078       0.347\n",
       "RoofStyle_Gambrel         0.1585      0.113      1.402      0.161      -0.063       0.380\n",
       "RoofStyle_Hip             0.1321      0.108      1.218      0.224      -0.081       0.345\n",
       "RoofStyle_Mansard         0.2433      0.120      2.034      0.042       0.009       0.478\n",
       "RoofStyle_Shed            0.3968      0.180      2.204      0.028       0.043       0.750\n",
       "RoofMatl_ClyTile         -2.2261      0.183    -12.184      0.000      -2.585      -1.867\n",
       "RoofMatl_CompShg          0.5508      0.102      5.375      0.000       0.350       0.752\n",
       "RoofMatl_Membran      -1.958e-15   2.36e-16     -8.304      0.000   -2.42e-15   -1.49e-15\n",
       "RoofMatl_Metal            0.6242      0.181      3.440      0.001       0.268       0.980\n",
       "RoofMatl_Roll             0.6398      0.150      4.269      0.000       0.346       0.934\n",
       "RoofMatl_Tar&Grv          0.5652      0.141      4.014      0.000       0.289       0.842\n",
       "RoofMatl_WdShake          0.5653      0.125      4.533      0.000       0.321       0.810\n",
       "RoofMatl_WdShngl          0.5580      0.121      4.613      0.000       0.321       0.795\n",
       "Exterior1st_AsbShng       0.1230      0.077      1.591      0.112      -0.029       0.275\n",
       "Exterior1st_AsphShn       0.1774      0.153      1.161      0.246      -0.123       0.477\n",
       "Exterior1st_BrkComm      -0.1131      0.129     -0.877      0.381      -0.366       0.140\n",
       "Exterior1st_BrkFace       0.2059      0.053      3.862      0.000       0.101       0.310\n",
       "Exterior1st_CBlock        0.1118      0.075      1.493      0.136      -0.035       0.259\n",
       "Exterior1st_CemntBd       0.0248      0.082      0.304      0.761      -0.135       0.185\n",
       "Exterior1st_HdBoard       0.0871      0.051      1.705      0.089      -0.013       0.187\n",
       "Exterior1st_ImStucc       0.0371      0.125      0.298      0.766      -0.207       0.281\n",
       "Exterior1st_MetalSd       0.1178      0.062      1.897      0.058      -0.004       0.240\n",
       "Exterior1st_Plywood       0.0952      0.052      1.840      0.066      -0.006       0.197\n",
       "Exterior1st_Stone         0.1400      0.156      0.899      0.369      -0.166       0.446\n",
       "Exterior1st_Stucco        0.0814      0.062      1.312      0.190      -0.040       0.203\n",
       "Exterior1st_VinylSd       0.0814      0.058      1.413      0.158      -0.032       0.195\n",
       "Exterior1st_Wd Sdng       0.0586      0.050      1.177      0.240      -0.039       0.156\n",
       "Exterior1st_WdShing       0.0488      0.056      0.871      0.384      -0.061       0.159\n",
       "Exterior2nd_AsbShng       0.0503      0.071      0.708      0.479      -0.089       0.190\n",
       "Exterior2nd_AsphShn       0.0566      0.095      0.597      0.551      -0.130       0.243\n",
       "Exterior2nd_Brk Cmn       0.0433      0.094      0.458      0.647      -0.142       0.229\n",
       "Exterior2nd_BrkFace       0.0280      0.058      0.485      0.628      -0.085       0.141\n",
       "Exterior2nd_CBlock        0.1118      0.075      1.493      0.136      -0.035       0.259\n",
       "Exterior2nd_CmentBd       0.1804      0.082      2.211      0.027       0.020       0.341\n",
       "Exterior2nd_HdBoard       0.0808      0.048      1.681      0.093      -0.014       0.175\n",
       "Exterior2nd_ImStucc       0.1426      0.068      2.108      0.035       0.010       0.275\n",
       "Exterior2nd_MetalSd       0.0756      0.059      1.283      0.200      -0.040       0.191\n",
       "Exterior2nd_Other        -0.0418      0.116     -0.359      0.720      -0.270       0.187\n",
       "Exterior2nd_Plywood       0.0725      0.047      1.538      0.124      -0.020       0.165\n",
       "Exterior2nd_Stone         0.0136      0.109      0.125      0.901      -0.200       0.227\n",
       "Exterior2nd_Stucco        0.1629      0.057      2.839      0.005       0.050       0.275\n",
       "Exterior2nd_VinylSd       0.0820      0.051      1.614      0.107      -0.018       0.182\n",
       "Exterior2nd_Wd Sdng       0.1145      0.046      2.504      0.012       0.025       0.204\n",
       "Exterior2nd_Wd Shng       0.1041      0.048      2.148      0.032       0.009       0.199\n",
       "MasVnrType_BrkCmn         0.2923      0.157      1.867      0.062      -0.015       0.600\n",
       "MasVnrType_BrkFace        0.3333      0.153      2.177      0.030       0.033       0.634\n",
       "MasVnrType_None           0.3238      0.153      2.118      0.034       0.024       0.624\n",
       "MasVnrType_Stone          0.3278      0.154      2.126      0.034       0.025       0.630\n",
       "ExterQual_Ex              0.3416      0.155      2.209      0.027       0.038       0.645\n",
       "ExterQual_Fa              0.2632      0.161      1.637      0.102      -0.052       0.579\n",
       "ExterQual_Gd              0.3349      0.153      2.186      0.029       0.034       0.636\n",
       "ExterQual_TA              0.3375      0.153      2.202      0.028       0.037       0.638\n",
       "ExterCond_Ex              0.2770      0.146      1.891      0.059      -0.010       0.564\n",
       "ExterCond_Fa              0.2504      0.127      1.973      0.049       0.001       0.499\n",
       "ExterCond_Gd              0.2549      0.125      2.039      0.042       0.010       0.500\n",
       "ExterCond_Po              0.2257      0.161      1.400      0.162      -0.091       0.542\n",
       "ExterCond_TA              0.2693      0.124      2.166      0.031       0.025       0.513\n",
       "Foundation_BrkTil         0.2105      0.104      2.031      0.043       0.007       0.414\n",
       "Foundation_CBlock         0.2436      0.103      2.357      0.019       0.041       0.446\n",
       "Foundation_PConc          0.2606      0.103      2.520      0.012       0.058       0.464\n",
       "Foundation_Slab           0.1535      0.113      1.356      0.176      -0.069       0.376\n",
       "Foundation_Stone          0.2775      0.118      2.349      0.019       0.046       0.509\n",
       "Foundation_Wood           0.1316      0.119      1.102      0.271      -0.103       0.366\n",
       "BsmtQual_Ex               0.2756      0.128      2.160      0.031       0.025       0.526\n",
       "BsmtQual_Fa               0.2890      0.127      2.281      0.023       0.040       0.538\n",
       "BsmtQual_Gd               0.2486      0.127      1.960      0.050      -0.000       0.497\n",
       "BsmtQual_None             0.2248      0.110      2.047      0.041       0.009       0.440\n",
       "BsmtQual_TA               0.2393      0.127      1.889      0.059      -0.009       0.488\n",
       "BsmtCond_Fa               0.1736      0.130      1.335      0.182      -0.082       0.429\n",
       "BsmtCond_Gd               0.2210      0.131      1.688      0.092      -0.036       0.478\n",
       "BsmtCond_None             0.2248      0.110      2.047      0.041       0.009       0.440\n",
       "BsmtCond_Po               0.4233      0.183      2.312      0.021       0.064       0.783\n",
       "BsmtCond_TA               0.2346      0.132      1.782      0.075      -0.024       0.493\n",
       "BsmtExposure_Av           0.2599      0.126      2.061      0.040       0.012       0.507\n",
       "BsmtExposure_Gd           0.2928      0.126      2.326      0.020       0.046       0.540\n",
       "BsmtExposure_Mn           0.2543      0.127      2.010      0.045       0.006       0.503\n",
       "BsmtExposure_No           0.2454      0.127      1.936      0.053      -0.003       0.494\n",
       "BsmtExposure_None         0.2248      0.110      2.047      0.041       0.009       0.440\n",
       "BsmtFinType1_ALQ          0.1834      0.084      2.177      0.030       0.018       0.349\n",
       "BsmtFinType1_BLQ          0.1733      0.085      2.043      0.041       0.007       0.340\n",
       "BsmtFinType1_GLQ          0.1888      0.085      2.212      0.027       0.021       0.356\n",
       "BsmtFinType1_LwQ          0.1766      0.086      2.063      0.039       0.009       0.345\n",
       "BsmtFinType1_None         0.2248      0.110      2.047      0.041       0.009       0.440\n",
       "BsmtFinType1_Rec          0.1683      0.084      2.002      0.046       0.003       0.333\n",
       "BsmtFinType1_Unf          0.1621      0.085      1.918      0.055      -0.004       0.328\n",
       "BsmtFinType2_ALQ          0.1596      0.088      1.806      0.071      -0.014       0.333\n",
       "BsmtFinType2_BLQ          0.1346      0.088      1.528      0.127      -0.038       0.307\n",
       "BsmtFinType2_GLQ          0.2274      0.092      2.463      0.014       0.046       0.409\n",
       "BsmtFinType2_LwQ          0.1702      0.086      1.969      0.049       0.001       0.340\n",
       "BsmtFinType2_None         0.2248      0.110      2.047      0.041       0.009       0.440\n",
       "BsmtFinType2_Rec          0.1749      0.086      2.042      0.041       0.007       0.343\n",
       "BsmtFinType2_Unf          0.1858      0.087      2.147      0.032       0.016       0.356\n",
       "Heating_Floor             0.1086      0.154      0.706      0.480      -0.193       0.411\n",
       "Heating_GasA              0.2332      0.107      2.184      0.029       0.024       0.443\n",
       "Heating_GasW              0.2833      0.110      2.584      0.010       0.068       0.498\n",
       "Heating_Grav             -0.0017      0.117     -0.015      0.988      -0.232       0.228\n",
       "Heating_OthW              0.2779      0.131      2.113      0.035       0.020       0.536\n",
       "Heating_Wall              0.3760      0.126      2.977      0.003       0.128       0.624\n",
       "HeatingQC_Ex              0.2839      0.126      2.258      0.024       0.037       0.531\n",
       "HeatingQC_Fa              0.2784      0.127      2.195      0.028       0.029       0.527\n",
       "HeatingQC_Gd              0.2618      0.125      2.099      0.036       0.017       0.507\n",
       "HeatingQC_Po              0.1932      0.166      1.164      0.245      -0.133       0.519\n",
       "HeatingQC_TA              0.2599      0.126      2.065      0.039       0.013       0.507\n",
       "CentralAir_N              0.6056      0.307      1.975      0.049       0.004       1.208\n",
       "CentralAir_Y              0.6716      0.306      2.191      0.029       0.070       1.273\n",
       "Electrical_FuseA          0.3347      0.154      2.167      0.030       0.032       0.638\n",
       "Electrical_FuseF          0.3387      0.155      2.181      0.029       0.034       0.644\n",
       "Electrical_FuseP          0.2770      0.171      1.622      0.105      -0.058       0.612\n",
       "Electrical_Mix        -2.657e-16   1.29e-16     -2.061      0.040   -5.19e-16   -1.27e-17\n",
       "Electrical_SBrkr          0.3269      0.155      2.105      0.036       0.022       0.632\n",
       "KitchenQual_Ex            0.3380      0.155      2.188      0.029       0.035       0.641\n",
       "KitchenQual_Fa            0.3443      0.154      2.242      0.025       0.043       0.646\n",
       "KitchenQual_Gd            0.2922      0.154      1.895      0.058      -0.010       0.595\n",
       "KitchenQual_TA            0.3028      0.154      1.969      0.049       0.001       0.605\n",
       "Functional_Maj1           0.2466      0.096      2.578      0.010       0.059       0.434\n",
       "Functional_Maj2          -0.0322      0.108     -0.299      0.765      -0.244       0.179\n",
       "Functional_Min1           0.3011      0.092      3.258      0.001       0.120       0.483\n",
       "Functional_Min2           0.2856      0.095      3.009      0.003       0.099       0.472\n",
       "Functional_Mod            0.2153      0.099      2.177      0.030       0.021       0.409\n",
       "Functional_Sev           -0.0657      0.152     -0.432      0.666      -0.364       0.233\n",
       "Functional_Typ            0.3265      0.091      3.603      0.000       0.149       0.504\n",
       "FireplaceQu_Ex            0.2162      0.106      2.042      0.041       0.008       0.424\n",
       "FireplaceQu_Fa            0.1926      0.104      1.847      0.065      -0.012       0.397\n",
       "FireplaceQu_Gd            0.2254      0.102      2.209      0.027       0.025       0.426\n",
       "FireplaceQu_None          0.2199      0.104      2.113      0.035       0.016       0.424\n",
       "FireplaceQu_Po            0.1953      0.105      1.864      0.063      -0.010       0.401\n",
       "FireplaceQu_TA            0.2279      0.102      2.224      0.026       0.027       0.429\n",
       "GarageType_2Types         0.0756      0.097      0.783      0.434      -0.114       0.265\n",
       "GarageType_Attchd         0.1914      0.088      2.178      0.030       0.019       0.364\n",
       "GarageType_Basment        0.1896      0.094      2.021      0.044       0.005       0.374\n",
       "GarageType_BuiltIn        0.1785      0.090      1.987      0.047       0.002       0.355\n",
       "GarageType_CarPort        0.2858      0.101      2.830      0.005       0.088       0.484\n",
       "GarageType_Detchd         0.1681      0.088      1.910      0.057      -0.005       0.341\n",
       "GarageType_None           0.1882      0.095      1.981      0.048       0.002       0.375\n",
       "GarageYrBlt_1900.0        0.0432      0.154      0.281      0.779      -0.258       0.345\n",
       "GarageYrBlt_1906.0        0.0517      0.111      0.466      0.641      -0.166       0.269\n",
       "GarageYrBlt_1908.0        0.1781      0.125      1.421      0.156      -0.068       0.424\n",
       "GarageYrBlt_1910.0       -0.0113      0.091     -0.124      0.901      -0.190       0.167\n",
       "GarageYrBlt_1914.0        0.0579      0.089      0.649      0.516      -0.117       0.233\n",
       "GarageYrBlt_1915.0       -0.0292      0.088     -0.331      0.741      -0.202       0.144\n",
       "GarageYrBlt_1916.0        0.0777      0.060      1.287      0.198      -0.041       0.196\n",
       "GarageYrBlt_1918.0       -0.0721      0.097     -0.740      0.459      -0.263       0.119\n",
       "GarageYrBlt_1920.0        0.0058      0.048      0.122      0.903      -0.088       0.100\n",
       "GarageYrBlt_1921.0        0.0154      0.079      0.196      0.845      -0.139       0.170\n",
       "GarageYrBlt_1922.0        0.0975      0.080      1.214      0.225      -0.060       0.255\n",
       "GarageYrBlt_1923.0        0.1480      0.067      2.219      0.027       0.017       0.279\n",
       "GarageYrBlt_1924.0       -0.1596      0.084     -1.896      0.058      -0.325       0.006\n",
       "GarageYrBlt_1925.0        0.0666      0.041      1.626      0.104      -0.014       0.147\n",
       "GarageYrBlt_1926.0        0.0544      0.057      0.952      0.342      -0.058       0.166\n",
       "GarageYrBlt_1927.0    -2.284e-16   1.18e-16     -1.941      0.053   -4.59e-16    2.58e-18\n",
       "GarageYrBlt_1928.0        0.1462      0.092      1.590      0.112      -0.034       0.327\n",
       "GarageYrBlt_1929.0        0.0891      0.096      0.926      0.355      -0.100       0.278\n",
       "GarageYrBlt_1930.0        0.0854      0.046      1.877      0.061      -0.004       0.175\n",
       "GarageYrBlt_1931.0        0.0095      0.063      0.152      0.879      -0.114       0.133\n",
       "GarageYrBlt_1932.0        0.1636      0.068      2.408      0.016       0.030       0.297\n",
       "GarageYrBlt_1933.0     1.108e-17   8.02e-17      0.138      0.890   -1.46e-16    1.68e-16\n",
       "GarageYrBlt_1934.0       -0.0641      0.092     -0.693      0.489      -0.246       0.117\n",
       "GarageYrBlt_1935.0        0.0243      0.069      0.352      0.725      -0.111       0.160\n",
       "GarageYrBlt_1936.0        0.1553      0.060      2.602      0.009       0.038       0.273\n",
       "GarageYrBlt_1937.0        0.1156      0.095      1.215      0.225      -0.071       0.302\n",
       "GarageYrBlt_1938.0       -0.1299      0.088     -1.467      0.143      -0.304       0.044\n",
       "GarageYrBlt_1939.0        0.0077      0.043      0.178      0.859      -0.077       0.092\n",
       "GarageYrBlt_1940.0        0.0633      0.046      1.391      0.165      -0.026       0.153\n",
       "GarageYrBlt_1941.0        0.0125      0.046      0.268      0.789      -0.079       0.104\n",
       "GarageYrBlt_1942.0        0.0515      0.082      0.631      0.528      -0.109       0.212\n",
       "GarageYrBlt_1945.0       -0.0412      0.061     -0.680      0.497      -0.160       0.078\n",
       "GarageYrBlt_1946.0       -0.0491      0.066     -0.745      0.457      -0.179       0.080\n",
       "GarageYrBlt_1947.0      -5.3e-17   7.04e-17     -0.752      0.452   -1.91e-16    8.53e-17\n",
       "GarageYrBlt_1948.0       -0.0028      0.044     -0.064      0.949      -0.090       0.084\n",
       "GarageYrBlt_1949.0       -0.0083      0.049     -0.169      0.866      -0.105       0.088\n",
       "GarageYrBlt_1950.0       -0.0042      0.030     -0.140      0.889      -0.063       0.055\n",
       "GarageYrBlt_1951.0       -0.0240      0.064     -0.375      0.708      -0.150       0.102\n",
       "GarageYrBlt_1952.0        0.0408      0.083      0.490      0.625      -0.123       0.204\n",
       "GarageYrBlt_1953.0       -0.0541      0.037     -1.476      0.140      -0.126       0.018\n",
       "GarageYrBlt_1954.0        0.0022      0.032      0.069      0.945      -0.060       0.064\n",
       "GarageYrBlt_1955.0       -0.0153      0.038     -0.405      0.686      -0.089       0.059\n",
       "GarageYrBlt_1956.0        0.0170      0.040      0.423      0.673      -0.062       0.096\n",
       "GarageYrBlt_1957.0       -0.0332      0.030     -1.105      0.270      -0.092       0.026\n",
       "GarageYrBlt_1958.0       -0.0329      0.032     -1.039      0.299      -0.095       0.029\n",
       "GarageYrBlt_1959.0       -0.0273      0.035     -0.789      0.430      -0.095       0.041\n",
       "GarageYrBlt_1960.0        0.0092      0.032      0.287      0.774      -0.054       0.072\n",
       "GarageYrBlt_1961.0       -0.0175      0.036     -0.484      0.628      -0.089       0.054\n",
       "GarageYrBlt_1962.0        0.0332      0.029      1.139      0.255      -0.024       0.091\n",
       "GarageYrBlt_1963.0       -0.0577      0.036     -1.585      0.113      -0.129       0.014\n",
       "GarageYrBlt_1964.0        0.0060      0.034      0.176      0.860      -0.061       0.073\n",
       "GarageYrBlt_1965.0       -0.0884      0.030     -2.938      0.003      -0.148      -0.029\n",
       "GarageYrBlt_1966.0        0.0297      0.031      0.947      0.344      -0.032       0.091\n",
       "GarageYrBlt_1967.0       -0.0406      0.037     -1.098      0.273      -0.113       0.032\n",
       "GarageYrBlt_1968.0       -0.0126      0.028     -0.449      0.653      -0.067       0.042\n",
       "GarageYrBlt_1969.0       -0.0083      0.037     -0.226      0.822      -0.080       0.064\n",
       "GarageYrBlt_1970.0       -0.0367      0.030     -1.219      0.223      -0.096       0.022\n",
       "GarageYrBlt_1971.0       -0.0425      0.036     -1.173      0.241      -0.114       0.029\n",
       "GarageYrBlt_1972.0       -0.0189      0.035     -0.535      0.593      -0.089       0.051\n",
       "GarageYrBlt_1973.0       -0.0395      0.039     -1.008      0.314      -0.116       0.037\n",
       "GarageYrBlt_1974.0        0.0405      0.034      1.202      0.230      -0.026       0.107\n",
       "GarageYrBlt_1975.0       -0.0111      0.045     -0.248      0.804      -0.099       0.077\n",
       "GarageYrBlt_1976.0       -0.0044      0.030     -0.145      0.884      -0.063       0.055\n",
       "GarageYrBlt_1977.0       -0.0490      0.027     -1.822      0.069      -0.102       0.004\n",
       "GarageYrBlt_1978.0       -0.0311      0.033     -0.953      0.341      -0.095       0.033\n",
       "GarageYrBlt_1979.0        0.0111      0.036      0.304      0.761      -0.060       0.083\n",
       "GarageYrBlt_1980.0       -0.0172      0.037     -0.465      0.642      -0.090       0.055\n",
       "GarageYrBlt_1981.0       -0.0210      0.044     -0.481      0.631      -0.107       0.065\n",
       "GarageYrBlt_1982.0       -0.0776      0.066     -1.185      0.236      -0.206       0.051\n",
       "GarageYrBlt_1983.0        0.0397      0.049      0.803      0.422      -0.057       0.137\n",
       "GarageYrBlt_1984.0       -0.0745      0.042     -1.787      0.074      -0.156       0.007\n",
       "GarageYrBlt_1985.0       -0.0399      0.045     -0.887      0.375      -0.128       0.048\n",
       "GarageYrBlt_1986.0        0.0141      0.057      0.247      0.805      -0.098       0.126\n",
       "GarageYrBlt_1987.0        0.0131      0.040      0.331      0.741      -0.065       0.091\n",
       "GarageYrBlt_1988.0       -0.0412      0.038     -1.080      0.280      -0.116       0.034\n",
       "GarageYrBlt_1989.0        0.0220      0.038      0.573      0.567      -0.053       0.098\n",
       "GarageYrBlt_1990.0       -0.0556      0.036     -1.564      0.118      -0.125       0.014\n",
       "GarageYrBlt_1991.0        0.0133      0.048      0.279      0.780      -0.080       0.107\n",
       "GarageYrBlt_1992.0       -0.0256      0.040     -0.641      0.521      -0.104       0.053\n",
       "GarageYrBlt_1993.0       -0.0168      0.036     -0.466      0.641      -0.088       0.054\n",
       "GarageYrBlt_1994.0        0.0393      0.036      1.100      0.272      -0.031       0.110\n",
       "GarageYrBlt_1995.0        0.0308      0.034      0.914      0.361      -0.035       0.097\n",
       "GarageYrBlt_1996.0        0.0210      0.031      0.686      0.493      -0.039       0.081\n",
       "GarageYrBlt_1997.0        0.0249      0.032      0.786      0.432      -0.037       0.087\n",
       "GarageYrBlt_1998.0        0.0348      0.026      1.336      0.182      -0.016       0.086\n",
       "GarageYrBlt_1999.0        0.0354      0.028      1.266      0.206      -0.019       0.090\n",
       "GarageYrBlt_2000.0        0.0201      0.028      0.711      0.477      -0.035       0.076\n",
       "GarageYrBlt_2001.0        0.0351      0.031      1.116      0.265      -0.027       0.097\n",
       "GarageYrBlt_2002.0        0.0086      0.029      0.294      0.769      -0.049       0.066\n",
       "GarageYrBlt_2003.0        0.0266      0.025      1.053      0.293      -0.023       0.076\n",
       "GarageYrBlt_2004.0        0.0325      0.026      1.269      0.205      -0.018       0.083\n",
       "GarageYrBlt_2005.0        0.0177      0.025      0.722      0.470      -0.030       0.066\n",
       "GarageYrBlt_2006.0        0.0385      0.029      1.344      0.179      -0.018       0.095\n",
       "GarageYrBlt_2007.0        0.0048      0.029      0.164      0.870      -0.053       0.063\n",
       "GarageYrBlt_2008.0        0.1135      0.038      3.014      0.003       0.040       0.187\n",
       "GarageYrBlt_2009.0        0.0751      0.039      1.919      0.055      -0.002       0.152\n",
       "GarageYrBlt_2010.0        0.1044      0.070      1.492      0.136      -0.033       0.242\n",
       "GarageYrBlt_None          0.1882      0.095      1.981      0.048       0.002       0.375\n",
       "GarageFinish_Fin          0.3635      0.173      2.099      0.036       0.024       0.703\n",
       "GarageFinish_None         0.1882      0.095      1.981      0.048       0.002       0.375\n",
       "GarageFinish_RFn          0.3649      0.173      2.110      0.035       0.025       0.704\n",
       "GarageFinish_Unf          0.3606      0.172      2.092      0.037       0.022       0.699\n",
       "GarageQual_Ex             0.5759      0.164      3.515      0.000       0.254       0.898\n",
       "GarageQual_Fa             0.1080      0.116      0.933      0.351      -0.119       0.335\n",
       "GarageQual_Gd             0.1854      0.119      1.558      0.120      -0.048       0.419\n",
       "GarageQual_None           0.1882      0.095      1.981      0.048       0.002       0.375\n",
       "GarageQual_Po             0.0498      0.146      0.342      0.733      -0.236       0.336\n",
       "GarageQual_TA             0.1699      0.116      1.463      0.144      -0.058       0.398\n",
       "GarageCond_Ex            -0.1315      0.181     -0.725      0.468      -0.487       0.224\n",
       "GarageCond_Fa             0.2560      0.112      2.285      0.023       0.036       0.476\n",
       "GarageCond_Gd             0.2729      0.114      2.391      0.017       0.049       0.497\n",
       "GarageCond_None           0.1882      0.095      1.981      0.048       0.002       0.375\n",
       "GarageCond_Po             0.4191      0.136      3.079      0.002       0.152       0.686\n",
       "GarageCond_TA             0.2725      0.110      2.473      0.014       0.056       0.489\n",
       "PavedDrive_N              0.4247      0.205      2.075      0.038       0.023       0.827\n",
       "PavedDrive_P              0.4205      0.205      2.048      0.041       0.018       0.823\n",
       "PavedDrive_Y              0.4320      0.205      2.112      0.035       0.031       0.833\n",
       "SaleType_COD              0.0928      0.076      1.220      0.223      -0.056       0.242\n",
       "SaleType_CWD              0.1208      0.088      1.365      0.173      -0.053       0.295\n",
       "SaleType_Con              0.1537      0.103      1.496      0.135      -0.048       0.355\n",
       "SaleType_ConLD            0.2022      0.082      2.465      0.014       0.041       0.363\n",
       "SaleType_ConLI            0.1032      0.090      1.142      0.254      -0.074       0.281\n",
       "SaleType_ConLw            0.0619      0.089      0.698      0.486      -0.112       0.236\n",
       "SaleType_New              0.2101      0.129      1.630      0.103      -0.043       0.463\n",
       "SaleType_Oth              0.2524      0.101      2.509      0.012       0.055       0.450\n",
       "SaleType_WD               0.0800      0.073      1.103      0.270      -0.062       0.222\n",
       "SaleCondition_Abnorml     0.1706      0.106      1.610      0.108      -0.037       0.379\n",
       "SaleCondition_AdjLand     0.2308      0.119      1.945      0.052      -0.002       0.464\n",
       "SaleCondition_Alloca      0.3688      0.118      3.121      0.002       0.137       0.601\n",
       "SaleCondition_Family      0.1551      0.108      1.439      0.150      -0.056       0.367\n",
       "SaleCondition_Normal      0.2236      0.106      2.106      0.035       0.015       0.432\n",
       "SaleCondition_Partial     0.1283      0.144      0.890      0.374      -0.155       0.412\n",
       "IsRemodel_NoRemod         0.6386      0.306      2.085      0.037       0.037       1.240\n",
       "IsRemodel_YesRemod        0.6386      0.307      2.083      0.038       0.037       1.240\n",
       "==============================================================================\n",
       "Omnibus:                      327.979   Durbin-Watson:                   1.998\n",
       "Prob(Omnibus):                  0.000   Jarque-Bera (JB):             6069.281\n",
       "Skew:                          -0.806   Prob(JB):                         0.00\n",
       "Kurtosis:                      14.051   Cond. No.                     1.10e+19\n",
       "==============================================================================\n",
       "\n",
       "Notes:\n",
       "[1] Standard Errors assume that the covariance matrix of the errors is correctly specified.\n",
       "[2] The smallest eigenvalue is 2.3e-27. This might indicate that there are\n",
       "strong multicollinearity problems or that the design matrix is singular.\n",
       "\"\"\""
      ]
     },
     "execution_count": 60,
     "metadata": {},
     "output_type": "execute_result"
    }
   ],
   "source": [
    "X_train=sm.add_constant(X_train)\n",
    "model = sm.OLS(y_train, X_train).fit()\n",
    "model.summary()"
   ]
  },
  {
   "cell_type": "markdown",
   "id": "e65f14fb",
   "metadata": {},
   "source": [
    "## 4-1. 유의성 검정"
   ]
  },
  {
   "cell_type": "markdown",
   "id": "856486ed",
   "metadata": {},
   "source": [
    ": 실제 모집단의 특성이 설계한 모델과 전혀 맞지 않더라도, 관측된 데이터 내에서 우연히 맞은 것인지 아닌지를 통계 기법을 통해 검증하는 것을 말합니다."
   ]
  },
  {
   "cell_type": "markdown",
   "id": "80b58d67",
   "metadata": {},
   "source": [
    "```\n",
    "                            coef    std err  t   P>|t|   [0.025   0.975] \n",
    "```"
   ]
  },
  {
   "cell_type": "code",
   "execution_count": 57,
   "id": "962dc5cb",
   "metadata": {},
   "outputs": [
    {
     "data": {
      "image/png": "[encoded data removed]",
      "text/plain": [
       "<IPython.core.display.Image object>"
      ]
     },
     "execution_count": 57,
     "metadata": {},
     "output_type": "execute_result"
    }
   ],
   "source": [
    "from IPython.display import Image\n",
    "Image('images/Yearbuilt.png')"
   ]
  },
  {
   "cell_type": "markdown",
   "id": "0c413554",
   "metadata": {},
   "source": [
    "- 일반적으로 P-value가 0.05보다 작으면 모델이 통계적으로 유의하다고 판단합니다.\n",
    "- 원래 가설 변수인 'YearBuilt'와 'YearRemodAdd'는 0.001보다 작은, 0.002의 값을 가지므로\n",
    "- 본 변수 자체로는 통계적으로 유의미합니다."
   ]
  },
  {
   "cell_type": "code",
   "execution_count": 58,
   "id": "1deacdbf",
   "metadata": {},
   "outputs": [
    {
     "data": {
      "image/png": "[encoded data removed]",
      "text/plain": [
       "<IPython.core.display.Image object>"
      ]
     },
     "execution_count": 58,
     "metadata": {},
     "output_type": "execute_result"
    }
   ],
   "source": [
    "#No-Remod->NoRemod / Yes-Remod->YesRemod (변수부를때 오류가 생겨서 '-' 지웠습니다)\n",
    "from IPython.display import Image\n",
    "Image('images/IsRemodel.png')"
   ]
  },
  {
   "cell_type": "markdown",
   "id": "871238e4",
   "metadata": {},
   "source": [
    "- IsRemodel.NoRemod, IsRemodel_YesRemod 또한 0.037, 0.038을 값을 가지므로(<0.05)\n",
    "- 신뢰할 수 있는 결과값이라 할 수 있습니다."
   ]
  },
  {
   "cell_type": "markdown",
   "id": "f0e61b20",
   "metadata": {},
   "source": [
    "## 4-2. 설명력 검정"
   ]
  },
  {
   "cell_type": "markdown",
   "id": "bf45fb91",
   "metadata": {},
   "source": [
    ": 실제 주택가격을 해당 회귀 모델들로 얼마나 잘 설명하고 있는지를 말함. 이는 회귀 분석 결과에서 R-squared(R 제곱)에 해당하며, 일반적으로는 Adjusted R-squared를 사용"
   ]
  },
  {
   "cell_type": "code",
   "execution_count": 60,
   "id": "e5976bac",
   "metadata": {},
   "outputs": [
    {
     "data": {
      "image/png": "[encoded data removed]",
      "text/plain": [
       "<IPython.core.display.Image object>"
      ]
     },
     "execution_count": 60,
     "metadata": {},
     "output_type": "execute_result"
    }
   ],
   "source": [
    "from IPython.display import Image\n",
    "Image('images/R.png')"
   ]
  },
  {
   "cell_type": "markdown",
   "id": "37c3cfb4",
   "metadata": {},
   "source": [
    "- 1에 가까울수록 회귀 모델이 추정한 가격과 실제 주택 가격의 차이가 작다는 것을 의미합니다."
   ]
  },
  {
   "cell_type": "markdown",
   "id": "93fab36a",
   "metadata": {},
   "source": [
    "## 4-3. 변수 영향력 분석"
   ]
  },
  {
   "cell_type": "markdown",
   "id": "1b79cd2c",
   "metadata": {},
   "source": [
    "**Coef**"
   ]
  },
  {
   "cell_type": "markdown",
   "id": "3de493d0",
   "metadata": {},
   "source": [
    "- YearBuilt는 0.0019, YearRemodAdd는 0.0011로 변수의 영향력이 작습니다.\n",
    "- 오히려, IsRemodel의 여부가 둘 다 0.6386으로 높은 영향력을 보여줍니다."
   ]
  },
  {
   "cell_type": "markdown",
   "id": "04598639",
   "metadata": {},
   "source": [
    "**Std err**"
   ]
  },
  {
   "cell_type": "markdown",
   "id": "44fc27ad",
   "metadata": {},
   "source": [
    "- YearBuilt와 YearRemodAdd는 0의 값을 가지므로 해당 회귀 계수 추정치를 신뢰할 수 있습니다.\n",
    "- IsRemodel의 변수들은 각각 0.306, 0.307으로 회귀 계수의 약 40%의 높은 값을 가지므로 본 변수의 회수 계수 추정치를 신뢰할 수 없습니다."
   ]
  },
  {
   "cell_type": "markdown",
   "id": "5236cdfc",
   "metadata": {},
   "source": [
    "# 5. 결론"
   ]
  },
  {
   "cell_type": "markdown",
   "id": "17910a5a",
   "metadata": {},
   "source": [
    "....."
   ]
  }
 ],
 "metadata": {
  "kernelspec": {
   "display_name": "Python 3 (ipykernel)",
   "language": "python",
   "name": "python3"
  },
  "language_info": {
   "codemirror_mode": {
    "name": "ipython",
    "version": 3
   },
   "file_extension": ".py",
   "mimetype": "text/x-python",
   "name": "python",
   "nbconvert_exporter": "python",
   "pygments_lexer": "ipython3",
   "version": "3.9.12"
  }
 },
 "nbformat": 4,
 "nbformat_minor": 5
}
