{
 "cells": [
  {
   "cell_type": "markdown",
   "id": "af6ab5fa",
   "metadata": {},
   "source": [
    "# **<리모델링 여부가 주택 가격에 영향을 미칠까?>**"
   ]
  },
  {
   "cell_type": "code",
   "execution_count": 1,
   "id": "7711778b",
   "metadata": {},
   "outputs": [],
   "source": [
    "import pandas as pd\n",
    "import seaborn as sns\n",
    "import matplotlib.pyplot as plt\n",
    "import seaborn as sns\n",
    "import numpy as np"
   ]
  },
  {
   "cell_type": "markdown",
   "id": "66910fed",
   "metadata": {},
   "source": [
    "# 1. 데이터 전처리"
   ]
  },
  {
   "cell_type": "markdown",
   "id": "2e006665",
   "metadata": {},
   "source": [
    "## 1-1. 데이터 임포트"
   ]
  },
  {
   "cell_type": "code",
   "execution_count": 2,
   "id": "01f5ec5b",
   "metadata": {},
   "outputs": [],
   "source": [
    "df = pd.read_csv(\"1st_train_mdf.csv\")"
   ]
  },
  {
   "cell_type": "markdown",
   "id": "5690b8c7",
   "metadata": {},
   "source": [
    "## 1-2. 데이터 전처리: 누락값의 처리"
   ]
  },
  {
   "cell_type": "markdown",
   "id": "6c6cd75a",
   "metadata": {},
   "source": [
    "- 누락값은 아니지만 id는 sale price와 상관관계를 파악하는 데 필요없다고 판단, 제거하였음"
   ]
  },
  {
   "cell_type": "code",
   "execution_count": 3,
   "id": "1088a613",
   "metadata": {},
   "outputs": [],
   "source": [
    "df = df.drop(['Id'], axis = 1)"
   ]
  },
  {
   "cell_type": "markdown",
   "id": "56851861",
   "metadata": {},
   "source": [
    "- 누락값 확인"
   ]
  },
  {
   "cell_type": "code",
   "execution_count": 4,
   "id": "06a8de74",
   "metadata": {},
   "outputs": [
    {
     "data": {
      "text/plain": [
       "LotFrontage      259\n",
       "Alley           1369\n",
       "MasVnrType         8\n",
       "MasVnrArea         8\n",
       "BsmtQual          37\n",
       "BsmtCond          37\n",
       "BsmtExposure      38\n",
       "BsmtFinType1      37\n",
       "BsmtFinType2      38\n",
       "Electrical         1\n",
       "FireplaceQu      690\n",
       "GarageType        81\n",
       "GarageYrBlt       81\n",
       "GarageFinish      81\n",
       "GarageQual        81\n",
       "GarageCond        81\n",
       "PoolQC          1453\n",
       "Fence           1179\n",
       "MiscFeature     1406\n",
       "dtype: int64"
      ]
     },
     "execution_count": 4,
     "metadata": {},
     "output_type": "execute_result"
    }
   ],
   "source": [
    "null_data= df.isnull().sum()\n",
    "df.isnull().sum()[df.isnull().sum()>0]"
   ]
  },
  {
   "cell_type": "markdown",
   "id": "4c94da91",
   "metadata": {},
   "source": [
    "- 데이터의 80% 이상(1000개)이 결측치인 데이터들은 삭제\n",
    "- 해당 데이터의 누락 원인: 해당 시설 None"
   ]
  },
  {
   "cell_type": "code",
   "execution_count": 5,
   "id": "78460f1b",
   "metadata": {},
   "outputs": [
    {
     "data": {
      "text/plain": [
       "Index(['Alley', 'PoolQC', 'Fence', 'MiscFeature'], dtype='object')"
      ]
     },
     "execution_count": 5,
     "metadata": {},
     "output_type": "execute_result"
    }
   ],
   "source": [
    "null_data[null_data.values > 1000].index"
   ]
  },
  {
   "cell_type": "code",
   "execution_count": 6,
   "id": "806f8b4d",
   "metadata": {},
   "outputs": [],
   "source": [
    "df.drop([\"Alley\", \"PoolQC\", \"Fence\", \"MiscFeature\"], axis = 1,inplace = True)"
   ]
  },
  {
   "cell_type": "markdown",
   "id": "72671097",
   "metadata": {},
   "source": [
    "- 259(17.7%)인 데이터 LotFrontage는 중위값으로 채워줌\n",
    "- 누락 원인: 알 수 없음"
   ]
  },
  {
   "cell_type": "code",
   "execution_count": 7,
   "id": "d24da19f",
   "metadata": {},
   "outputs": [],
   "source": [
    "df.LotFrontage.fillna(df.LotFrontage.median(), inplace=True)"
   ]
  },
  {
   "cell_type": "markdown",
   "id": "4c56979d",
   "metadata": {},
   "source": [
    "- 수치형 데이터는 0, 범주형 데이터는 'None'으로 처리\n",
    "- 누락 원인: 벽돌외장 면적 0, None"
   ]
  },
  {
   "cell_type": "code",
   "execution_count": 8,
   "id": "05b25705",
   "metadata": {},
   "outputs": [
    {
     "data": {
      "text/html": [
       "<div>\n",
       "<style scoped>\n",
       "    .dataframe tbody tr th:only-of-type {\n",
       "        vertical-align: middle;\n",
       "    }\n",
       "\n",
       "    .dataframe tbody tr th {\n",
       "        vertical-align: top;\n",
       "    }\n",
       "\n",
       "    .dataframe thead th {\n",
       "        text-align: right;\n",
       "    }\n",
       "</style>\n",
       "<table border=\"1\" class=\"dataframe\">\n",
       "  <thead>\n",
       "    <tr style=\"text-align: right;\">\n",
       "      <th></th>\n",
       "      <th>MasVnrArea</th>\n",
       "      <th>MasVnrType</th>\n",
       "    </tr>\n",
       "  </thead>\n",
       "  <tbody>\n",
       "    <tr>\n",
       "      <th>234</th>\n",
       "      <td>NaN</td>\n",
       "      <td>NaN</td>\n",
       "    </tr>\n",
       "    <tr>\n",
       "      <th>529</th>\n",
       "      <td>NaN</td>\n",
       "      <td>NaN</td>\n",
       "    </tr>\n",
       "    <tr>\n",
       "      <th>650</th>\n",
       "      <td>NaN</td>\n",
       "      <td>NaN</td>\n",
       "    </tr>\n",
       "    <tr>\n",
       "      <th>936</th>\n",
       "      <td>NaN</td>\n",
       "      <td>NaN</td>\n",
       "    </tr>\n",
       "    <tr>\n",
       "      <th>973</th>\n",
       "      <td>NaN</td>\n",
       "      <td>NaN</td>\n",
       "    </tr>\n",
       "    <tr>\n",
       "      <th>977</th>\n",
       "      <td>NaN</td>\n",
       "      <td>NaN</td>\n",
       "    </tr>\n",
       "    <tr>\n",
       "      <th>1243</th>\n",
       "      <td>NaN</td>\n",
       "      <td>NaN</td>\n",
       "    </tr>\n",
       "    <tr>\n",
       "      <th>1278</th>\n",
       "      <td>NaN</td>\n",
       "      <td>NaN</td>\n",
       "    </tr>\n",
       "  </tbody>\n",
       "</table>\n",
       "</div>"
      ],
      "text/plain": [
       "      MasVnrArea MasVnrType\n",
       "234          NaN        NaN\n",
       "529          NaN        NaN\n",
       "650          NaN        NaN\n",
       "936          NaN        NaN\n",
       "973          NaN        NaN\n",
       "977          NaN        NaN\n",
       "1243         NaN        NaN\n",
       "1278         NaN        NaN"
      ]
     },
     "execution_count": 8,
     "metadata": {},
     "output_type": "execute_result"
    }
   ],
   "source": [
    "df.loc[df.MasVnrArea.isnull(),['MasVnrArea','MasVnrType']]"
   ]
  },
  {
   "cell_type": "code",
   "execution_count": 9,
   "id": "b2491cbe",
   "metadata": {},
   "outputs": [],
   "source": [
    "df.MasVnrArea.fillna(0, inplace=True)  \n",
    "df.MasVnrType.fillna('None', inplace=True) "
   ]
  },
  {
   "cell_type": "markdown",
   "id": "b54a6da3",
   "metadata": {},
   "source": [
    "- 누락원인: 해당 시설 None"
   ]
  },
  {
   "cell_type": "code",
   "execution_count": 10,
   "id": "d613c277",
   "metadata": {},
   "outputs": [],
   "source": [
    "df.GarageType.fillna('None', inplace=True)\n",
    "df.GarageYrBlt.fillna('None', inplace=True)\n",
    "df.GarageFinish.fillna('None', inplace=True)\n",
    "df.GarageQual.fillna('None', inplace=True)\n",
    "df.GarageCond.fillna('None', inplace=True)"
   ]
  },
  {
   "cell_type": "code",
   "execution_count": 11,
   "id": "bf80a477",
   "metadata": {},
   "outputs": [],
   "source": [
    "df.BsmtQual.fillna('None', inplace=True)\n",
    "df.BsmtCond.fillna('None', inplace=True)\n",
    "df.BsmtExposure.fillna('None', inplace=True)\n",
    "df.BsmtFinType1.fillna('None', inplace=True)\n",
    "df.BsmtFinType2.fillna('None', inplace=True)\n",
    "df.FireplaceQu.fillna('None', inplace=True)"
   ]
  },
  {
   "cell_type": "markdown",
   "id": "06ca9176",
   "metadata": {},
   "source": [
    "- 제일 빈도가 큰값(Top)인 SBrkr으로 처리\n",
    "- 누락원인: 알 수 없음"
   ]
  },
  {
   "cell_type": "code",
   "execution_count": 12,
   "id": "52d4b7df",
   "metadata": {},
   "outputs": [],
   "source": [
    "df.Electrical.fillna(\"SBrkr\", inplace=True)"
   ]
  },
  {
   "cell_type": "markdown",
   "id": "f4f9dfb8",
   "metadata": {},
   "source": [
    "- 결측값이 더 이상 없는 것 확인"
   ]
  },
  {
   "cell_type": "code",
   "execution_count": 13,
   "id": "46adf9d9",
   "metadata": {},
   "outputs": [
    {
     "data": {
      "text/plain": [
       "Series([], dtype: int64)"
      ]
     },
     "execution_count": 13,
     "metadata": {},
     "output_type": "execute_result"
    }
   ],
   "source": [
    "df.isnull().sum()[df.isnull().sum()>0]"
   ]
  },
  {
   "cell_type": "markdown",
   "id": "5f1c3b4a",
   "metadata": {},
   "source": [
    "## 1-3. Visualization"
   ]
  },
  {
   "cell_type": "markdown",
   "id": "55be02bb",
   "metadata": {},
   "source": [
    "**중요변수 확인**"
   ]
  },
  {
   "cell_type": "code",
   "execution_count": 14,
   "id": "35aa1555",
   "metadata": {},
   "outputs": [
    {
     "data": {
      "text/plain": [
       "<AxesSubplot:>"
      ]
     },
     "execution_count": 14,
     "metadata": {},
     "output_type": "execute_result"
    },
    {
     "data": {
      "image/png": "[encoded data removed]",
      "text/plain": [
       "<Figure size 360x1080 with 2 Axes>"
      ]
     },
     "metadata": {
      "needs_background": "light"
     },
     "output_type": "display_data"
    }
   ],
   "source": [
    "corr_matrix = df.corr()\n",
    "plt.figure(figsize=(5,15))\n",
    "sns.heatmap(corr_matrix[['SalePrice']].sort_values(by=['SalePrice'],\n",
    "                                ascending=False).head(20),annot=True)"
   ]
  },
  {
   "cell_type": "markdown",
   "id": "3f6ada6a",
   "metadata": {},
   "source": [
    "- YearBuilt, YearRemod가 0.59, 0.57의 상관관계로 해당 데이터에서 높은 상관관계를 보여주고 있음"
   ]
  },
  {
   "cell_type": "code",
   "execution_count": 15,
   "id": "0d2989fc",
   "metadata": {},
   "outputs": [],
   "source": [
    "bins = [0, 1959, 1979, 1999, 2019]\n",
    "group_names = ['1950s', '1960s~1970s', '1980s~1990s', '2000s~2010s']"
   ]
  },
  {
   "cell_type": "code",
   "execution_count": 16,
   "id": "67580b9f",
   "metadata": {},
   "outputs": [
    {
     "data": {
      "text/plain": [
       "count    1460.000000\n",
       "mean     2007.815753\n",
       "std         1.328095\n",
       "min      2006.000000\n",
       "25%      2007.000000\n",
       "50%      2008.000000\n",
       "75%      2009.000000\n",
       "max      2010.000000\n",
       "Name: YrSold, dtype: float64"
      ]
     },
     "execution_count": 16,
     "metadata": {},
     "output_type": "execute_result"
    }
   ],
   "source": [
    "df['YrSold'].describe()"
   ]
  },
  {
   "cell_type": "markdown",
   "id": "86da2e44",
   "metadata": {},
   "source": [
    "- 리모델링 여부 관계를 확인하면서 '언제 팔렸는지'의 변수또한 중요하다고 생각했는데\n",
    "- 년도들이 그리 차이나지 않아서(1년 4개월정도) 고려대상에서 제외하였다."
   ]
  },
  {
   "cell_type": "code",
   "execution_count": 17,
   "id": "6b5de97d",
   "metadata": {},
   "outputs": [
    {
     "data": {
      "text/html": [
       "<div>\n",
       "<style scoped>\n",
       "    .dataframe tbody tr th:only-of-type {\n",
       "        vertical-align: middle;\n",
       "    }\n",
       "\n",
       "    .dataframe tbody tr th {\n",
       "        vertical-align: top;\n",
       "    }\n",
       "\n",
       "    .dataframe thead th {\n",
       "        text-align: right;\n",
       "    }\n",
       "</style>\n",
       "<table border=\"1\" class=\"dataframe\">\n",
       "  <thead>\n",
       "    <tr style=\"text-align: right;\">\n",
       "      <th></th>\n",
       "      <th>YearBuilt</th>\n",
       "      <th>YearRemodAdd</th>\n",
       "    </tr>\n",
       "  </thead>\n",
       "  <tbody>\n",
       "    <tr>\n",
       "      <th>0</th>\n",
       "      <td>2003</td>\n",
       "      <td>2003</td>\n",
       "    </tr>\n",
       "    <tr>\n",
       "      <th>1</th>\n",
       "      <td>1976</td>\n",
       "      <td>1976</td>\n",
       "    </tr>\n",
       "    <tr>\n",
       "      <th>2</th>\n",
       "      <td>2001</td>\n",
       "      <td>2002</td>\n",
       "    </tr>\n",
       "    <tr>\n",
       "      <th>3</th>\n",
       "      <td>1915</td>\n",
       "      <td>1970</td>\n",
       "    </tr>\n",
       "    <tr>\n",
       "      <th>4</th>\n",
       "      <td>2000</td>\n",
       "      <td>2000</td>\n",
       "    </tr>\n",
       "    <tr>\n",
       "      <th>...</th>\n",
       "      <td>...</td>\n",
       "      <td>...</td>\n",
       "    </tr>\n",
       "    <tr>\n",
       "      <th>1455</th>\n",
       "      <td>1999</td>\n",
       "      <td>2000</td>\n",
       "    </tr>\n",
       "    <tr>\n",
       "      <th>1456</th>\n",
       "      <td>1978</td>\n",
       "      <td>1988</td>\n",
       "    </tr>\n",
       "    <tr>\n",
       "      <th>1457</th>\n",
       "      <td>1941</td>\n",
       "      <td>2006</td>\n",
       "    </tr>\n",
       "    <tr>\n",
       "      <th>1458</th>\n",
       "      <td>1950</td>\n",
       "      <td>1996</td>\n",
       "    </tr>\n",
       "    <tr>\n",
       "      <th>1459</th>\n",
       "      <td>1965</td>\n",
       "      <td>1965</td>\n",
       "    </tr>\n",
       "  </tbody>\n",
       "</table>\n",
       "<p>1460 rows × 2 columns</p>\n",
       "</div>"
      ],
      "text/plain": [
       "      YearBuilt  YearRemodAdd\n",
       "0          2003          2003\n",
       "1          1976          1976\n",
       "2          2001          2002\n",
       "3          1915          1970\n",
       "4          2000          2000\n",
       "...         ...           ...\n",
       "1455       1999          2000\n",
       "1456       1978          1988\n",
       "1457       1941          2006\n",
       "1458       1950          1996\n",
       "1459       1965          1965\n",
       "\n",
       "[1460 rows x 2 columns]"
      ]
     },
     "execution_count": 17,
     "metadata": {},
     "output_type": "execute_result"
    }
   ],
   "source": [
    "year_cats = pd.cut(df['YearRemodAdd'], bins, labels=group_names)\n",
    "df[['YearBuilt', 'YearRemodAdd']]"
   ]
  },
  {
   "cell_type": "code",
   "execution_count": 18,
   "id": "18675551",
   "metadata": {},
   "outputs": [],
   "source": [
    "df['IsRemodel'] = df[['YearBuilt', 'YearRemodAdd']].apply(lambda x: \"No-Remod\" if x[0] == x[1] \n",
    "                                                          else \"Yes-Remod\", axis = 1)"
   ]
  },
  {
   "cell_type": "code",
   "execution_count": 24,
   "id": "7f2e0f63",
   "metadata": {},
   "outputs": [
    {
     "data": {
      "image/png": "[encoded data removed]",
      "text/plain": [
       "<Figure size 576x576 with 1 Axes>"
      ]
     },
     "metadata": {
      "needs_background": "light"
     },
     "output_type": "display_data"
    }
   ],
   "source": [
    "fig, axes = plt.subplots(figsize=(8,8))\n",
    "sns.countplot(x = df['IsRemodel'], palette=\"Set3\")\n",
    "plt.show()"
   ]
  },
  {
   "cell_type": "code",
   "execution_count": 22,
   "id": "8b22739c",
   "metadata": {},
   "outputs": [
    {
     "data": {
      "image/png": "[encoded data removed]",
      "text/plain": [
       "<Figure size 1152x648 with 1 Axes>"
      ]
     },
     "metadata": {
      "needs_background": "light"
     },
     "output_type": "display_data"
    }
   ],
   "source": [
    "plt.figure(figsize=(16,9))\n",
    "plt.rc('axes', axisbelow = True)\n",
    "sns.boxplot(data=df, y=\"SalePrice\", x=year_cats, palette = \"Set3\", hue = 'IsRemodel')\n",
    "plt.show()"
   ]
  },
  {
   "cell_type": "markdown",
   "id": "e5460afa",
   "metadata": {},
   "source": [
    "## 1-4. 원-핫 인코딩"
   ]
  },
  {
   "cell_type": "code",
   "execution_count": 25,
   "id": "630004a1",
   "metadata": {},
   "outputs": [],
   "source": [
    "df = pd.get_dummies(df)"
   ]
  },
  {
   "cell_type": "markdown",
   "id": "4fdf83d6",
   "metadata": {},
   "source": [
    "## 1-5. 로그변환 "
   ]
  },
  {
   "cell_type": "markdown",
   "id": "86aa0b12",
   "metadata": {},
   "source": [
    "- SalePrice 데이터를 보면 왼쪽으로 치우쳐 있고, 정규분포에서 많이 벗어난 모습을 볼 수 있음\n",
    "- 양의 왜도 또한 나타나 있음"
   ]
  },
  {
   "cell_type": "code",
   "execution_count": 26,
   "id": "a0f51ba3",
   "metadata": {},
   "outputs": [
    {
     "name": "stderr",
     "output_type": "stream",
     "text": [
      "C:\\ProgramData\\Anaconda3\\lib\\site-packages\\seaborn\\distributions.py:2619: FutureWarning: `distplot` is a deprecated function and will be removed in a future version. Please adapt your code to use either `displot` (a figure-level function with similar flexibility) or `histplot` (an axes-level function for histograms).\n",
      "  warnings.warn(msg, FutureWarning)\n"
     ]
    },
    {
     "data": {
      "image/png": "[encoded data removed]",
      "text/plain": [
       "<Figure size 432x288 with 1 Axes>"
      ]
     },
     "metadata": {
      "needs_background": "light"
     },
     "output_type": "display_data"
    },
    {
     "data": {
      "image/png": "[encoded data removed]",
      "text/plain": [
       "<Figure size 432x288 with 1 Axes>"
      ]
     },
     "metadata": {
      "needs_background": "light"
     },
     "output_type": "display_data"
    }
   ],
   "source": [
    "import scipy.stats as st\n",
    "sns.distplot(df['SalePrice'], fit=st.norm)\n",
    "fig = plt.figure()\n",
    "res = st.probplot(df['SalePrice'], plot=plt)"
   ]
  },
  {
   "cell_type": "markdown",
   "id": "b51bb0d5",
   "metadata": {},
   "source": [
    "- 로그 변환 후, 정규분포와 빨간 사선에 모두 부합한 모습"
   ]
  },
  {
   "cell_type": "code",
   "execution_count": 27,
   "id": "8ff5d42c",
   "metadata": {},
   "outputs": [
    {
     "name": "stderr",
     "output_type": "stream",
     "text": [
      "C:\\ProgramData\\Anaconda3\\lib\\site-packages\\seaborn\\distributions.py:2619: FutureWarning: `distplot` is a deprecated function and will be removed in a future version. Please adapt your code to use either `displot` (a figure-level function with similar flexibility) or `histplot` (an axes-level function for histograms).\n",
      "  warnings.warn(msg, FutureWarning)\n"
     ]
    },
    {
     "data": {
      "image/png": "[encoded data removed]",
      "text/plain": [
       "<Figure size 432x288 with 1 Axes>"
      ]
     },
     "metadata": {
      "needs_background": "light"
     },
     "output_type": "display_data"
    },
    {
     "data": {
      "image/png": "[encoded data removed]",
      "text/plain": [
       "<Figure size 432x288 with 1 Axes>"
      ]
     },
     "metadata": {
      "needs_background": "light"
     },
     "output_type": "display_data"
    }
   ],
   "source": [
    "df['SalePrice'] = np.log(df['SalePrice'])\n",
    "sns.distplot(df['SalePrice'], fit=st.norm)\n",
    "fig = plt.figure()\n",
    "res = st.probplot(df['SalePrice'], plot=plt)"
   ]
  },
  {
   "cell_type": "markdown",
   "id": "2d0f1e6b",
   "metadata": {},
   "source": [
    "## 1-6. 데이터세트를 훈련용, 테스트용으로 분할"
   ]
  },
  {
   "cell_type": "code",
   "execution_count": 28,
   "id": "6d89365a",
   "metadata": {},
   "outputs": [],
   "source": [
    "# trainset, testset 분리\n",
    "from sklearn.model_selection import train_test_split\n",
    "X = df.drop('SalePrice', axis = 1)\n",
    "y = df['SalePrice']\n",
    "X_train, X_test, y_train, y_test = train_test_split(X, y, \n",
    "                                                    test_size=0.2, random_state=42)"
   ]
  },
  {
   "cell_type": "markdown",
   "id": "ac98b319",
   "metadata": {},
   "source": [
    "# 2. 예측 모델 구현"
   ]
  },
  {
   "cell_type": "code",
   "execution_count": 29,
   "id": "0a62500a",
   "metadata": {},
   "outputs": [],
   "source": [
    "from sklearn.linear_model import LinearRegression\n",
    "from sklearn.metrics import mean_squared_error # MSE\n",
    "from sklearn.model_selection import cross_val_score"
   ]
  },
  {
   "cell_type": "markdown",
   "id": "b34bc665",
   "metadata": {},
   "source": [
    "## 2-1. 선형 회귀"
   ]
  },
  {
   "cell_type": "code",
   "execution_count": 30,
   "id": "13722572",
   "metadata": {},
   "outputs": [
    {
     "data": {
      "text/plain": [
       "13712.537839819337"
      ]
     },
     "execution_count": 30,
     "metadata": {},
     "output_type": "execute_result"
    }
   ],
   "source": [
    "lin_reg = LinearRegression()\n",
    "lin_reg.fit(X_train, y_train)\n",
    "lin_scores = cross_val_score(lin_reg, X_train, y_train, scoring=\"neg_mean_squared_error\", cv=10, n_jobs=-1)\n",
    "lin_rmse = np.sqrt((-lin_scores).mean())\n",
    "lin_rmse"
   ]
  },
  {
   "cell_type": "markdown",
   "id": "d0f52a52",
   "metadata": {},
   "source": [
    "## 2-2. 규제모델 적용"
   ]
  },
  {
   "cell_type": "code",
   "execution_count": 31,
   "id": "6cae3595",
   "metadata": {},
   "outputs": [],
   "source": [
    "from sklearn.linear_model import Ridge, Lasso, ElasticNet"
   ]
  },
  {
   "cell_type": "markdown",
   "id": "17a57263",
   "metadata": {},
   "source": [
    "### Ridge(릿지)"
   ]
  },
  {
   "cell_type": "code",
   "execution_count": 32,
   "id": "d14f7759",
   "metadata": {},
   "outputs": [
    {
     "data": {
      "text/plain": [
       "0.15741288245359034"
      ]
     },
     "execution_count": 32,
     "metadata": {},
     "output_type": "execute_result"
    }
   ],
   "source": [
    "ridge_reg = Ridge()\n",
    "ridge_reg.fit(X_train, y_train)\n",
    "ridge_scores = cross_val_score(ridge_reg, X_train, y_train, scoring = \"neg_mean_squared_error\", cv = 5 )\n",
    "ridge_reg_rmse = np.sqrt((-ridge_scores).mean())\n",
    "ridge_reg_rmse"
   ]
  },
  {
   "cell_type": "markdown",
   "id": "4b339178",
   "metadata": {},
   "source": [
    "### Lasso(라쏘)"
   ]
  },
  {
   "cell_type": "code",
   "execution_count": 33,
   "id": "826a56c2",
   "metadata": {},
   "outputs": [
    {
     "data": {
      "text/plain": [
       "0.1965057828911776"
      ]
     },
     "execution_count": 33,
     "metadata": {},
     "output_type": "execute_result"
    }
   ],
   "source": [
    "lasso_reg = Lasso()\n",
    "lasso_reg.fit(X_train, y_train)\n",
    "lasso_scores = cross_val_score(lasso_reg, X_train, y_train, scoring = \"neg_mean_squared_error\", cv=10, n_jobs=-1)\n",
    "lasso_rmse = np.sqrt(-lasso_scores).mean()\n",
    "lasso_rmse"
   ]
  },
  {
   "cell_type": "markdown",
   "id": "96a8cb1c",
   "metadata": {},
   "source": [
    "### ElasticNet(엘라스틱넷)"
   ]
  },
  {
   "cell_type": "code",
   "execution_count": 34,
   "id": "b9420565",
   "metadata": {},
   "outputs": [
    {
     "data": {
      "text/plain": [
       "0.19069598691213752"
      ]
     },
     "execution_count": 34,
     "metadata": {},
     "output_type": "execute_result"
    }
   ],
   "source": [
    "elastic_reg = ElasticNet()\n",
    "elastic_reg.fit(X_train, y_train)\n",
    "elastic_scores = cross_val_score(elastic_reg, X_train, y_train, scoring = \"neg_mean_squared_error\", cv=10, n_jobs=-1)\n",
    "elastic_rmse = np.sqrt(-elastic_scores).mean()\n",
    "elastic_rmse"
   ]
  },
  {
   "cell_type": "markdown",
   "id": "7d466c24",
   "metadata": {},
   "source": [
    "## 2-3 선형 회귀계수 시각화"
   ]
  },
  {
   "cell_type": "code",
   "execution_count": 35,
   "id": "59d8f211",
   "metadata": {},
   "outputs": [],
   "source": [
    "def get_top_bottom_coef(model):\n",
    "    # coef_ > Series 생성 \n",
    "    coef = pd.Series(model.coef_, index=X.columns)    \n",
    "    # 상위 10개 , 하위 10개 회귀계수 Series 추출하여 반환.\n",
    "    coef_high = coef.sort_values(ascending=False).head(10)\n",
    "    coef_low = coef.sort_values(ascending=False).tail(10)\n",
    "\n",
    "    return coef_high, coef_low\n",
    "\n",
    "def visualize_coefficient(models):\n",
    "\n",
    "    # subplot 생성\n",
    "    fig, axs = plt.subplots(figsize=(15,5), nrows=1, ncols=len(models), constrained_layout=True)\n",
    "    # 모델별 회귀계수 시각화\n",
    "    for i_num, model in enumerate(models):\n",
    "        # get_top_bottom_coef 함수 호출 > concat으로 결합. \n",
    "        coef_high, coef_low = get_top_bottom_coef(model)\n",
    "        coef_concat = pd.concat([coef_high , coef_low], axis=0)\n",
    "        \n",
    "        axs[i_num].set_title(model.__class__.__name__+' Coeffiecents')         # title\n",
    "        sns.barplot(x=coef_concat.values, y=coef_concat.index , ax=axs[i_num]) # barplot"
   ]
  },
  {
   "cell_type": "code",
   "execution_count": 36,
   "id": "9a965eff",
   "metadata": {},
   "outputs": [
    {
     "data": {
      "image/png": "[encoded data removed]",
      "text/plain": [
       "<Figure size 1080x360 with 4 Axes>"
      ]
     },
     "metadata": {
      "needs_background": "light"
     },
     "output_type": "display_data"
    }
   ],
   "source": [
    "models = [lin_reg, ridge_reg, lasso_reg, elastic_reg]\n",
    "visualize_coefficient(models)"
   ]
  },
  {
   "cell_type": "markdown",
   "id": "6d54fb72",
   "metadata": {},
   "source": [
    "- Lasso, ElasticNet에서 YearBuilt, YearRemodAdd가 주택가격에 영향을 미치는 변수 top2로 나타남"
   ]
  },
  {
   "cell_type": "markdown",
   "id": "0b6cf6fa",
   "metadata": {},
   "source": [
    "## 2-4. RandomForest(랜덤포레스트)"
   ]
  },
  {
   "cell_type": "code",
   "execution_count": 37,
   "id": "d048860e",
   "metadata": {},
   "outputs": [
    {
     "data": {
      "text/plain": [
       "0.14632901797290163"
      ]
     },
     "execution_count": 37,
     "metadata": {},
     "output_type": "execute_result"
    }
   ],
   "source": [
    "from sklearn.ensemble import RandomForestRegressor\n",
    "rf_reg = RandomForestRegressor()\n",
    "rf_reg.fit(X_train, y_train)\n",
    "rf_scores = cross_val_score(rf_reg, X_train, y_train, scoring=\"neg_mean_squared_error\", cv=10, n_jobs=-1)\n",
    "rf_rmse = np.sqrt((-rf_scores).mean())\n",
    "rf_rmse"
   ]
  },
  {
   "cell_type": "markdown",
   "id": "aead2445",
   "metadata": {},
   "source": [
    "## 2-5. DecisionTree(의사결정트리)"
   ]
  },
  {
   "cell_type": "code",
   "execution_count": 38,
   "id": "01f37fd6",
   "metadata": {},
   "outputs": [
    {
     "data": {
      "text/plain": [
       "0.2034797713697617"
      ]
     },
     "execution_count": 38,
     "metadata": {},
     "output_type": "execute_result"
    }
   ],
   "source": [
    "from sklearn.tree import DecisionTreeRegressor\n",
    "tree_reg = DecisionTreeRegressor()\n",
    "tree_reg.fit(X_train, y_train)\n",
    "tree_scores = cross_val_score(tree_reg, X_train, y_train, scoring=\"neg_mean_squared_error\", cv=10, n_jobs=-1)\n",
    "tree_rmse = np.sqrt((-tree_scores).mean())\n",
    "tree_rmse"
   ]
  },
  {
   "cell_type": "markdown",
   "id": "9b0015bf",
   "metadata": {},
   "source": [
    "## 2-6. XGB"
   ]
  },
  {
   "cell_type": "code",
   "execution_count": 39,
   "id": "c3fa9d36",
   "metadata": {
    "scrolled": true
   },
   "outputs": [
    {
     "data": {
      "text/plain": [
       "0.1403799882028546"
      ]
     },
     "execution_count": 39,
     "metadata": {},
     "output_type": "execute_result"
    }
   ],
   "source": [
    "import xgboost as xgb\n",
    "xgb_reg = xgb.XGBRegressor()\n",
    "xgb_reg.fit(X_train, y_train)\n",
    "xgb_scores = cross_val_score(xgb_reg, X_train, y_train, scoring=\"neg_mean_squared_error\", cv=10, n_jobs=-1)\n",
    "xgb_rmse = np.sqrt((-xgb_scores).mean())\n",
    "xgb_rmse"
   ]
  },
  {
   "cell_type": "markdown",
   "id": "c32b214f",
   "metadata": {},
   "source": [
    "# 3. 파라미터 튜닝"
   ]
  },
  {
   "cell_type": "markdown",
   "id": "31f56414",
   "metadata": {},
   "source": [
    "## 3-1. 그리드탐색(GridSearch)"
   ]
  },
  {
   "cell_type": "code",
   "execution_count": 41,
   "id": "44246519",
   "metadata": {},
   "outputs": [],
   "source": [
    "from sklearn.model_selection import GridSearchCV"
   ]
  },
  {
   "cell_type": "markdown",
   "id": "bd3bf1e1",
   "metadata": {},
   "source": [
    "### Ridge, Lasso, ElasticNet"
   ]
  },
  {
   "cell_type": "code",
   "execution_count": 42,
   "id": "6f766bec",
   "metadata": {
    "scrolled": true
   },
   "outputs": [
    {
     "name": "stdout",
     "output_type": "stream",
     "text": [
      "Ridge 10 CV 시 최적 평균 RMSE 값: 0.14138500155873734, 최적 alpha:{'alpha': 15}\n",
      "Lasso 10 CV 시 최적 평균 RMSE 값: 0.14258860975561335, 최적 alpha:{'alpha': 0.001}\n",
      "ElasticNet 10 CV 시 최적 평균 RMSE 값: 0.14026914972336943, 최적 alpha:{'alpha': 0.001}\n"
     ]
    }
   ],
   "source": [
    "params = {'alpha':[0.0001,0.001,0.005,0.01,0.05,0.1,0.5,1,5,10,12,15,20,25,30]}\n",
    "models = [ridge_reg,lasso_reg, elastic_reg]\n",
    "\n",
    "for model in models:\n",
    "    grid = GridSearchCV(model, param_grid = params, cv=10, scoring = 'neg_mean_squared_error',n_jobs=-1)\n",
    "    grid.fit(X,y)\n",
    "    rmse = np.sqrt(-1*grid.best_score_)\n",
    "    print('{0} 10 CV 시 최적 평균 RMSE 값: {1}, 최적 alpha:{2}'.format(model.__class__.__name__,rmse, grid.best_params_))"
   ]
  },
  {
   "cell_type": "markdown",
   "id": "d22ee191",
   "metadata": {},
   "source": [
    "### RandomForest"
   ]
  },
  {
   "cell_type": "code",
   "execution_count": 43,
   "id": "81ceb60d",
   "metadata": {},
   "outputs": [
    {
     "name": "stdout",
     "output_type": "stream",
     "text": [
      "0.14632901797290163 {'max_depth': 6, 'min_samples_leaf': 8, 'min_samples_split': 8, 'n_estimators': 1}\n",
      "0.14632901797290163 {'max_depth': 6, 'min_samples_leaf': 8, 'min_samples_split': 8, 'n_estimators': 10}\n",
      "0.14632901797290163 {'max_depth': 6, 'min_samples_leaf': 8, 'min_samples_split': 8, 'n_estimators': 100}\n",
      "0.14632901797290163 {'max_depth': 6, 'min_samples_leaf': 8, 'min_samples_split': 16, 'n_estimators': 1}\n",
      "0.14632901797290163 {'max_depth': 6, 'min_samples_leaf': 8, 'min_samples_split': 16, 'n_estimators': 10}\n",
      "0.14632901797290163 {'max_depth': 6, 'min_samples_leaf': 8, 'min_samples_split': 16, 'n_estimators': 100}\n",
      "0.14632901797290163 {'max_depth': 6, 'min_samples_leaf': 8, 'min_samples_split': 20, 'n_estimators': 1}\n",
      "0.14632901797290163 {'max_depth': 6, 'min_samples_leaf': 8, 'min_samples_split': 20, 'n_estimators': 10}\n",
      "0.14632901797290163 {'max_depth': 6, 'min_samples_leaf': 8, 'min_samples_split': 20, 'n_estimators': 100}\n",
      "0.14632901797290163 {'max_depth': 6, 'min_samples_leaf': 12, 'min_samples_split': 8, 'n_estimators': 1}\n",
      "0.14632901797290163 {'max_depth': 6, 'min_samples_leaf': 12, 'min_samples_split': 8, 'n_estimators': 10}\n",
      "0.14632901797290163 {'max_depth': 6, 'min_samples_leaf': 12, 'min_samples_split': 8, 'n_estimators': 100}\n",
      "0.14632901797290163 {'max_depth': 6, 'min_samples_leaf': 12, 'min_samples_split': 16, 'n_estimators': 1}\n",
      "0.14632901797290163 {'max_depth': 6, 'min_samples_leaf': 12, 'min_samples_split': 16, 'n_estimators': 10}\n",
      "0.14632901797290163 {'max_depth': 6, 'min_samples_leaf': 12, 'min_samples_split': 16, 'n_estimators': 100}\n",
      "0.14632901797290163 {'max_depth': 6, 'min_samples_leaf': 12, 'min_samples_split': 20, 'n_estimators': 1}\n",
      "0.14632901797290163 {'max_depth': 6, 'min_samples_leaf': 12, 'min_samples_split': 20, 'n_estimators': 10}\n",
      "0.14632901797290163 {'max_depth': 6, 'min_samples_leaf': 12, 'min_samples_split': 20, 'n_estimators': 100}\n",
      "0.14632901797290163 {'max_depth': 6, 'min_samples_leaf': 18, 'min_samples_split': 8, 'n_estimators': 1}\n",
      "0.14632901797290163 {'max_depth': 6, 'min_samples_leaf': 18, 'min_samples_split': 8, 'n_estimators': 10}\n",
      "0.14632901797290163 {'max_depth': 6, 'min_samples_leaf': 18, 'min_samples_split': 8, 'n_estimators': 100}\n",
      "0.14632901797290163 {'max_depth': 6, 'min_samples_leaf': 18, 'min_samples_split': 16, 'n_estimators': 1}\n",
      "0.14632901797290163 {'max_depth': 6, 'min_samples_leaf': 18, 'min_samples_split': 16, 'n_estimators': 10}\n",
      "0.14632901797290163 {'max_depth': 6, 'min_samples_leaf': 18, 'min_samples_split': 16, 'n_estimators': 100}\n",
      "0.14632901797290163 {'max_depth': 6, 'min_samples_leaf': 18, 'min_samples_split': 20, 'n_estimators': 1}\n",
      "0.14632901797290163 {'max_depth': 6, 'min_samples_leaf': 18, 'min_samples_split': 20, 'n_estimators': 10}\n",
      "0.14632901797290163 {'max_depth': 6, 'min_samples_leaf': 18, 'min_samples_split': 20, 'n_estimators': 100}\n",
      "0.14632901797290163 {'max_depth': 8, 'min_samples_leaf': 8, 'min_samples_split': 8, 'n_estimators': 1}\n",
      "0.14632901797290163 {'max_depth': 8, 'min_samples_leaf': 8, 'min_samples_split': 8, 'n_estimators': 10}\n",
      "0.14632901797290163 {'max_depth': 8, 'min_samples_leaf': 8, 'min_samples_split': 8, 'n_estimators': 100}\n",
      "0.14632901797290163 {'max_depth': 8, 'min_samples_leaf': 8, 'min_samples_split': 16, 'n_estimators': 1}\n",
      "0.14632901797290163 {'max_depth': 8, 'min_samples_leaf': 8, 'min_samples_split': 16, 'n_estimators': 10}\n",
      "0.14632901797290163 {'max_depth': 8, 'min_samples_leaf': 8, 'min_samples_split': 16, 'n_estimators': 100}\n",
      "0.14632901797290163 {'max_depth': 8, 'min_samples_leaf': 8, 'min_samples_split': 20, 'n_estimators': 1}\n",
      "0.14632901797290163 {'max_depth': 8, 'min_samples_leaf': 8, 'min_samples_split': 20, 'n_estimators': 10}\n",
      "0.14632901797290163 {'max_depth': 8, 'min_samples_leaf': 8, 'min_samples_split': 20, 'n_estimators': 100}\n",
      "0.14632901797290163 {'max_depth': 8, 'min_samples_leaf': 12, 'min_samples_split': 8, 'n_estimators': 1}\n",
      "0.14632901797290163 {'max_depth': 8, 'min_samples_leaf': 12, 'min_samples_split': 8, 'n_estimators': 10}\n",
      "0.14632901797290163 {'max_depth': 8, 'min_samples_leaf': 12, 'min_samples_split': 8, 'n_estimators': 100}\n",
      "0.14632901797290163 {'max_depth': 8, 'min_samples_leaf': 12, 'min_samples_split': 16, 'n_estimators': 1}\n",
      "0.14632901797290163 {'max_depth': 8, 'min_samples_leaf': 12, 'min_samples_split': 16, 'n_estimators': 10}\n",
      "0.14632901797290163 {'max_depth': 8, 'min_samples_leaf': 12, 'min_samples_split': 16, 'n_estimators': 100}\n",
      "0.14632901797290163 {'max_depth': 8, 'min_samples_leaf': 12, 'min_samples_split': 20, 'n_estimators': 1}\n",
      "0.14632901797290163 {'max_depth': 8, 'min_samples_leaf': 12, 'min_samples_split': 20, 'n_estimators': 10}\n",
      "0.14632901797290163 {'max_depth': 8, 'min_samples_leaf': 12, 'min_samples_split': 20, 'n_estimators': 100}\n",
      "0.14632901797290163 {'max_depth': 8, 'min_samples_leaf': 18, 'min_samples_split': 8, 'n_estimators': 1}\n",
      "0.14632901797290163 {'max_depth': 8, 'min_samples_leaf': 18, 'min_samples_split': 8, 'n_estimators': 10}\n",
      "0.14632901797290163 {'max_depth': 8, 'min_samples_leaf': 18, 'min_samples_split': 8, 'n_estimators': 100}\n",
      "0.14632901797290163 {'max_depth': 8, 'min_samples_leaf': 18, 'min_samples_split': 16, 'n_estimators': 1}\n",
      "0.14632901797290163 {'max_depth': 8, 'min_samples_leaf': 18, 'min_samples_split': 16, 'n_estimators': 10}\n",
      "0.14632901797290163 {'max_depth': 8, 'min_samples_leaf': 18, 'min_samples_split': 16, 'n_estimators': 100}\n",
      "0.14632901797290163 {'max_depth': 8, 'min_samples_leaf': 18, 'min_samples_split': 20, 'n_estimators': 1}\n",
      "0.14632901797290163 {'max_depth': 8, 'min_samples_leaf': 18, 'min_samples_split': 20, 'n_estimators': 10}\n",
      "0.14632901797290163 {'max_depth': 8, 'min_samples_leaf': 18, 'min_samples_split': 20, 'n_estimators': 100}\n",
      "0.14632901797290163 {'max_depth': 10, 'min_samples_leaf': 8, 'min_samples_split': 8, 'n_estimators': 1}\n",
      "0.14632901797290163 {'max_depth': 10, 'min_samples_leaf': 8, 'min_samples_split': 8, 'n_estimators': 10}\n",
      "0.14632901797290163 {'max_depth': 10, 'min_samples_leaf': 8, 'min_samples_split': 8, 'n_estimators': 100}\n",
      "0.14632901797290163 {'max_depth': 10, 'min_samples_leaf': 8, 'min_samples_split': 16, 'n_estimators': 1}\n",
      "0.14632901797290163 {'max_depth': 10, 'min_samples_leaf': 8, 'min_samples_split': 16, 'n_estimators': 10}\n",
      "0.14632901797290163 {'max_depth': 10, 'min_samples_leaf': 8, 'min_samples_split': 16, 'n_estimators': 100}\n",
      "0.14632901797290163 {'max_depth': 10, 'min_samples_leaf': 8, 'min_samples_split': 20, 'n_estimators': 1}\n",
      "0.14632901797290163 {'max_depth': 10, 'min_samples_leaf': 8, 'min_samples_split': 20, 'n_estimators': 10}\n",
      "0.14632901797290163 {'max_depth': 10, 'min_samples_leaf': 8, 'min_samples_split': 20, 'n_estimators': 100}\n",
      "0.14632901797290163 {'max_depth': 10, 'min_samples_leaf': 12, 'min_samples_split': 8, 'n_estimators': 1}\n",
      "0.14632901797290163 {'max_depth': 10, 'min_samples_leaf': 12, 'min_samples_split': 8, 'n_estimators': 10}\n",
      "0.14632901797290163 {'max_depth': 10, 'min_samples_leaf': 12, 'min_samples_split': 8, 'n_estimators': 100}\n",
      "0.14632901797290163 {'max_depth': 10, 'min_samples_leaf': 12, 'min_samples_split': 16, 'n_estimators': 1}\n",
      "0.14632901797290163 {'max_depth': 10, 'min_samples_leaf': 12, 'min_samples_split': 16, 'n_estimators': 10}\n",
      "0.14632901797290163 {'max_depth': 10, 'min_samples_leaf': 12, 'min_samples_split': 16, 'n_estimators': 100}\n",
      "0.14632901797290163 {'max_depth': 10, 'min_samples_leaf': 12, 'min_samples_split': 20, 'n_estimators': 1}\n",
      "0.14632901797290163 {'max_depth': 10, 'min_samples_leaf': 12, 'min_samples_split': 20, 'n_estimators': 10}\n",
      "0.14632901797290163 {'max_depth': 10, 'min_samples_leaf': 12, 'min_samples_split': 20, 'n_estimators': 100}\n",
      "0.14632901797290163 {'max_depth': 10, 'min_samples_leaf': 18, 'min_samples_split': 8, 'n_estimators': 1}\n",
      "0.14632901797290163 {'max_depth': 10, 'min_samples_leaf': 18, 'min_samples_split': 8, 'n_estimators': 10}\n",
      "0.14632901797290163 {'max_depth': 10, 'min_samples_leaf': 18, 'min_samples_split': 8, 'n_estimators': 100}\n",
      "0.14632901797290163 {'max_depth': 10, 'min_samples_leaf': 18, 'min_samples_split': 16, 'n_estimators': 1}\n",
      "0.14632901797290163 {'max_depth': 10, 'min_samples_leaf': 18, 'min_samples_split': 16, 'n_estimators': 10}\n",
      "0.14632901797290163 {'max_depth': 10, 'min_samples_leaf': 18, 'min_samples_split': 16, 'n_estimators': 100}\n",
      "0.14632901797290163 {'max_depth': 10, 'min_samples_leaf': 18, 'min_samples_split': 20, 'n_estimators': 1}\n",
      "0.14632901797290163 {'max_depth': 10, 'min_samples_leaf': 18, 'min_samples_split': 20, 'n_estimators': 10}\n",
      "0.14632901797290163 {'max_depth': 10, 'min_samples_leaf': 18, 'min_samples_split': 20, 'n_estimators': 100}\n",
      "0.14632901797290163 {'max_depth': 12, 'min_samples_leaf': 8, 'min_samples_split': 8, 'n_estimators': 1}\n",
      "0.14632901797290163 {'max_depth': 12, 'min_samples_leaf': 8, 'min_samples_split': 8, 'n_estimators': 10}\n",
      "0.14632901797290163 {'max_depth': 12, 'min_samples_leaf': 8, 'min_samples_split': 8, 'n_estimators': 100}\n",
      "0.14632901797290163 {'max_depth': 12, 'min_samples_leaf': 8, 'min_samples_split': 16, 'n_estimators': 1}\n",
      "0.14632901797290163 {'max_depth': 12, 'min_samples_leaf': 8, 'min_samples_split': 16, 'n_estimators': 10}\n",
      "0.14632901797290163 {'max_depth': 12, 'min_samples_leaf': 8, 'min_samples_split': 16, 'n_estimators': 100}\n",
      "0.14632901797290163 {'max_depth': 12, 'min_samples_leaf': 8, 'min_samples_split': 20, 'n_estimators': 1}\n",
      "0.14632901797290163 {'max_depth': 12, 'min_samples_leaf': 8, 'min_samples_split': 20, 'n_estimators': 10}\n",
      "0.14632901797290163 {'max_depth': 12, 'min_samples_leaf': 8, 'min_samples_split': 20, 'n_estimators': 100}\n",
      "0.14632901797290163 {'max_depth': 12, 'min_samples_leaf': 12, 'min_samples_split': 8, 'n_estimators': 1}\n",
      "0.14632901797290163 {'max_depth': 12, 'min_samples_leaf': 12, 'min_samples_split': 8, 'n_estimators': 10}\n",
      "0.14632901797290163 {'max_depth': 12, 'min_samples_leaf': 12, 'min_samples_split': 8, 'n_estimators': 100}\n",
      "0.14632901797290163 {'max_depth': 12, 'min_samples_leaf': 12, 'min_samples_split': 16, 'n_estimators': 1}\n",
      "0.14632901797290163 {'max_depth': 12, 'min_samples_leaf': 12, 'min_samples_split': 16, 'n_estimators': 10}\n",
      "0.14632901797290163 {'max_depth': 12, 'min_samples_leaf': 12, 'min_samples_split': 16, 'n_estimators': 100}\n",
      "0.14632901797290163 {'max_depth': 12, 'min_samples_leaf': 12, 'min_samples_split': 20, 'n_estimators': 1}\n",
      "0.14632901797290163 {'max_depth': 12, 'min_samples_leaf': 12, 'min_samples_split': 20, 'n_estimators': 10}\n",
      "0.14632901797290163 {'max_depth': 12, 'min_samples_leaf': 12, 'min_samples_split': 20, 'n_estimators': 100}\n",
      "0.14632901797290163 {'max_depth': 12, 'min_samples_leaf': 18, 'min_samples_split': 8, 'n_estimators': 1}\n",
      "0.14632901797290163 {'max_depth': 12, 'min_samples_leaf': 18, 'min_samples_split': 8, 'n_estimators': 10}\n",
      "0.14632901797290163 {'max_depth': 12, 'min_samples_leaf': 18, 'min_samples_split': 8, 'n_estimators': 100}\n",
      "0.14632901797290163 {'max_depth': 12, 'min_samples_leaf': 18, 'min_samples_split': 16, 'n_estimators': 1}\n",
      "0.14632901797290163 {'max_depth': 12, 'min_samples_leaf': 18, 'min_samples_split': 16, 'n_estimators': 10}\n",
      "0.14632901797290163 {'max_depth': 12, 'min_samples_leaf': 18, 'min_samples_split': 16, 'n_estimators': 100}\n",
      "0.14632901797290163 {'max_depth': 12, 'min_samples_leaf': 18, 'min_samples_split': 20, 'n_estimators': 1}\n",
      "0.14632901797290163 {'max_depth': 12, 'min_samples_leaf': 18, 'min_samples_split': 20, 'n_estimators': 10}\n",
      "0.14632901797290163 {'max_depth': 12, 'min_samples_leaf': 18, 'min_samples_split': 20, 'n_estimators': 100}\n"
     ]
    }
   ],
   "source": [
    "param_grid = {'n_estimators' : [1,10, 100],\n",
    "              'max_depth' : [6, 8, 10, 12],\n",
    "              'min_samples_leaf' : [8, 12, 18],\n",
    "              'min_samples_split' : [8, 16, 20]\n",
    "}\n",
    "rf_grid_search = GridSearchCV(rf_reg, param_grid, scoring=\"neg_mean_squared_error\", cv=10, n_jobs=-1)\n",
    "rf_grid_search.fit(X_train, y_train)\n",
    "\n",
    "for mean_score, params in zip(rf_grid_search.cv_results_['mean_test_score'], rf_grid_search.cv_results_['params']):\n",
    "    print(np.sqrt((-rf_scores).mean()), params)"
   ]
  },
  {
   "cell_type": "code",
   "execution_count": 44,
   "id": "c046e5fa",
   "metadata": {
    "scrolled": false
   },
   "outputs": [
    {
     "data": {
      "text/plain": [
       "{'max_depth': 12,\n",
       " 'min_samples_leaf': 8,\n",
       " 'min_samples_split': 16,\n",
       " 'n_estimators': 100}"
      ]
     },
     "execution_count": 44,
     "metadata": {},
     "output_type": "execute_result"
    }
   ],
   "source": [
    "rf_grid_search.best_params_"
   ]
  },
  {
   "cell_type": "markdown",
   "id": "8edff4b0",
   "metadata": {},
   "source": [
    "### best\n",
    "0.14632901797290163 {'max_depth': 12, 'min_samples_leaf': 8, 'min_samples_split': 16, 'n_estimators': 100}\n",
    "\n",
    "**0.20->0.146**"
   ]
  },
  {
   "cell_type": "markdown",
   "id": "893cf229",
   "metadata": {},
   "source": [
    "### DecisionTree"
   ]
  },
  {
   "cell_type": "code",
   "execution_count": 53,
   "id": "e0d9274d",
   "metadata": {},
   "outputs": [],
   "source": [
    "tree_param_grid = {'min_impurity_decrease': [0.0001, 0.0002, 0.0003, 0.0004, 0.0005]}"
   ]
  },
  {
   "cell_type": "code",
   "execution_count": 54,
   "id": "a23e8c68",
   "metadata": {},
   "outputs": [],
   "source": [
    "tree_grid_search = GridSearchCV(tree_reg, tree_param_grid, scoring=\"neg_mean_squared_error\",cv=10, n_jobs=-1)\n",
    "tree_grid_search.fit(X_train, y_train)\n",
    "\n",
    "for mean_score, params in zip(tree_grid_search.cv_results_['mean_test_score'], tree_grid_search.cv_results_['params']):\n",
    "    print(np.sqrt((-tree_scores).mean()), params)"
   ]
  },
  {
   "cell_type": "code",
   "execution_count": 55,
   "id": "191700c1",
   "metadata": {},
   "outputs": [],
   "source": [
    "tree_grid_search.best_params_"
   ]
  },
  {
   "cell_type": "markdown",
   "id": "1b379eac",
   "metadata": {},
   "source": [
    "### XGB"
   ]
  },
  {
   "cell_type": "code",
   "execution_count": 56,
   "id": "3369dbfe",
   "metadata": {},
   "outputs": [],
   "source": [
    "xgb_param_grid = {'learning_rate': [1,0.1,0.01,0.001],\n",
    "              'n_estimators': [50, 100, 200, 500, 1000],\n",
    "              'max_depth' : [1,5,10,50]}"
   ]
  },
  {
   "cell_type": "code",
   "execution_count": null,
   "id": "f1770f40",
   "metadata": {},
   "outputs": [],
   "source": [
    "xgb_grid_search = GridSearchCV(xgb_reg, xgb_param_grid, scoring=\"neg_mean_squared_error\",cv=10, n_jobs=-1)\n",
    "xgb_grid_search.fit(X_train, y_train)\n",
    "\n",
    "for mean_score, params in zip(xgb_grid_search.cv_results_['mean_test_score'], xgb_grid_search.cv_results_['params']):\n",
    "    print(np.sqrt((-xgb_scores).mean()), params)"
   ]
  },
  {
   "cell_type": "code",
   "execution_count": null,
   "id": "4bc1bbf3",
   "metadata": {},
   "outputs": [],
   "source": [
    "xgb_grid_search.best_params_"
   ]
  },
  {
   "cell_type": "markdown",
   "id": "aab2514a",
   "metadata": {},
   "source": [
    "# 4. 검증"
   ]
  },
  {
   "cell_type": "code",
   "execution_count": null,
   "id": "646c3c69",
   "metadata": {},
   "outputs": [],
   "source": [
    "import statsmodels.api as sm"
   ]
  },
  {
   "cell_type": "code",
   "execution_count": null,
   "id": "889cdf1f",
   "metadata": {},
   "outputs": [],
   "source": [
    "X_train=sm.add_constant(X_train)\n",
    "model = sm.OLS(y_train, X_train).fit()\n",
    "model.summary()"
   ]
  }
 ],
 "metadata": {
  "kernelspec": {
   "display_name": "Python 3 (ipykernel)",
   "language": "python",
   "name": "python3"
  },
  "language_info": {
   "codemirror_mode": {
    "name": "ipython",
    "version": 3
   },
   "file_extension": ".py",
   "mimetype": "text/x-python",
   "name": "python",
   "nbconvert_exporter": "python",
   "pygments_lexer": "ipython3",
   "version": "3.9.12"
  }
 },
 "nbformat": 4,
 "nbformat_minor": 5
}
